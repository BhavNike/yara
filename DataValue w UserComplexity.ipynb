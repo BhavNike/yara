{
 "cells": [
  {
   "cell_type": "code",
   "execution_count": 73,
   "metadata": {},
   "outputs": [],
   "source": [
    "import numpy as np\n",
    "import pandas as pd\n",
    "import matplotlib.pyplot as plt\n",
    "import seaborn as sns\n",
    "import plotly.express as px\n",
    "import plotly.graph_objects as go"
   ]
  },
  {
   "cell_type": "markdown",
   "metadata": {},
   "source": [
    "### Importing Excel worksheet"
   ]
  },
  {
   "cell_type": "markdown",
   "metadata": {},
   "source": [
    "#### Looking at DataValue for FW with Value and priority (as defined by various teams) of information given by various Primary data points along with User complexity as provided by Design team. Note that UI/UX element complexity is a non-linear scale with steep increases in complexity levels"
   ]
  },
  {
   "cell_type": "code",
   "execution_count": 44,
   "metadata": {},
   "outputs": [
    {
     "data": {
      "text/html": [
       "<div>\n",
       "<style scoped>\n",
       "    .dataframe tbody tr th:only-of-type {\n",
       "        vertical-align: middle;\n",
       "    }\n",
       "\n",
       "    .dataframe tbody tr th {\n",
       "        vertical-align: top;\n",
       "    }\n",
       "\n",
       "    .dataframe thead th {\n",
       "        text-align: right;\n",
       "    }\n",
       "</style>\n",
       "<table border=\"1\" class=\"dataframe\">\n",
       "  <thead>\n",
       "    <tr style=\"text-align: right;\">\n",
       "      <th></th>\n",
       "      <th>Value ID</th>\n",
       "      <th>Benefit / Value / User Stories</th>\n",
       "      <th>Priority \\n(high / low / medium)</th>\n",
       "      <th>Team</th>\n",
       "      <th>Primary data dependency \\n(unique identifier for data)</th>\n",
       "      <th>Farmer profile attribute</th>\n",
       "      <th>UI/UX element  Complexity ( 1 Easy - 5 hard)</th>\n",
       "    </tr>\n",
       "  </thead>\n",
       "  <tbody>\n",
       "    <tr>\n",
       "      <th>0</th>\n",
       "      <td>fertilizer_appln</td>\n",
       "      <td>Fertilizer application and timing</td>\n",
       "      <td>High</td>\n",
       "      <td>DA</td>\n",
       "      <td>date of sowing</td>\n",
       "      <td>sowing_date</td>\n",
       "      <td>4</td>\n",
       "    </tr>\n",
       "    <tr>\n",
       "      <th>1</th>\n",
       "      <td>pest_n_disease</td>\n",
       "      <td>Frequency of pest/disease diagnosis and contro...</td>\n",
       "      <td>High</td>\n",
       "      <td>DA</td>\n",
       "      <td>date of sowing</td>\n",
       "      <td>sowing_date</td>\n",
       "      <td>4</td>\n",
       "    </tr>\n",
       "    <tr>\n",
       "      <th>2</th>\n",
       "      <td>crop_modelling</td>\n",
       "      <td>Important for DLCC and NCLIP</td>\n",
       "      <td>High</td>\n",
       "      <td>DA</td>\n",
       "      <td>date of sowing</td>\n",
       "      <td>sowing_date</td>\n",
       "      <td>4</td>\n",
       "    </tr>\n",
       "    <tr>\n",
       "      <th>3</th>\n",
       "      <td>crop_modelling</td>\n",
       "      <td>High value for product development and crop mo...</td>\n",
       "      <td>High</td>\n",
       "      <td>Soln</td>\n",
       "      <td>date of sowing</td>\n",
       "      <td>sowing_date</td>\n",
       "      <td>4</td>\n",
       "    </tr>\n",
       "    <tr>\n",
       "      <th>4</th>\n",
       "      <td>prdt_develop</td>\n",
       "      <td>High value for product development and crop mo...</td>\n",
       "      <td>High</td>\n",
       "      <td>Soln</td>\n",
       "      <td>date of sowing</td>\n",
       "      <td>sowing_date</td>\n",
       "      <td>4</td>\n",
       "    </tr>\n",
       "  </tbody>\n",
       "</table>\n",
       "</div>"
      ],
      "text/plain": [
       "           Value ID                     Benefit / Value / User Stories  \\\n",
       "0  fertilizer_appln                  Fertilizer application and timing   \n",
       "1    pest_n_disease  Frequency of pest/disease diagnosis and contro...   \n",
       "2    crop_modelling                       Important for DLCC and NCLIP   \n",
       "3    crop_modelling  High value for product development and crop mo...   \n",
       "4      prdt_develop  High value for product development and crop mo...   \n",
       "\n",
       "   Priority \\n(high / low / medium)  Team  \\\n",
       "0                              High    DA   \n",
       "1                              High    DA   \n",
       "2                              High    DA   \n",
       "3                              High  Soln   \n",
       "4                              High  Soln   \n",
       "\n",
       "  Primary data dependency \\n(unique identifier for data)  \\\n",
       "0                                     date of sowing       \n",
       "1                                     date of sowing       \n",
       "2                                     date of sowing       \n",
       "3                                     date of sowing       \n",
       "4                                     date of sowing       \n",
       "\n",
       "  Farmer profile attribute  UI/UX element  Complexity ( 1 Easy - 5 hard)  \n",
       "0              sowing_date                                             4  \n",
       "1              sowing_date                                             4  \n",
       "2              sowing_date                                             4  \n",
       "3              sowing_date                                             4  \n",
       "4              sowing_date                                             4  "
      ]
     },
     "execution_count": 44,
     "metadata": {},
     "output_type": "execute_result"
    }
   ],
   "source": [
    "#setting to view all rows adn columns\n",
    "pd.set_option('display.max_columns', None)\n",
    "pd.set_option('display.max_rows', None)\n",
    "\n",
    "#reading excel sheet 'Value Master Data'\n",
    "df_datavalue=pd.read_excel('DataValue.FW.16Jun20.xlsx', sheet_name='Value Master Data', usecols= 'A:G')\n",
    "df_datavalue.head()"
   ]
  },
  {
   "cell_type": "code",
   "execution_count": 45,
   "metadata": {},
   "outputs": [
    {
     "data": {
      "text/plain": [
       "Index(['Value ID', 'Benefit / Value / User Stories',\n",
       "       ' Priority \\n(high / low / medium)', 'Team',\n",
       "       'Primary data dependency \\n(unique identifier for data)',\n",
       "       'Farmer profile attribute',\n",
       "       'UI/UX element  Complexity ( 1 Easy - 5 hard)'],\n",
       "      dtype='object')"
      ]
     },
     "execution_count": 45,
     "metadata": {},
     "output_type": "execute_result"
    }
   ],
   "source": [
    "#names of columns\n",
    "df_datavalue.columns"
   ]
  },
  {
   "cell_type": "code",
   "execution_count": 46,
   "metadata": {},
   "outputs": [
    {
     "data": {
      "text/html": [
       "<div>\n",
       "<style scoped>\n",
       "    .dataframe tbody tr th:only-of-type {\n",
       "        vertical-align: middle;\n",
       "    }\n",
       "\n",
       "    .dataframe tbody tr th {\n",
       "        vertical-align: top;\n",
       "    }\n",
       "\n",
       "    .dataframe thead th {\n",
       "        text-align: right;\n",
       "    }\n",
       "</style>\n",
       "<table border=\"1\" class=\"dataframe\">\n",
       "  <thead>\n",
       "    <tr style=\"text-align: right;\">\n",
       "      <th></th>\n",
       "      <th>Value ID</th>\n",
       "      <th>Value</th>\n",
       "      <th>Priority</th>\n",
       "      <th>Team</th>\n",
       "      <th>Primary_data</th>\n",
       "      <th>Farmer_profile_attribute</th>\n",
       "      <th>UI_UX complexity</th>\n",
       "    </tr>\n",
       "  </thead>\n",
       "  <tbody>\n",
       "    <tr>\n",
       "      <th>0</th>\n",
       "      <td>fertilizer_appln</td>\n",
       "      <td>Fertilizer application and timing</td>\n",
       "      <td>High</td>\n",
       "      <td>DA</td>\n",
       "      <td>date of sowing</td>\n",
       "      <td>sowing_date</td>\n",
       "      <td>4</td>\n",
       "    </tr>\n",
       "    <tr>\n",
       "      <th>1</th>\n",
       "      <td>pest_n_disease</td>\n",
       "      <td>Frequency of pest/disease diagnosis and contro...</td>\n",
       "      <td>High</td>\n",
       "      <td>DA</td>\n",
       "      <td>date of sowing</td>\n",
       "      <td>sowing_date</td>\n",
       "      <td>4</td>\n",
       "    </tr>\n",
       "    <tr>\n",
       "      <th>2</th>\n",
       "      <td>crop_modelling</td>\n",
       "      <td>Important for DLCC and NCLIP</td>\n",
       "      <td>High</td>\n",
       "      <td>DA</td>\n",
       "      <td>date of sowing</td>\n",
       "      <td>sowing_date</td>\n",
       "      <td>4</td>\n",
       "    </tr>\n",
       "    <tr>\n",
       "      <th>3</th>\n",
       "      <td>crop_modelling</td>\n",
       "      <td>High value for product development and crop mo...</td>\n",
       "      <td>High</td>\n",
       "      <td>Soln</td>\n",
       "      <td>date of sowing</td>\n",
       "      <td>sowing_date</td>\n",
       "      <td>4</td>\n",
       "    </tr>\n",
       "    <tr>\n",
       "      <th>4</th>\n",
       "      <td>prdt_develop</td>\n",
       "      <td>High value for product development and crop mo...</td>\n",
       "      <td>High</td>\n",
       "      <td>Soln</td>\n",
       "      <td>date of sowing</td>\n",
       "      <td>sowing_date</td>\n",
       "      <td>4</td>\n",
       "    </tr>\n",
       "  </tbody>\n",
       "</table>\n",
       "</div>"
      ],
      "text/plain": [
       "           Value ID                                              Value  \\\n",
       "0  fertilizer_appln                  Fertilizer application and timing   \n",
       "1    pest_n_disease  Frequency of pest/disease diagnosis and contro...   \n",
       "2    crop_modelling                       Important for DLCC and NCLIP   \n",
       "3    crop_modelling  High value for product development and crop mo...   \n",
       "4      prdt_develop  High value for product development and crop mo...   \n",
       "\n",
       "  Priority  Team    Primary_data Farmer_profile_attribute  UI_UX complexity  \n",
       "0     High    DA  date of sowing              sowing_date                 4  \n",
       "1     High    DA  date of sowing              sowing_date                 4  \n",
       "2     High    DA  date of sowing              sowing_date                 4  \n",
       "3     High  Soln  date of sowing              sowing_date                 4  \n",
       "4     High  Soln  date of sowing              sowing_date                 4  "
      ]
     },
     "execution_count": 46,
     "metadata": {},
     "output_type": "execute_result"
    }
   ],
   "source": [
    "#renaming columns\n",
    "df_dv=df_datavalue.rename(columns={'Benefit / Value / User Stories': 'Value',\n",
    "       ' Priority \\n(high / low / medium)':'Priority',\n",
    "       'Primary data dependency \\n(unique identifier for data)': 'Primary_data',\n",
    "       'Farmer profile attribute': 'Farmer_profile_attribute', \n",
    "        'UI/UX element  Complexity ( 1 Easy - 5 hard)': 'UI_UX complexity'})\n",
    "df_dv.head()"
   ]
  },
  {
   "cell_type": "markdown",
   "metadata": {},
   "source": [
    "### Details of dataframe:\n",
    "    - Value ID (buckets created by me based on Value highlighted by the Team as mentioned in the 'Value' column)\n",
    "    - Priority as listed by the Team\n",
    "    - Farmer_profile_attribute is linked to the Primary_data (which is from the original data collection template)\n",
    "    - UI_UX complexity ranks complexity on a non-linear scale of 1 (Easy) - 5 (Hard)\n",
    "    \n"
   ]
  },
  {
   "cell_type": "code",
   "execution_count": 47,
   "metadata": {},
   "outputs": [
    {
     "name": "stdout",
     "output_type": "stream",
     "text": [
      "<class 'pandas.core.frame.DataFrame'>\n",
      "RangeIndex: 110 entries, 0 to 109\n",
      "Data columns (total 7 columns):\n",
      " #   Column                    Non-Null Count  Dtype \n",
      "---  ------                    --------------  ----- \n",
      " 0   Value ID                  107 non-null    object\n",
      " 1   Value                     109 non-null    object\n",
      " 2   Priority                  110 non-null    object\n",
      " 3   Team                      110 non-null    object\n",
      " 4   Primary_data              110 non-null    object\n",
      " 5   Farmer_profile_attribute  110 non-null    object\n",
      " 6   UI_UX complexity          110 non-null    int64 \n",
      "dtypes: int64(1), object(6)\n",
      "memory usage: 6.1+ KB\n"
     ]
    }
   ],
   "source": [
    "# looking at null values\n",
    "df_dv.info()"
   ]
  },
  {
   "cell_type": "code",
   "execution_count": 48,
   "metadata": {},
   "outputs": [
    {
     "data": {
      "text/plain": [
       "gnc_gtm_mktg           20\n",
       "fertilizer_purchase    16\n",
       "user_behaviour         13\n",
       "prdt_develop           12\n",
       "fertilizer_appln        7\n",
       "impact_assess           7\n",
       "partner_info            6\n",
       "seed_selection          5\n",
       "crop_market             4\n",
       "crop_modelling          4\n",
       "farmer_finance          4\n",
       "pest_n_disease          3\n",
       "blank                   3\n",
       "lead_generation         2\n",
       "soil_health             2\n",
       "content_mgmt            2\n",
       "Name: Value ID, dtype: int64"
      ]
     },
     "execution_count": 48,
     "metadata": {},
     "output_type": "execute_result"
    }
   ],
   "source": [
    "#handling blanks in Value ID column\n",
    "df_dv['Value ID'].fillna('blank', inplace=True)\n",
    "df_dv['Value ID'].value_counts()"
   ]
  },
  {
   "cell_type": "code",
   "execution_count": 49,
   "metadata": {},
   "outputs": [
    {
     "data": {
      "text/html": [
       "<div>\n",
       "<style scoped>\n",
       "    .dataframe tbody tr th:only-of-type {\n",
       "        vertical-align: middle;\n",
       "    }\n",
       "\n",
       "    .dataframe tbody tr th {\n",
       "        vertical-align: top;\n",
       "    }\n",
       "\n",
       "    .dataframe thead th {\n",
       "        text-align: right;\n",
       "    }\n",
       "</style>\n",
       "<table border=\"1\" class=\"dataframe\">\n",
       "  <thead>\n",
       "    <tr style=\"text-align: right;\">\n",
       "      <th></th>\n",
       "      <th>Value ID</th>\n",
       "      <th>Value</th>\n",
       "      <th>Priority</th>\n",
       "      <th>Team</th>\n",
       "      <th>Primary_data</th>\n",
       "      <th>Farmer_profile_attribute</th>\n",
       "      <th>UI_UX complexity</th>\n",
       "    </tr>\n",
       "  </thead>\n",
       "  <tbody>\n",
       "    <tr>\n",
       "      <th>0</th>\n",
       "      <td>fertilizer_appln</td>\n",
       "      <td>Fertilizer application and timing</td>\n",
       "      <td>3</td>\n",
       "      <td>DA</td>\n",
       "      <td>date of sowing</td>\n",
       "      <td>sowing_date</td>\n",
       "      <td>4</td>\n",
       "    </tr>\n",
       "    <tr>\n",
       "      <th>1</th>\n",
       "      <td>pest_n_disease</td>\n",
       "      <td>Frequency of pest/disease diagnosis and contro...</td>\n",
       "      <td>3</td>\n",
       "      <td>DA</td>\n",
       "      <td>date of sowing</td>\n",
       "      <td>sowing_date</td>\n",
       "      <td>4</td>\n",
       "    </tr>\n",
       "    <tr>\n",
       "      <th>2</th>\n",
       "      <td>crop_modelling</td>\n",
       "      <td>Important for DLCC and NCLIP</td>\n",
       "      <td>3</td>\n",
       "      <td>DA</td>\n",
       "      <td>date of sowing</td>\n",
       "      <td>sowing_date</td>\n",
       "      <td>4</td>\n",
       "    </tr>\n",
       "    <tr>\n",
       "      <th>3</th>\n",
       "      <td>crop_modelling</td>\n",
       "      <td>High value for product development and crop mo...</td>\n",
       "      <td>3</td>\n",
       "      <td>Soln</td>\n",
       "      <td>date of sowing</td>\n",
       "      <td>sowing_date</td>\n",
       "      <td>4</td>\n",
       "    </tr>\n",
       "    <tr>\n",
       "      <th>4</th>\n",
       "      <td>prdt_develop</td>\n",
       "      <td>High value for product development and crop mo...</td>\n",
       "      <td>3</td>\n",
       "      <td>Soln</td>\n",
       "      <td>date of sowing</td>\n",
       "      <td>sowing_date</td>\n",
       "      <td>4</td>\n",
       "    </tr>\n",
       "  </tbody>\n",
       "</table>\n",
       "</div>"
      ],
      "text/plain": [
       "           Value ID                                              Value  \\\n",
       "0  fertilizer_appln                  Fertilizer application and timing   \n",
       "1    pest_n_disease  Frequency of pest/disease diagnosis and contro...   \n",
       "2    crop_modelling                       Important for DLCC and NCLIP   \n",
       "3    crop_modelling  High value for product development and crop mo...   \n",
       "4      prdt_develop  High value for product development and crop mo...   \n",
       "\n",
       "   Priority  Team    Primary_data Farmer_profile_attribute  UI_UX complexity  \n",
       "0         3    DA  date of sowing              sowing_date                 4  \n",
       "1         3    DA  date of sowing              sowing_date                 4  \n",
       "2         3    DA  date of sowing              sowing_date                 4  \n",
       "3         3  Soln  date of sowing              sowing_date                 4  \n",
       "4         3  Soln  date of sowing              sowing_date                 4  "
      ]
     },
     "execution_count": 49,
     "metadata": {},
     "output_type": "execute_result"
    }
   ],
   "source": [
    "#converting text in column 'Priority' to ordinal scale\n",
    "mapping = {'High':3, 'high':3, 'Medium':2, 'Low':1, 'low' :1,'(blank)':0, np.nan : 0 }\n",
    "df_dv['Priority'] = df_dv['Priority'].apply(lambda x: mapping[x])\n",
    "df_dv.head()"
   ]
  },
  {
   "cell_type": "markdown",
   "metadata": {},
   "source": [
    "### Specifically looking at UI_UX complexity and Priority to target datapoints with High /Medium priority and Low UI/UX complexity"
   ]
  },
  {
   "cell_type": "code",
   "execution_count": 50,
   "metadata": {
    "scrolled": true
   },
   "outputs": [
    {
     "data": {
      "text/plain": [
       "3    69\n",
       "2    20\n",
       "1    18\n",
       "0     3\n",
       "Name: Priority, dtype: int64"
      ]
     },
     "execution_count": 50,
     "metadata": {},
     "output_type": "execute_result"
    }
   ],
   "source": [
    "df_dv['Priority'].sort_values(ascending=False).value_counts()"
   ]
  },
  {
   "cell_type": "code",
   "execution_count": 51,
   "metadata": {
    "scrolled": true
   },
   "outputs": [
    {
     "data": {
      "text/plain": [
       "3    44\n",
       "2    36\n",
       "4    25\n",
       "1     5\n",
       "Name: UI_UX complexity, dtype: int64"
      ]
     },
     "execution_count": 51,
     "metadata": {},
     "output_type": "execute_result"
    }
   ],
   "source": [
    "df_dv['UI_UX complexity'].sort_values(ascending=False).value_counts()"
   ]
  },
  {
   "cell_type": "code",
   "execution_count": 52,
   "metadata": {},
   "outputs": [
    {
     "data": {
      "text/html": [
       "<div>\n",
       "<style scoped>\n",
       "    .dataframe tbody tr th:only-of-type {\n",
       "        vertical-align: middle;\n",
       "    }\n",
       "\n",
       "    .dataframe tbody tr th {\n",
       "        vertical-align: top;\n",
       "    }\n",
       "\n",
       "    .dataframe thead th {\n",
       "        text-align: right;\n",
       "    }\n",
       "</style>\n",
       "<table border=\"1\" class=\"dataframe\">\n",
       "  <thead>\n",
       "    <tr style=\"text-align: right;\">\n",
       "      <th></th>\n",
       "      <th>Value ID</th>\n",
       "      <th>Value</th>\n",
       "      <th>Priority</th>\n",
       "      <th>Team</th>\n",
       "      <th>Primary_data</th>\n",
       "      <th>Farmer_profile_attribute</th>\n",
       "      <th>UI_UX complexity</th>\n",
       "    </tr>\n",
       "  </thead>\n",
       "  <tbody>\n",
       "    <tr>\n",
       "      <th>60</th>\n",
       "      <td>gnc_gtm_mktg</td>\n",
       "      <td>Maybe useful to field team, not product team?</td>\n",
       "      <td>1</td>\n",
       "      <td>Soln</td>\n",
       "      <td>Has he bought Yara prdt in last season</td>\n",
       "      <td>yara_customer</td>\n",
       "      <td>1</td>\n",
       "    </tr>\n",
       "  </tbody>\n",
       "</table>\n",
       "</div>"
      ],
      "text/plain": [
       "        Value ID                                          Value  Priority  \\\n",
       "60  gnc_gtm_mktg  Maybe useful to field team, not product team?         1   \n",
       "\n",
       "    Team                            Primary_data Farmer_profile_attribute  \\\n",
       "60  Soln  Has he bought Yara prdt in last season            yara_customer   \n",
       "\n",
       "    UI_UX complexity  \n",
       "60                 1  "
      ]
     },
     "execution_count": 52,
     "metadata": {},
     "output_type": "execute_result"
    }
   ],
   "source": [
    "#UI_UX complexity = 1 --> 5 items of which 1 has Priority = 1 \n",
    "\n",
    "df_dv[(df_dv['Priority']== 1) & (df_dv['UI_UX complexity']==1)]"
   ]
  },
  {
   "cell_type": "markdown",
   "metadata": {},
   "source": [
    "### There are 69 items of High Priority and 20 of Medium Priority. There are 5 items of rank 1 (lowest) UI/UX complexity and 36 in rank 2. Creating a subset of the original dataframe called 'df_dv_shortlist' - contains 33 rows"
   ]
  },
  {
   "cell_type": "code",
   "execution_count": 53,
   "metadata": {
    "scrolled": true
   },
   "outputs": [
    {
     "data": {
      "text/html": [
       "<div>\n",
       "<style scoped>\n",
       "    .dataframe tbody tr th:only-of-type {\n",
       "        vertical-align: middle;\n",
       "    }\n",
       "\n",
       "    .dataframe tbody tr th {\n",
       "        vertical-align: top;\n",
       "    }\n",
       "\n",
       "    .dataframe thead th {\n",
       "        text-align: right;\n",
       "    }\n",
       "</style>\n",
       "<table border=\"1\" class=\"dataframe\">\n",
       "  <thead>\n",
       "    <tr style=\"text-align: right;\">\n",
       "      <th></th>\n",
       "      <th>Value ID</th>\n",
       "      <th>Value</th>\n",
       "      <th>Priority</th>\n",
       "      <th>Team</th>\n",
       "      <th>Primary_data</th>\n",
       "      <th>Farmer_profile_attribute</th>\n",
       "      <th>UI_UX complexity</th>\n",
       "    </tr>\n",
       "  </thead>\n",
       "  <tbody>\n",
       "    <tr>\n",
       "      <th>32</th>\n",
       "      <td>fertilizer_appln</td>\n",
       "      <td>Size/area of farm determines the volume of fer...</td>\n",
       "      <td>3</td>\n",
       "      <td>DA</td>\n",
       "      <td>what info would help user most? top 3 choices</td>\n",
       "      <td>farming_topic</td>\n",
       "      <td>2</td>\n",
       "    </tr>\n",
       "    <tr>\n",
       "      <th>65</th>\n",
       "      <td>fertilizer_purchase</td>\n",
       "      <td>what farmers are getting and price destruction</td>\n",
       "      <td>3</td>\n",
       "      <td>Prdt Sales</td>\n",
       "      <td>actual price farmer paid for Yara or non-Yara ...</td>\n",
       "      <td>fertilizer_price</td>\n",
       "      <td>2</td>\n",
       "    </tr>\n",
       "    <tr>\n",
       "      <th>104</th>\n",
       "      <td>crop_market</td>\n",
       "      <td>Starting to map out the ecosystem and suggesti...</td>\n",
       "      <td>3</td>\n",
       "      <td>GnC</td>\n",
       "      <td>name of town/market he normally sells at</td>\n",
       "      <td>market_location</td>\n",
       "      <td>2</td>\n",
       "    </tr>\n",
       "    <tr>\n",
       "      <th>103</th>\n",
       "      <td>crop_market</td>\n",
       "      <td>Marketplace knowledge for local marketing and ...</td>\n",
       "      <td>3</td>\n",
       "      <td>Prdt Sales</td>\n",
       "      <td>name of town/market he normally sells at</td>\n",
       "      <td>market_location</td>\n",
       "      <td>2</td>\n",
       "    </tr>\n",
       "    <tr>\n",
       "      <th>102</th>\n",
       "      <td>fertilizer_purchase</td>\n",
       "      <td>This whole section is very useful from a produ...</td>\n",
       "      <td>3</td>\n",
       "      <td>Soln</td>\n",
       "      <td>name of town/market he normally sells at</td>\n",
       "      <td>market_location</td>\n",
       "      <td>2</td>\n",
       "    </tr>\n",
       "    <tr>\n",
       "      <th>100</th>\n",
       "      <td>partner_info</td>\n",
       "      <td>Key companies to work with for local team and DF</td>\n",
       "      <td>3</td>\n",
       "      <td>Prdt Sales</td>\n",
       "      <td>Name of contract buyer</td>\n",
       "      <td>buyer_name</td>\n",
       "      <td>2</td>\n",
       "    </tr>\n",
       "    <tr>\n",
       "      <th>99</th>\n",
       "      <td>fertilizer_purchase</td>\n",
       "      <td>This whole section is very useful from a produ...</td>\n",
       "      <td>3</td>\n",
       "      <td>Soln</td>\n",
       "      <td>Name of contract buyer</td>\n",
       "      <td>buyer_name</td>\n",
       "      <td>2</td>\n",
       "    </tr>\n",
       "    <tr>\n",
       "      <th>98</th>\n",
       "      <td>user_behaviour</td>\n",
       "      <td>Understand user persona/profile so that we hav...</td>\n",
       "      <td>3</td>\n",
       "      <td>GnC</td>\n",
       "      <td>Is he a contract farmer?</td>\n",
       "      <td>contract_farmer</td>\n",
       "      <td>2</td>\n",
       "    </tr>\n",
       "    <tr>\n",
       "      <th>97</th>\n",
       "      <td>crop_market</td>\n",
       "      <td>Marketplace linked or not</td>\n",
       "      <td>3</td>\n",
       "      <td>Prdt Sales</td>\n",
       "      <td>Is he a contract farmer?</td>\n",
       "      <td>contract_farmer</td>\n",
       "      <td>2</td>\n",
       "    </tr>\n",
       "    <tr>\n",
       "      <th>96</th>\n",
       "      <td>fertilizer_purchase</td>\n",
       "      <td>This whole section is very useful from a produ...</td>\n",
       "      <td>3</td>\n",
       "      <td>Soln</td>\n",
       "      <td>Is he a contract farmer?</td>\n",
       "      <td>contract_farmer</td>\n",
       "      <td>2</td>\n",
       "    </tr>\n",
       "    <tr>\n",
       "      <th>87</th>\n",
       "      <td>lead_generation</td>\n",
       "      <td>good for cross-selling and lead generation</td>\n",
       "      <td>3</td>\n",
       "      <td>DS Analyst</td>\n",
       "      <td>other Yara apps he has heard about</td>\n",
       "      <td>user_apps</td>\n",
       "      <td>2</td>\n",
       "    </tr>\n",
       "    <tr>\n",
       "      <th>70</th>\n",
       "      <td>user_behaviour</td>\n",
       "      <td>what is it about the app that engages the farm...</td>\n",
       "      <td>3</td>\n",
       "      <td>DS Analyst</td>\n",
       "      <td>popular apps he uses</td>\n",
       "      <td>user_apps</td>\n",
       "      <td>2</td>\n",
       "    </tr>\n",
       "    <tr>\n",
       "      <th>69</th>\n",
       "      <td>fertilizer_purchase</td>\n",
       "      <td>This will help product team to plan for future...</td>\n",
       "      <td>3</td>\n",
       "      <td>GnC</td>\n",
       "      <td>how he makes payments (paytm, cash, bank accou...</td>\n",
       "      <td>payment_mode</td>\n",
       "      <td>2</td>\n",
       "    </tr>\n",
       "    <tr>\n",
       "      <th>67</th>\n",
       "      <td>farmer_finance</td>\n",
       "      <td>Extremely high value if expanded to cover more...</td>\n",
       "      <td>3</td>\n",
       "      <td>Soln</td>\n",
       "      <td>how he makes payments (paytm, cash, bank accou...</td>\n",
       "      <td>payment_mode</td>\n",
       "      <td>2</td>\n",
       "    </tr>\n",
       "    <tr>\n",
       "      <th>68</th>\n",
       "      <td>fertilizer_purchase</td>\n",
       "      <td>what farmers are getting and price destruction</td>\n",
       "      <td>3</td>\n",
       "      <td>Prdt Sales</td>\n",
       "      <td>how he makes payments (paytm, cash, bank accou...</td>\n",
       "      <td>payment_mode</td>\n",
       "      <td>2</td>\n",
       "    </tr>\n",
       "    <tr>\n",
       "      <th>56</th>\n",
       "      <td>fertilizer_purchase</td>\n",
       "      <td>what farmers are getting and price destruction</td>\n",
       "      <td>3</td>\n",
       "      <td>Prdt Sales</td>\n",
       "      <td>brands he generally buys</td>\n",
       "      <td>fertilizer_brand</td>\n",
       "      <td>2</td>\n",
       "    </tr>\n",
       "    <tr>\n",
       "      <th>58</th>\n",
       "      <td>gnc_gtm_mktg</td>\n",
       "      <td>Best Yara Product portfolio - useful for Yarac...</td>\n",
       "      <td>3</td>\n",
       "      <td>DA</td>\n",
       "      <td>Has he bought Yara prdt in last season</td>\n",
       "      <td>yara_customer</td>\n",
       "      <td>1</td>\n",
       "    </tr>\n",
       "    <tr>\n",
       "      <th>35</th>\n",
       "      <td>gnc_gtm_mktg</td>\n",
       "      <td>Campaigns can be focused on what us the most h...</td>\n",
       "      <td>3</td>\n",
       "      <td>GnC</td>\n",
       "      <td>what info would help user most? top 3 choices</td>\n",
       "      <td>farming_topic</td>\n",
       "      <td>2</td>\n",
       "    </tr>\n",
       "    <tr>\n",
       "      <th>50</th>\n",
       "      <td>user_behaviour</td>\n",
       "      <td>Brands used</td>\n",
       "      <td>3</td>\n",
       "      <td>Prdt Sales</td>\n",
       "      <td>does he buy generic / branded</td>\n",
       "      <td>fertilizer_brand</td>\n",
       "      <td>2</td>\n",
       "    </tr>\n",
       "    <tr>\n",
       "      <th>52</th>\n",
       "      <td>user_behaviour</td>\n",
       "      <td>Whether Yara user or not</td>\n",
       "      <td>3</td>\n",
       "      <td>DA</td>\n",
       "      <td>brands he generally buys</td>\n",
       "      <td>fertilizer_brand</td>\n",
       "      <td>2</td>\n",
       "    </tr>\n",
       "    <tr>\n",
       "      <th>53</th>\n",
       "      <td>gnc_gtm_mktg</td>\n",
       "      <td>Common brands</td>\n",
       "      <td>3</td>\n",
       "      <td>DA</td>\n",
       "      <td>brands he generally buys</td>\n",
       "      <td>fertilizer_brand</td>\n",
       "      <td>2</td>\n",
       "    </tr>\n",
       "    <tr>\n",
       "      <th>54</th>\n",
       "      <td>gnc_gtm_mktg</td>\n",
       "      <td>this would be good for value generation, can w...</td>\n",
       "      <td>3</td>\n",
       "      <td>DS Analyst</td>\n",
       "      <td>brands he generally buys</td>\n",
       "      <td>fertilizer_brand</td>\n",
       "      <td>2</td>\n",
       "    </tr>\n",
       "    <tr>\n",
       "      <th>105</th>\n",
       "      <td>partner_info</td>\n",
       "      <td>Starting to map out the ecosystem and suggesti...</td>\n",
       "      <td>3</td>\n",
       "      <td>GnC</td>\n",
       "      <td>name of town/market he normally sells at</td>\n",
       "      <td>market_location</td>\n",
       "      <td>2</td>\n",
       "    </tr>\n",
       "    <tr>\n",
       "      <th>59</th>\n",
       "      <td>fertilizer_purchase</td>\n",
       "      <td>can be an indication of customer loyalty, use ...</td>\n",
       "      <td>3</td>\n",
       "      <td>DS Analyst</td>\n",
       "      <td>Has he bought Yara prdt in last season</td>\n",
       "      <td>yara_customer</td>\n",
       "      <td>1</td>\n",
       "    </tr>\n",
       "    <tr>\n",
       "      <th>61</th>\n",
       "      <td>fertilizer_purchase</td>\n",
       "      <td>what farmers are getting and price destruction</td>\n",
       "      <td>3</td>\n",
       "      <td>Prdt Sales</td>\n",
       "      <td>Has he bought Yara prdt in last season</td>\n",
       "      <td>yara_customer</td>\n",
       "      <td>1</td>\n",
       "    </tr>\n",
       "    <tr>\n",
       "      <th>62</th>\n",
       "      <td>user_behaviour</td>\n",
       "      <td>Understand user persona/profile so that we hav...</td>\n",
       "      <td>3</td>\n",
       "      <td>GnC</td>\n",
       "      <td>Has he bought Yara prdt in last season</td>\n",
       "      <td>yara_customer</td>\n",
       "      <td>1</td>\n",
       "    </tr>\n",
       "    <tr>\n",
       "      <th>89</th>\n",
       "      <td>lead_generation</td>\n",
       "      <td>Understand portfolio awareness and whats worki...</td>\n",
       "      <td>2</td>\n",
       "      <td>GnC</td>\n",
       "      <td>other Yara apps he has heard about</td>\n",
       "      <td>user_apps</td>\n",
       "      <td>2</td>\n",
       "    </tr>\n",
       "    <tr>\n",
       "      <th>33</th>\n",
       "      <td>gnc_gtm_mktg</td>\n",
       "      <td>Purchasing power of farmer</td>\n",
       "      <td>2</td>\n",
       "      <td>DA</td>\n",
       "      <td>what info would help user most? top 3 choices</td>\n",
       "      <td>farming_topic</td>\n",
       "      <td>2</td>\n",
       "    </tr>\n",
       "    <tr>\n",
       "      <th>72</th>\n",
       "      <td>gnc_gtm_mktg</td>\n",
       "      <td>We can analyse the GTM strategy those apps use...</td>\n",
       "      <td>2</td>\n",
       "      <td>GnC</td>\n",
       "      <td>popular apps he uses</td>\n",
       "      <td>user_apps</td>\n",
       "      <td>2</td>\n",
       "    </tr>\n",
       "    <tr>\n",
       "      <th>71</th>\n",
       "      <td>prdt_develop</td>\n",
       "      <td>medium value as helps inform design requiremen...</td>\n",
       "      <td>2</td>\n",
       "      <td>Soln</td>\n",
       "      <td>popular apps he uses</td>\n",
       "      <td>user_apps</td>\n",
       "      <td>2</td>\n",
       "    </tr>\n",
       "    <tr>\n",
       "      <th>101</th>\n",
       "      <td>partner_info</td>\n",
       "      <td>Potential partnerships</td>\n",
       "      <td>2</td>\n",
       "      <td>GnC</td>\n",
       "      <td>Name of contract buyer</td>\n",
       "      <td>buyer_name</td>\n",
       "      <td>2</td>\n",
       "    </tr>\n",
       "    <tr>\n",
       "      <th>49</th>\n",
       "      <td>user_behaviour</td>\n",
       "      <td>Consumer preference</td>\n",
       "      <td>2</td>\n",
       "      <td>DA</td>\n",
       "      <td>does he buy generic / branded</td>\n",
       "      <td>fertilizer_brand</td>\n",
       "      <td>2</td>\n",
       "    </tr>\n",
       "    <tr>\n",
       "      <th>63</th>\n",
       "      <td>farmer_finance</td>\n",
       "      <td>Cost-benefit analysis and profitability (can b...</td>\n",
       "      <td>2</td>\n",
       "      <td>DA</td>\n",
       "      <td>actual price farmer paid for Yara or non-Yara ...</td>\n",
       "      <td>fertilizer_price</td>\n",
       "      <td>2</td>\n",
       "    </tr>\n",
       "  </tbody>\n",
       "</table>\n",
       "</div>"
      ],
      "text/plain": [
       "                Value ID                                              Value  \\\n",
       "32      fertilizer_appln  Size/area of farm determines the volume of fer...   \n",
       "65   fertilizer_purchase     what farmers are getting and price destruction   \n",
       "104          crop_market  Starting to map out the ecosystem and suggesti...   \n",
       "103          crop_market  Marketplace knowledge for local marketing and ...   \n",
       "102  fertilizer_purchase  This whole section is very useful from a produ...   \n",
       "100         partner_info   Key companies to work with for local team and DF   \n",
       "99   fertilizer_purchase  This whole section is very useful from a produ...   \n",
       "98        user_behaviour  Understand user persona/profile so that we hav...   \n",
       "97           crop_market                          Marketplace linked or not   \n",
       "96   fertilizer_purchase  This whole section is very useful from a produ...   \n",
       "87       lead_generation         good for cross-selling and lead generation   \n",
       "70        user_behaviour  what is it about the app that engages the farm...   \n",
       "69   fertilizer_purchase  This will help product team to plan for future...   \n",
       "67        farmer_finance  Extremely high value if expanded to cover more...   \n",
       "68   fertilizer_purchase     what farmers are getting and price destruction   \n",
       "56   fertilizer_purchase     what farmers are getting and price destruction   \n",
       "58          gnc_gtm_mktg  Best Yara Product portfolio - useful for Yarac...   \n",
       "35          gnc_gtm_mktg  Campaigns can be focused on what us the most h...   \n",
       "50        user_behaviour                                        Brands used   \n",
       "52        user_behaviour                           Whether Yara user or not   \n",
       "53          gnc_gtm_mktg                                      Common brands   \n",
       "54          gnc_gtm_mktg  this would be good for value generation, can w...   \n",
       "105         partner_info  Starting to map out the ecosystem and suggesti...   \n",
       "59   fertilizer_purchase  can be an indication of customer loyalty, use ...   \n",
       "61   fertilizer_purchase     what farmers are getting and price destruction   \n",
       "62        user_behaviour  Understand user persona/profile so that we hav...   \n",
       "89       lead_generation  Understand portfolio awareness and whats worki...   \n",
       "33          gnc_gtm_mktg                         Purchasing power of farmer   \n",
       "72          gnc_gtm_mktg  We can analyse the GTM strategy those apps use...   \n",
       "71          prdt_develop  medium value as helps inform design requiremen...   \n",
       "101         partner_info                             Potential partnerships   \n",
       "49        user_behaviour                                Consumer preference   \n",
       "63        farmer_finance  Cost-benefit analysis and profitability (can b...   \n",
       "\n",
       "     Priority        Team                                       Primary_data  \\\n",
       "32          3          DA      what info would help user most? top 3 choices   \n",
       "65          3  Prdt Sales  actual price farmer paid for Yara or non-Yara ...   \n",
       "104         3         GnC           name of town/market he normally sells at   \n",
       "103         3  Prdt Sales           name of town/market he normally sells at   \n",
       "102         3        Soln           name of town/market he normally sells at   \n",
       "100         3  Prdt Sales                             Name of contract buyer   \n",
       "99          3        Soln                             Name of contract buyer   \n",
       "98          3         GnC                           Is he a contract farmer?   \n",
       "97          3  Prdt Sales                           Is he a contract farmer?   \n",
       "96          3        Soln                           Is he a contract farmer?   \n",
       "87          3  DS Analyst                 other Yara apps he has heard about   \n",
       "70          3  DS Analyst                               popular apps he uses   \n",
       "69          3         GnC  how he makes payments (paytm, cash, bank accou...   \n",
       "67          3        Soln  how he makes payments (paytm, cash, bank accou...   \n",
       "68          3  Prdt Sales  how he makes payments (paytm, cash, bank accou...   \n",
       "56          3  Prdt Sales                           brands he generally buys   \n",
       "58          3          DA             Has he bought Yara prdt in last season   \n",
       "35          3         GnC      what info would help user most? top 3 choices   \n",
       "50          3  Prdt Sales                      does he buy generic / branded   \n",
       "52          3          DA                           brands he generally buys   \n",
       "53          3          DA                           brands he generally buys   \n",
       "54          3  DS Analyst                           brands he generally buys   \n",
       "105         3         GnC           name of town/market he normally sells at   \n",
       "59          3  DS Analyst             Has he bought Yara prdt in last season   \n",
       "61          3  Prdt Sales             Has he bought Yara prdt in last season   \n",
       "62          3         GnC             Has he bought Yara prdt in last season   \n",
       "89          2         GnC                 other Yara apps he has heard about   \n",
       "33          2          DA      what info would help user most? top 3 choices   \n",
       "72          2         GnC                               popular apps he uses   \n",
       "71          2        Soln                               popular apps he uses   \n",
       "101         2         GnC                             Name of contract buyer   \n",
       "49          2          DA                      does he buy generic / branded   \n",
       "63          2          DA  actual price farmer paid for Yara or non-Yara ...   \n",
       "\n",
       "    Farmer_profile_attribute  UI_UX complexity  \n",
       "32             farming_topic                 2  \n",
       "65          fertilizer_price                 2  \n",
       "104          market_location                 2  \n",
       "103          market_location                 2  \n",
       "102          market_location                 2  \n",
       "100               buyer_name                 2  \n",
       "99                buyer_name                 2  \n",
       "98           contract_farmer                 2  \n",
       "97           contract_farmer                 2  \n",
       "96           contract_farmer                 2  \n",
       "87                 user_apps                 2  \n",
       "70                 user_apps                 2  \n",
       "69              payment_mode                 2  \n",
       "67              payment_mode                 2  \n",
       "68              payment_mode                 2  \n",
       "56          fertilizer_brand                 2  \n",
       "58             yara_customer                 1  \n",
       "35             farming_topic                 2  \n",
       "50          fertilizer_brand                 2  \n",
       "52          fertilizer_brand                 2  \n",
       "53          fertilizer_brand                 2  \n",
       "54          fertilizer_brand                 2  \n",
       "105          market_location                 2  \n",
       "59             yara_customer                 1  \n",
       "61             yara_customer                 1  \n",
       "62             yara_customer                 1  \n",
       "89                 user_apps                 2  \n",
       "33             farming_topic                 2  \n",
       "72                 user_apps                 2  \n",
       "71                 user_apps                 2  \n",
       "101               buyer_name                 2  \n",
       "49          fertilizer_brand                 2  \n",
       "63          fertilizer_price                 2  "
      ]
     },
     "execution_count": 53,
     "metadata": {},
     "output_type": "execute_result"
    }
   ],
   "source": [
    "# to shortlist datapoints that are HIGH in priority but LOW in UI_UX complexity (Rating of 1 OR 2)\n",
    "# filtering for this list\n",
    "df_dv_shortlist = df_dv[((df_dv['Priority']== 3)|(df_dv['Priority']== 2))\n",
    "                          & ((df_dv['UI_UX complexity']==1) |(df_dv['UI_UX complexity']==2))].sort_values('Priority', ascending=False)\n",
    "df_dv_shortlist"
   ]
  },
  {
   "cell_type": "code",
   "execution_count": 54,
   "metadata": {},
   "outputs": [
    {
     "data": {
      "text/plain": [
       "(33, 7)"
      ]
     },
     "execution_count": 54,
     "metadata": {},
     "output_type": "execute_result"
    }
   ],
   "source": [
    "df_dv_shortlist.shape"
   ]
  },
  {
   "cell_type": "code",
   "execution_count": 55,
   "metadata": {},
   "outputs": [
    {
     "data": {
      "text/plain": [
       "Index(['Value ID', 'Value', 'Priority', 'Team', 'Primary_data',\n",
       "       'Farmer_profile_attribute', 'UI_UX complexity'],\n",
       "      dtype='object')"
      ]
     },
     "execution_count": 55,
     "metadata": {},
     "output_type": "execute_result"
    }
   ],
   "source": [
    "df_dv_shortlist.columns"
   ]
  },
  {
   "cell_type": "code",
   "execution_count": 56,
   "metadata": {},
   "outputs": [
    {
     "data": {
      "text/plain": [
       "fertilizer_purchase    9\n",
       "gnc_gtm_mktg           6\n",
       "user_behaviour         6\n",
       "crop_market            3\n",
       "partner_info           3\n",
       "lead_generation        2\n",
       "farmer_finance         2\n",
       "fertilizer_appln       1\n",
       "prdt_develop           1\n",
       "Name: Value ID, dtype: int64"
      ]
     },
     "execution_count": 56,
     "metadata": {},
     "output_type": "execute_result"
    }
   ],
   "source": [
    "df_dv_shortlist['Value ID'].value_counts()"
   ]
  },
  {
   "cell_type": "code",
   "execution_count": 57,
   "metadata": {},
   "outputs": [
    {
     "data": {
      "text/html": [
       "<div>\n",
       "<style scoped>\n",
       "    .dataframe tbody tr th:only-of-type {\n",
       "        vertical-align: middle;\n",
       "    }\n",
       "\n",
       "    .dataframe tbody tr th {\n",
       "        vertical-align: top;\n",
       "    }\n",
       "\n",
       "    .dataframe thead tr th {\n",
       "        text-align: left;\n",
       "    }\n",
       "\n",
       "    .dataframe thead tr:last-of-type th {\n",
       "        text-align: right;\n",
       "    }\n",
       "</style>\n",
       "<table border=\"1\" class=\"dataframe\">\n",
       "  <thead>\n",
       "    <tr>\n",
       "      <th>Team</th>\n",
       "      <th colspan=\"2\" halign=\"left\">DA</th>\n",
       "      <th colspan=\"2\" halign=\"left\">DS Analyst</th>\n",
       "      <th colspan=\"2\" halign=\"left\">GnC</th>\n",
       "      <th colspan=\"2\" halign=\"left\">Prdt Sales</th>\n",
       "      <th>Soln</th>\n",
       "      <th>Number of datapoints</th>\n",
       "    </tr>\n",
       "    <tr>\n",
       "      <th>UI_UX complexity</th>\n",
       "      <th>1</th>\n",
       "      <th>2</th>\n",
       "      <th>1</th>\n",
       "      <th>2</th>\n",
       "      <th>1</th>\n",
       "      <th>2</th>\n",
       "      <th>1</th>\n",
       "      <th>2</th>\n",
       "      <th>2</th>\n",
       "      <th></th>\n",
       "    </tr>\n",
       "    <tr>\n",
       "      <th>Value ID</th>\n",
       "      <th></th>\n",
       "      <th></th>\n",
       "      <th></th>\n",
       "      <th></th>\n",
       "      <th></th>\n",
       "      <th></th>\n",
       "      <th></th>\n",
       "      <th></th>\n",
       "      <th></th>\n",
       "      <th></th>\n",
       "    </tr>\n",
       "  </thead>\n",
       "  <tbody>\n",
       "    <tr>\n",
       "      <th>fertilizer_purchase</th>\n",
       "      <td>0</td>\n",
       "      <td>0</td>\n",
       "      <td>1</td>\n",
       "      <td>0</td>\n",
       "      <td>0</td>\n",
       "      <td>1</td>\n",
       "      <td>1</td>\n",
       "      <td>3</td>\n",
       "      <td>3</td>\n",
       "      <td>9</td>\n",
       "    </tr>\n",
       "    <tr>\n",
       "      <th>gnc_gtm_mktg</th>\n",
       "      <td>1</td>\n",
       "      <td>2</td>\n",
       "      <td>0</td>\n",
       "      <td>1</td>\n",
       "      <td>0</td>\n",
       "      <td>2</td>\n",
       "      <td>0</td>\n",
       "      <td>0</td>\n",
       "      <td>0</td>\n",
       "      <td>6</td>\n",
       "    </tr>\n",
       "    <tr>\n",
       "      <th>user_behaviour</th>\n",
       "      <td>0</td>\n",
       "      <td>2</td>\n",
       "      <td>0</td>\n",
       "      <td>1</td>\n",
       "      <td>1</td>\n",
       "      <td>1</td>\n",
       "      <td>0</td>\n",
       "      <td>1</td>\n",
       "      <td>0</td>\n",
       "      <td>6</td>\n",
       "    </tr>\n",
       "    <tr>\n",
       "      <th>crop_market</th>\n",
       "      <td>0</td>\n",
       "      <td>0</td>\n",
       "      <td>0</td>\n",
       "      <td>0</td>\n",
       "      <td>0</td>\n",
       "      <td>1</td>\n",
       "      <td>0</td>\n",
       "      <td>2</td>\n",
       "      <td>0</td>\n",
       "      <td>3</td>\n",
       "    </tr>\n",
       "    <tr>\n",
       "      <th>partner_info</th>\n",
       "      <td>0</td>\n",
       "      <td>0</td>\n",
       "      <td>0</td>\n",
       "      <td>0</td>\n",
       "      <td>0</td>\n",
       "      <td>2</td>\n",
       "      <td>0</td>\n",
       "      <td>1</td>\n",
       "      <td>0</td>\n",
       "      <td>3</td>\n",
       "    </tr>\n",
       "    <tr>\n",
       "      <th>farmer_finance</th>\n",
       "      <td>0</td>\n",
       "      <td>1</td>\n",
       "      <td>0</td>\n",
       "      <td>0</td>\n",
       "      <td>0</td>\n",
       "      <td>0</td>\n",
       "      <td>0</td>\n",
       "      <td>0</td>\n",
       "      <td>1</td>\n",
       "      <td>2</td>\n",
       "    </tr>\n",
       "    <tr>\n",
       "      <th>lead_generation</th>\n",
       "      <td>0</td>\n",
       "      <td>0</td>\n",
       "      <td>0</td>\n",
       "      <td>1</td>\n",
       "      <td>0</td>\n",
       "      <td>1</td>\n",
       "      <td>0</td>\n",
       "      <td>0</td>\n",
       "      <td>0</td>\n",
       "      <td>2</td>\n",
       "    </tr>\n",
       "    <tr>\n",
       "      <th>fertilizer_appln</th>\n",
       "      <td>0</td>\n",
       "      <td>1</td>\n",
       "      <td>0</td>\n",
       "      <td>0</td>\n",
       "      <td>0</td>\n",
       "      <td>0</td>\n",
       "      <td>0</td>\n",
       "      <td>0</td>\n",
       "      <td>0</td>\n",
       "      <td>1</td>\n",
       "    </tr>\n",
       "    <tr>\n",
       "      <th>prdt_develop</th>\n",
       "      <td>0</td>\n",
       "      <td>0</td>\n",
       "      <td>0</td>\n",
       "      <td>0</td>\n",
       "      <td>0</td>\n",
       "      <td>0</td>\n",
       "      <td>0</td>\n",
       "      <td>0</td>\n",
       "      <td>1</td>\n",
       "      <td>1</td>\n",
       "    </tr>\n",
       "  </tbody>\n",
       "</table>\n",
       "</div>"
      ],
      "text/plain": [
       "Team                DA    DS Analyst    GnC    Prdt Sales    Soln  \\\n",
       "UI_UX complexity     1  2          1  2   1  2          1  2    2   \n",
       "Value ID                                                            \n",
       "fertilizer_purchase  0  0          1  0   0  1          1  3    3   \n",
       "gnc_gtm_mktg         1  2          0  1   0  2          0  0    0   \n",
       "user_behaviour       0  2          0  1   1  1          0  1    0   \n",
       "crop_market          0  0          0  0   0  1          0  2    0   \n",
       "partner_info         0  0          0  0   0  2          0  1    0   \n",
       "farmer_finance       0  1          0  0   0  0          0  0    1   \n",
       "lead_generation      0  0          0  1   0  1          0  0    0   \n",
       "fertilizer_appln     0  1          0  0   0  0          0  0    0   \n",
       "prdt_develop         0  0          0  0   0  0          0  0    1   \n",
       "\n",
       "Team                Number of datapoints  \n",
       "UI_UX complexity                          \n",
       "Value ID                                  \n",
       "fertilizer_purchase                    9  \n",
       "gnc_gtm_mktg                           6  \n",
       "user_behaviour                         6  \n",
       "crop_market                            3  \n",
       "partner_info                           3  \n",
       "farmer_finance                         2  \n",
       "lead_generation                        2  \n",
       "fertilizer_appln                       1  \n",
       "prdt_develop                           1  "
      ]
     },
     "execution_count": 57,
     "metadata": {},
     "output_type": "execute_result"
    }
   ],
   "source": [
    "# creating pivot table to look at spread of data-points\n",
    "\n",
    "df_dv_pivot = df_dv_shortlist.pivot_table(index=('Value ID'), columns=('Team', 'UI_UX complexity'), \n",
    "                                          values=('Priority'), aggfunc='count', fill_value=0, margins=True,\n",
    "                                         margins_name= 'Number of datapoints')\n",
    "df_dv_pivot.drop('Number of datapoints',axis=0, inplace=True)\n",
    "df_dv_pivot.sort_values('Number of datapoints', ascending=False)\n"
   ]
  },
  {
   "cell_type": "code",
   "execution_count": 58,
   "metadata": {
    "scrolled": false
   },
   "outputs": [
    {
     "data": {
      "text/html": [
       "<div>\n",
       "<style scoped>\n",
       "    .dataframe tbody tr th:only-of-type {\n",
       "        vertical-align: middle;\n",
       "    }\n",
       "\n",
       "    .dataframe tbody tr th {\n",
       "        vertical-align: top;\n",
       "    }\n",
       "\n",
       "    .dataframe thead th {\n",
       "        text-align: right;\n",
       "    }\n",
       "</style>\n",
       "<table border=\"1\" class=\"dataframe\">\n",
       "  <thead>\n",
       "    <tr style=\"text-align: right;\">\n",
       "      <th></th>\n",
       "      <th>Value ID</th>\n",
       "      <th>Value</th>\n",
       "      <th>Team</th>\n",
       "      <th>Primary_data</th>\n",
       "      <th>Farmer_profile_attribute</th>\n",
       "      <th>Priority_2</th>\n",
       "      <th>Priority_3</th>\n",
       "      <th>UI_UX complexity_1</th>\n",
       "      <th>UI_UX complexity_2</th>\n",
       "    </tr>\n",
       "  </thead>\n",
       "  <tbody>\n",
       "    <tr>\n",
       "      <th>32</th>\n",
       "      <td>fertilizer_appln</td>\n",
       "      <td>Size/area of farm determines the volume of fer...</td>\n",
       "      <td>DA</td>\n",
       "      <td>what info would help user most? top 3 choices</td>\n",
       "      <td>farming_topic</td>\n",
       "      <td>0</td>\n",
       "      <td>1</td>\n",
       "      <td>0</td>\n",
       "      <td>1</td>\n",
       "    </tr>\n",
       "    <tr>\n",
       "      <th>65</th>\n",
       "      <td>fertilizer_purchase</td>\n",
       "      <td>what farmers are getting and price destruction</td>\n",
       "      <td>Prdt Sales</td>\n",
       "      <td>actual price farmer paid for Yara or non-Yara ...</td>\n",
       "      <td>fertilizer_price</td>\n",
       "      <td>0</td>\n",
       "      <td>1</td>\n",
       "      <td>0</td>\n",
       "      <td>1</td>\n",
       "    </tr>\n",
       "    <tr>\n",
       "      <th>104</th>\n",
       "      <td>crop_market</td>\n",
       "      <td>Starting to map out the ecosystem and suggesti...</td>\n",
       "      <td>GnC</td>\n",
       "      <td>name of town/market he normally sells at</td>\n",
       "      <td>market_location</td>\n",
       "      <td>0</td>\n",
       "      <td>1</td>\n",
       "      <td>0</td>\n",
       "      <td>1</td>\n",
       "    </tr>\n",
       "    <tr>\n",
       "      <th>103</th>\n",
       "      <td>crop_market</td>\n",
       "      <td>Marketplace knowledge for local marketing and ...</td>\n",
       "      <td>Prdt Sales</td>\n",
       "      <td>name of town/market he normally sells at</td>\n",
       "      <td>market_location</td>\n",
       "      <td>0</td>\n",
       "      <td>1</td>\n",
       "      <td>0</td>\n",
       "      <td>1</td>\n",
       "    </tr>\n",
       "    <tr>\n",
       "      <th>102</th>\n",
       "      <td>fertilizer_purchase</td>\n",
       "      <td>This whole section is very useful from a produ...</td>\n",
       "      <td>Soln</td>\n",
       "      <td>name of town/market he normally sells at</td>\n",
       "      <td>market_location</td>\n",
       "      <td>0</td>\n",
       "      <td>1</td>\n",
       "      <td>0</td>\n",
       "      <td>1</td>\n",
       "    </tr>\n",
       "    <tr>\n",
       "      <th>100</th>\n",
       "      <td>partner_info</td>\n",
       "      <td>Key companies to work with for local team and DF</td>\n",
       "      <td>Prdt Sales</td>\n",
       "      <td>Name of contract buyer</td>\n",
       "      <td>buyer_name</td>\n",
       "      <td>0</td>\n",
       "      <td>1</td>\n",
       "      <td>0</td>\n",
       "      <td>1</td>\n",
       "    </tr>\n",
       "    <tr>\n",
       "      <th>99</th>\n",
       "      <td>fertilizer_purchase</td>\n",
       "      <td>This whole section is very useful from a produ...</td>\n",
       "      <td>Soln</td>\n",
       "      <td>Name of contract buyer</td>\n",
       "      <td>buyer_name</td>\n",
       "      <td>0</td>\n",
       "      <td>1</td>\n",
       "      <td>0</td>\n",
       "      <td>1</td>\n",
       "    </tr>\n",
       "    <tr>\n",
       "      <th>98</th>\n",
       "      <td>user_behaviour</td>\n",
       "      <td>Understand user persona/profile so that we hav...</td>\n",
       "      <td>GnC</td>\n",
       "      <td>Is he a contract farmer?</td>\n",
       "      <td>contract_farmer</td>\n",
       "      <td>0</td>\n",
       "      <td>1</td>\n",
       "      <td>0</td>\n",
       "      <td>1</td>\n",
       "    </tr>\n",
       "    <tr>\n",
       "      <th>97</th>\n",
       "      <td>crop_market</td>\n",
       "      <td>Marketplace linked or not</td>\n",
       "      <td>Prdt Sales</td>\n",
       "      <td>Is he a contract farmer?</td>\n",
       "      <td>contract_farmer</td>\n",
       "      <td>0</td>\n",
       "      <td>1</td>\n",
       "      <td>0</td>\n",
       "      <td>1</td>\n",
       "    </tr>\n",
       "    <tr>\n",
       "      <th>96</th>\n",
       "      <td>fertilizer_purchase</td>\n",
       "      <td>This whole section is very useful from a produ...</td>\n",
       "      <td>Soln</td>\n",
       "      <td>Is he a contract farmer?</td>\n",
       "      <td>contract_farmer</td>\n",
       "      <td>0</td>\n",
       "      <td>1</td>\n",
       "      <td>0</td>\n",
       "      <td>1</td>\n",
       "    </tr>\n",
       "  </tbody>\n",
       "</table>\n",
       "</div>"
      ],
      "text/plain": [
       "                Value ID                                              Value  \\\n",
       "32      fertilizer_appln  Size/area of farm determines the volume of fer...   \n",
       "65   fertilizer_purchase     what farmers are getting and price destruction   \n",
       "104          crop_market  Starting to map out the ecosystem and suggesti...   \n",
       "103          crop_market  Marketplace knowledge for local marketing and ...   \n",
       "102  fertilizer_purchase  This whole section is very useful from a produ...   \n",
       "100         partner_info   Key companies to work with for local team and DF   \n",
       "99   fertilizer_purchase  This whole section is very useful from a produ...   \n",
       "98        user_behaviour  Understand user persona/profile so that we hav...   \n",
       "97           crop_market                          Marketplace linked or not   \n",
       "96   fertilizer_purchase  This whole section is very useful from a produ...   \n",
       "\n",
       "           Team                                       Primary_data  \\\n",
       "32           DA      what info would help user most? top 3 choices   \n",
       "65   Prdt Sales  actual price farmer paid for Yara or non-Yara ...   \n",
       "104         GnC           name of town/market he normally sells at   \n",
       "103  Prdt Sales           name of town/market he normally sells at   \n",
       "102        Soln           name of town/market he normally sells at   \n",
       "100  Prdt Sales                             Name of contract buyer   \n",
       "99         Soln                             Name of contract buyer   \n",
       "98          GnC                           Is he a contract farmer?   \n",
       "97   Prdt Sales                           Is he a contract farmer?   \n",
       "96         Soln                           Is he a contract farmer?   \n",
       "\n",
       "    Farmer_profile_attribute  Priority_2  Priority_3  UI_UX complexity_1  \\\n",
       "32             farming_topic           0           1                   0   \n",
       "65          fertilizer_price           0           1                   0   \n",
       "104          market_location           0           1                   0   \n",
       "103          market_location           0           1                   0   \n",
       "102          market_location           0           1                   0   \n",
       "100               buyer_name           0           1                   0   \n",
       "99                buyer_name           0           1                   0   \n",
       "98           contract_farmer           0           1                   0   \n",
       "97           contract_farmer           0           1                   0   \n",
       "96           contract_farmer           0           1                   0   \n",
       "\n",
       "     UI_UX complexity_2  \n",
       "32                    1  \n",
       "65                    1  \n",
       "104                   1  \n",
       "103                   1  \n",
       "102                   1  \n",
       "100                   1  \n",
       "99                    1  \n",
       "98                    1  \n",
       "97                    1  \n",
       "96                    1  "
      ]
     },
     "execution_count": 58,
     "metadata": {},
     "output_type": "execute_result"
    }
   ],
   "source": [
    "## using one-hot-coding for further analysis and visualisation\n",
    "df_dv_dummies = pd.get_dummies(df_dv_shortlist, columns = ['Priority', 'UI_UX complexity'])\n",
    "df_dv_dummies.head(10)"
   ]
  },
  {
   "cell_type": "markdown",
   "metadata": {},
   "source": [
    "### Visualisations for shortlisted datapoints"
   ]
  },
  {
   "cell_type": "markdown",
   "metadata": {},
   "source": [
    "### i. Sunburst chart"
   ]
  },
  {
   "cell_type": "code",
   "execution_count": 59,
   "metadata": {},
   "outputs": [
    {
     "data": {
      "application/vnd.plotly.v1+json": {
       "config": {
        "plotlyServerURL": "https://plot.ly"
       },
       "data": [
        {
         "branchvalues": "total",
         "domain": {
          "x": [
           0,
           1
          ],
          "y": [
           0,
           1
          ]
         },
         "hovertemplate": "labels=%{label}<br>Priority_3=%{value}<br>parent=%{parent}<br>id=%{id}<extra></extra>",
         "ids": [
          "partner_info/GnC/buyer_name",
          "partner_info/Prdt Sales/buyer_name",
          "fertilizer_purchase/Soln/buyer_name",
          "user_behaviour/GnC/contract_farmer",
          "crop_market/Prdt Sales/contract_farmer",
          "fertilizer_purchase/Soln/contract_farmer",
          "fertilizer_appln/DA/farming_topic",
          "gnc_gtm_mktg/DA/farming_topic",
          "gnc_gtm_mktg/GnC/farming_topic",
          "gnc_gtm_mktg/DA/fertilizer_brand",
          "user_behaviour/DA/fertilizer_brand",
          "gnc_gtm_mktg/DS Analyst/fertilizer_brand",
          "fertilizer_purchase/Prdt Sales/fertilizer_brand",
          "user_behaviour/Prdt Sales/fertilizer_brand",
          "farmer_finance/DA/fertilizer_price",
          "fertilizer_purchase/Prdt Sales/fertilizer_price",
          "crop_market/GnC/market_location",
          "partner_info/GnC/market_location",
          "crop_market/Prdt Sales/market_location",
          "fertilizer_purchase/Soln/market_location",
          "fertilizer_purchase/GnC/payment_mode",
          "fertilizer_purchase/Prdt Sales/payment_mode",
          "farmer_finance/Soln/payment_mode",
          "lead_generation/DS Analyst/user_apps",
          "user_behaviour/DS Analyst/user_apps",
          "gnc_gtm_mktg/GnC/user_apps",
          "lead_generation/GnC/user_apps",
          "prdt_develop/Soln/user_apps",
          "gnc_gtm_mktg/DA/yara_customer",
          "fertilizer_purchase/DS Analyst/yara_customer",
          "user_behaviour/GnC/yara_customer",
          "fertilizer_purchase/Prdt Sales/yara_customer",
          "farmer_finance/DA",
          "fertilizer_appln/DA",
          "gnc_gtm_mktg/DA",
          "user_behaviour/DA",
          "fertilizer_purchase/DS Analyst",
          "gnc_gtm_mktg/DS Analyst",
          "lead_generation/DS Analyst",
          "user_behaviour/DS Analyst",
          "crop_market/GnC",
          "fertilizer_purchase/GnC",
          "gnc_gtm_mktg/GnC",
          "lead_generation/GnC",
          "partner_info/GnC",
          "user_behaviour/GnC",
          "crop_market/Prdt Sales",
          "fertilizer_purchase/Prdt Sales",
          "partner_info/Prdt Sales",
          "user_behaviour/Prdt Sales",
          "farmer_finance/Soln",
          "fertilizer_purchase/Soln",
          "prdt_develop/Soln",
          "crop_market",
          "farmer_finance",
          "fertilizer_appln",
          "fertilizer_purchase",
          "gnc_gtm_mktg",
          "lead_generation",
          "partner_info",
          "prdt_develop",
          "user_behaviour"
         ],
         "labels": [
          "buyer_name",
          "buyer_name",
          "buyer_name",
          "contract_farmer",
          "contract_farmer",
          "contract_farmer",
          "farming_topic",
          "farming_topic",
          "farming_topic",
          "fertilizer_brand",
          "fertilizer_brand",
          "fertilizer_brand",
          "fertilizer_brand",
          "fertilizer_brand",
          "fertilizer_price",
          "fertilizer_price",
          "market_location",
          "market_location",
          "market_location",
          "market_location",
          "payment_mode",
          "payment_mode",
          "payment_mode",
          "user_apps",
          "user_apps",
          "user_apps",
          "user_apps",
          "user_apps",
          "yara_customer",
          "yara_customer",
          "yara_customer",
          "yara_customer",
          "DA",
          "DA",
          "DA",
          "DA",
          "DS Analyst",
          "DS Analyst",
          "DS Analyst",
          "DS Analyst",
          "GnC",
          "GnC",
          "GnC",
          "GnC",
          "GnC",
          "GnC",
          "Prdt Sales",
          "Prdt Sales",
          "Prdt Sales",
          "Prdt Sales",
          "Soln",
          "Soln",
          "Soln",
          "crop_market",
          "farmer_finance",
          "fertilizer_appln",
          "fertilizer_purchase",
          "gnc_gtm_mktg",
          "lead_generation",
          "partner_info",
          "prdt_develop",
          "user_behaviour"
         ],
         "name": "",
         "parents": [
          "partner_info/GnC",
          "partner_info/Prdt Sales",
          "fertilizer_purchase/Soln",
          "user_behaviour/GnC",
          "crop_market/Prdt Sales",
          "fertilizer_purchase/Soln",
          "fertilizer_appln/DA",
          "gnc_gtm_mktg/DA",
          "gnc_gtm_mktg/GnC",
          "gnc_gtm_mktg/DA",
          "user_behaviour/DA",
          "gnc_gtm_mktg/DS Analyst",
          "fertilizer_purchase/Prdt Sales",
          "user_behaviour/Prdt Sales",
          "farmer_finance/DA",
          "fertilizer_purchase/Prdt Sales",
          "crop_market/GnC",
          "partner_info/GnC",
          "crop_market/Prdt Sales",
          "fertilizer_purchase/Soln",
          "fertilizer_purchase/GnC",
          "fertilizer_purchase/Prdt Sales",
          "farmer_finance/Soln",
          "lead_generation/DS Analyst",
          "user_behaviour/DS Analyst",
          "gnc_gtm_mktg/GnC",
          "lead_generation/GnC",
          "prdt_develop/Soln",
          "gnc_gtm_mktg/DA",
          "fertilizer_purchase/DS Analyst",
          "user_behaviour/GnC",
          "fertilizer_purchase/Prdt Sales",
          "farmer_finance",
          "fertilizer_appln",
          "gnc_gtm_mktg",
          "user_behaviour",
          "fertilizer_purchase",
          "gnc_gtm_mktg",
          "lead_generation",
          "user_behaviour",
          "crop_market",
          "fertilizer_purchase",
          "gnc_gtm_mktg",
          "lead_generation",
          "partner_info",
          "user_behaviour",
          "crop_market",
          "fertilizer_purchase",
          "partner_info",
          "user_behaviour",
          "farmer_finance",
          "fertilizer_purchase",
          "prdt_develop",
          "",
          "",
          "",
          "",
          "",
          "",
          "",
          "",
          ""
         ],
         "type": "sunburst",
         "values": [
          0,
          1,
          1,
          1,
          1,
          1,
          1,
          0,
          1,
          1,
          1,
          1,
          1,
          1,
          0,
          1,
          1,
          1,
          1,
          1,
          1,
          1,
          1,
          1,
          1,
          0,
          0,
          0,
          1,
          1,
          1,
          1,
          0,
          1,
          2,
          1,
          1,
          1,
          1,
          1,
          1,
          1,
          1,
          0,
          1,
          2,
          2,
          4,
          1,
          1,
          1,
          3,
          0,
          3,
          1,
          1,
          9,
          4,
          1,
          2,
          0,
          5
         ]
        }
       ],
       "layout": {
        "legend": {
         "tracegroupgap": 0
        },
        "template": {
         "data": {
          "bar": [
           {
            "error_x": {
             "color": "#2a3f5f"
            },
            "error_y": {
             "color": "#2a3f5f"
            },
            "marker": {
             "line": {
              "color": "#E5ECF6",
              "width": 0.5
             }
            },
            "type": "bar"
           }
          ],
          "barpolar": [
           {
            "marker": {
             "line": {
              "color": "#E5ECF6",
              "width": 0.5
             }
            },
            "type": "barpolar"
           }
          ],
          "carpet": [
           {
            "aaxis": {
             "endlinecolor": "#2a3f5f",
             "gridcolor": "white",
             "linecolor": "white",
             "minorgridcolor": "white",
             "startlinecolor": "#2a3f5f"
            },
            "baxis": {
             "endlinecolor": "#2a3f5f",
             "gridcolor": "white",
             "linecolor": "white",
             "minorgridcolor": "white",
             "startlinecolor": "#2a3f5f"
            },
            "type": "carpet"
           }
          ],
          "choropleth": [
           {
            "colorbar": {
             "outlinewidth": 0,
             "ticks": ""
            },
            "type": "choropleth"
           }
          ],
          "contour": [
           {
            "colorbar": {
             "outlinewidth": 0,
             "ticks": ""
            },
            "colorscale": [
             [
              0,
              "#0d0887"
             ],
             [
              0.1111111111111111,
              "#46039f"
             ],
             [
              0.2222222222222222,
              "#7201a8"
             ],
             [
              0.3333333333333333,
              "#9c179e"
             ],
             [
              0.4444444444444444,
              "#bd3786"
             ],
             [
              0.5555555555555556,
              "#d8576b"
             ],
             [
              0.6666666666666666,
              "#ed7953"
             ],
             [
              0.7777777777777778,
              "#fb9f3a"
             ],
             [
              0.8888888888888888,
              "#fdca26"
             ],
             [
              1,
              "#f0f921"
             ]
            ],
            "type": "contour"
           }
          ],
          "contourcarpet": [
           {
            "colorbar": {
             "outlinewidth": 0,
             "ticks": ""
            },
            "type": "contourcarpet"
           }
          ],
          "heatmap": [
           {
            "colorbar": {
             "outlinewidth": 0,
             "ticks": ""
            },
            "colorscale": [
             [
              0,
              "#0d0887"
             ],
             [
              0.1111111111111111,
              "#46039f"
             ],
             [
              0.2222222222222222,
              "#7201a8"
             ],
             [
              0.3333333333333333,
              "#9c179e"
             ],
             [
              0.4444444444444444,
              "#bd3786"
             ],
             [
              0.5555555555555556,
              "#d8576b"
             ],
             [
              0.6666666666666666,
              "#ed7953"
             ],
             [
              0.7777777777777778,
              "#fb9f3a"
             ],
             [
              0.8888888888888888,
              "#fdca26"
             ],
             [
              1,
              "#f0f921"
             ]
            ],
            "type": "heatmap"
           }
          ],
          "heatmapgl": [
           {
            "colorbar": {
             "outlinewidth": 0,
             "ticks": ""
            },
            "colorscale": [
             [
              0,
              "#0d0887"
             ],
             [
              0.1111111111111111,
              "#46039f"
             ],
             [
              0.2222222222222222,
              "#7201a8"
             ],
             [
              0.3333333333333333,
              "#9c179e"
             ],
             [
              0.4444444444444444,
              "#bd3786"
             ],
             [
              0.5555555555555556,
              "#d8576b"
             ],
             [
              0.6666666666666666,
              "#ed7953"
             ],
             [
              0.7777777777777778,
              "#fb9f3a"
             ],
             [
              0.8888888888888888,
              "#fdca26"
             ],
             [
              1,
              "#f0f921"
             ]
            ],
            "type": "heatmapgl"
           }
          ],
          "histogram": [
           {
            "marker": {
             "colorbar": {
              "outlinewidth": 0,
              "ticks": ""
             }
            },
            "type": "histogram"
           }
          ],
          "histogram2d": [
           {
            "colorbar": {
             "outlinewidth": 0,
             "ticks": ""
            },
            "colorscale": [
             [
              0,
              "#0d0887"
             ],
             [
              0.1111111111111111,
              "#46039f"
             ],
             [
              0.2222222222222222,
              "#7201a8"
             ],
             [
              0.3333333333333333,
              "#9c179e"
             ],
             [
              0.4444444444444444,
              "#bd3786"
             ],
             [
              0.5555555555555556,
              "#d8576b"
             ],
             [
              0.6666666666666666,
              "#ed7953"
             ],
             [
              0.7777777777777778,
              "#fb9f3a"
             ],
             [
              0.8888888888888888,
              "#fdca26"
             ],
             [
              1,
              "#f0f921"
             ]
            ],
            "type": "histogram2d"
           }
          ],
          "histogram2dcontour": [
           {
            "colorbar": {
             "outlinewidth": 0,
             "ticks": ""
            },
            "colorscale": [
             [
              0,
              "#0d0887"
             ],
             [
              0.1111111111111111,
              "#46039f"
             ],
             [
              0.2222222222222222,
              "#7201a8"
             ],
             [
              0.3333333333333333,
              "#9c179e"
             ],
             [
              0.4444444444444444,
              "#bd3786"
             ],
             [
              0.5555555555555556,
              "#d8576b"
             ],
             [
              0.6666666666666666,
              "#ed7953"
             ],
             [
              0.7777777777777778,
              "#fb9f3a"
             ],
             [
              0.8888888888888888,
              "#fdca26"
             ],
             [
              1,
              "#f0f921"
             ]
            ],
            "type": "histogram2dcontour"
           }
          ],
          "mesh3d": [
           {
            "colorbar": {
             "outlinewidth": 0,
             "ticks": ""
            },
            "type": "mesh3d"
           }
          ],
          "parcoords": [
           {
            "line": {
             "colorbar": {
              "outlinewidth": 0,
              "ticks": ""
             }
            },
            "type": "parcoords"
           }
          ],
          "pie": [
           {
            "automargin": true,
            "type": "pie"
           }
          ],
          "scatter": [
           {
            "marker": {
             "colorbar": {
              "outlinewidth": 0,
              "ticks": ""
             }
            },
            "type": "scatter"
           }
          ],
          "scatter3d": [
           {
            "line": {
             "colorbar": {
              "outlinewidth": 0,
              "ticks": ""
             }
            },
            "marker": {
             "colorbar": {
              "outlinewidth": 0,
              "ticks": ""
             }
            },
            "type": "scatter3d"
           }
          ],
          "scattercarpet": [
           {
            "marker": {
             "colorbar": {
              "outlinewidth": 0,
              "ticks": ""
             }
            },
            "type": "scattercarpet"
           }
          ],
          "scattergeo": [
           {
            "marker": {
             "colorbar": {
              "outlinewidth": 0,
              "ticks": ""
             }
            },
            "type": "scattergeo"
           }
          ],
          "scattergl": [
           {
            "marker": {
             "colorbar": {
              "outlinewidth": 0,
              "ticks": ""
             }
            },
            "type": "scattergl"
           }
          ],
          "scattermapbox": [
           {
            "marker": {
             "colorbar": {
              "outlinewidth": 0,
              "ticks": ""
             }
            },
            "type": "scattermapbox"
           }
          ],
          "scatterpolar": [
           {
            "marker": {
             "colorbar": {
              "outlinewidth": 0,
              "ticks": ""
             }
            },
            "type": "scatterpolar"
           }
          ],
          "scatterpolargl": [
           {
            "marker": {
             "colorbar": {
              "outlinewidth": 0,
              "ticks": ""
             }
            },
            "type": "scatterpolargl"
           }
          ],
          "scatterternary": [
           {
            "marker": {
             "colorbar": {
              "outlinewidth": 0,
              "ticks": ""
             }
            },
            "type": "scatterternary"
           }
          ],
          "surface": [
           {
            "colorbar": {
             "outlinewidth": 0,
             "ticks": ""
            },
            "colorscale": [
             [
              0,
              "#0d0887"
             ],
             [
              0.1111111111111111,
              "#46039f"
             ],
             [
              0.2222222222222222,
              "#7201a8"
             ],
             [
              0.3333333333333333,
              "#9c179e"
             ],
             [
              0.4444444444444444,
              "#bd3786"
             ],
             [
              0.5555555555555556,
              "#d8576b"
             ],
             [
              0.6666666666666666,
              "#ed7953"
             ],
             [
              0.7777777777777778,
              "#fb9f3a"
             ],
             [
              0.8888888888888888,
              "#fdca26"
             ],
             [
              1,
              "#f0f921"
             ]
            ],
            "type": "surface"
           }
          ],
          "table": [
           {
            "cells": {
             "fill": {
              "color": "#EBF0F8"
             },
             "line": {
              "color": "white"
             }
            },
            "header": {
             "fill": {
              "color": "#C8D4E3"
             },
             "line": {
              "color": "white"
             }
            },
            "type": "table"
           }
          ]
         },
         "layout": {
          "annotationdefaults": {
           "arrowcolor": "#2a3f5f",
           "arrowhead": 0,
           "arrowwidth": 1
          },
          "coloraxis": {
           "colorbar": {
            "outlinewidth": 0,
            "ticks": ""
           }
          },
          "colorscale": {
           "diverging": [
            [
             0,
             "#8e0152"
            ],
            [
             0.1,
             "#c51b7d"
            ],
            [
             0.2,
             "#de77ae"
            ],
            [
             0.3,
             "#f1b6da"
            ],
            [
             0.4,
             "#fde0ef"
            ],
            [
             0.5,
             "#f7f7f7"
            ],
            [
             0.6,
             "#e6f5d0"
            ],
            [
             0.7,
             "#b8e186"
            ],
            [
             0.8,
             "#7fbc41"
            ],
            [
             0.9,
             "#4d9221"
            ],
            [
             1,
             "#276419"
            ]
           ],
           "sequential": [
            [
             0,
             "#0d0887"
            ],
            [
             0.1111111111111111,
             "#46039f"
            ],
            [
             0.2222222222222222,
             "#7201a8"
            ],
            [
             0.3333333333333333,
             "#9c179e"
            ],
            [
             0.4444444444444444,
             "#bd3786"
            ],
            [
             0.5555555555555556,
             "#d8576b"
            ],
            [
             0.6666666666666666,
             "#ed7953"
            ],
            [
             0.7777777777777778,
             "#fb9f3a"
            ],
            [
             0.8888888888888888,
             "#fdca26"
            ],
            [
             1,
             "#f0f921"
            ]
           ],
           "sequentialminus": [
            [
             0,
             "#0d0887"
            ],
            [
             0.1111111111111111,
             "#46039f"
            ],
            [
             0.2222222222222222,
             "#7201a8"
            ],
            [
             0.3333333333333333,
             "#9c179e"
            ],
            [
             0.4444444444444444,
             "#bd3786"
            ],
            [
             0.5555555555555556,
             "#d8576b"
            ],
            [
             0.6666666666666666,
             "#ed7953"
            ],
            [
             0.7777777777777778,
             "#fb9f3a"
            ],
            [
             0.8888888888888888,
             "#fdca26"
            ],
            [
             1,
             "#f0f921"
            ]
           ]
          },
          "colorway": [
           "#636efa",
           "#EF553B",
           "#00cc96",
           "#ab63fa",
           "#FFA15A",
           "#19d3f3",
           "#FF6692",
           "#B6E880",
           "#FF97FF",
           "#FECB52"
          ],
          "font": {
           "color": "#2a3f5f"
          },
          "geo": {
           "bgcolor": "white",
           "lakecolor": "white",
           "landcolor": "#E5ECF6",
           "showlakes": true,
           "showland": true,
           "subunitcolor": "white"
          },
          "hoverlabel": {
           "align": "left"
          },
          "hovermode": "closest",
          "mapbox": {
           "style": "light"
          },
          "paper_bgcolor": "white",
          "plot_bgcolor": "#E5ECF6",
          "polar": {
           "angularaxis": {
            "gridcolor": "white",
            "linecolor": "white",
            "ticks": ""
           },
           "bgcolor": "#E5ECF6",
           "radialaxis": {
            "gridcolor": "white",
            "linecolor": "white",
            "ticks": ""
           }
          },
          "scene": {
           "xaxis": {
            "backgroundcolor": "#E5ECF6",
            "gridcolor": "white",
            "gridwidth": 2,
            "linecolor": "white",
            "showbackground": true,
            "ticks": "",
            "zerolinecolor": "white"
           },
           "yaxis": {
            "backgroundcolor": "#E5ECF6",
            "gridcolor": "white",
            "gridwidth": 2,
            "linecolor": "white",
            "showbackground": true,
            "ticks": "",
            "zerolinecolor": "white"
           },
           "zaxis": {
            "backgroundcolor": "#E5ECF6",
            "gridcolor": "white",
            "gridwidth": 2,
            "linecolor": "white",
            "showbackground": true,
            "ticks": "",
            "zerolinecolor": "white"
           }
          },
          "shapedefaults": {
           "line": {
            "color": "#2a3f5f"
           }
          },
          "ternary": {
           "aaxis": {
            "gridcolor": "white",
            "linecolor": "white",
            "ticks": ""
           },
           "baxis": {
            "gridcolor": "white",
            "linecolor": "white",
            "ticks": ""
           },
           "bgcolor": "#E5ECF6",
           "caxis": {
            "gridcolor": "white",
            "linecolor": "white",
            "ticks": ""
           }
          },
          "title": {
           "x": 0.05
          },
          "xaxis": {
           "automargin": true,
           "gridcolor": "white",
           "linecolor": "white",
           "ticks": "",
           "title": {
            "standoff": 15
           },
           "zerolinecolor": "white",
           "zerolinewidth": 2
          },
          "yaxis": {
           "automargin": true,
           "gridcolor": "white",
           "linecolor": "white",
           "ticks": "",
           "title": {
            "standoff": 15
           },
           "zerolinecolor": "white",
           "zerolinewidth": 2
          }
         }
        },
        "title": {
         "text": "Distribution of Value ID with UI_UX complexity = 1 and 2, and Priority=High"
        }
       }
      },
      "text/html": [
       "<div>\n",
       "        \n",
       "        \n",
       "            <div id=\"14c6e77a-1b22-40e8-81fd-dc41d8b62af1\" class=\"plotly-graph-div\" style=\"height:525px; width:100%;\"></div>\n",
       "            <script type=\"text/javascript\">\n",
       "                require([\"plotly\"], function(Plotly) {\n",
       "                    window.PLOTLYENV=window.PLOTLYENV || {};\n",
       "                    \n",
       "                if (document.getElementById(\"14c6e77a-1b22-40e8-81fd-dc41d8b62af1\")) {\n",
       "                    Plotly.newPlot(\n",
       "                        '14c6e77a-1b22-40e8-81fd-dc41d8b62af1',\n",
       "                        [{\"branchvalues\": \"total\", \"domain\": {\"x\": [0.0, 1.0], \"y\": [0.0, 1.0]}, \"hovertemplate\": \"labels=%{label}<br>Priority_3=%{value}<br>parent=%{parent}<br>id=%{id}<extra></extra>\", \"ids\": [\"partner_info/GnC/buyer_name\", \"partner_info/Prdt Sales/buyer_name\", \"fertilizer_purchase/Soln/buyer_name\", \"user_behaviour/GnC/contract_farmer\", \"crop_market/Prdt Sales/contract_farmer\", \"fertilizer_purchase/Soln/contract_farmer\", \"fertilizer_appln/DA/farming_topic\", \"gnc_gtm_mktg/DA/farming_topic\", \"gnc_gtm_mktg/GnC/farming_topic\", \"gnc_gtm_mktg/DA/fertilizer_brand\", \"user_behaviour/DA/fertilizer_brand\", \"gnc_gtm_mktg/DS Analyst/fertilizer_brand\", \"fertilizer_purchase/Prdt Sales/fertilizer_brand\", \"user_behaviour/Prdt Sales/fertilizer_brand\", \"farmer_finance/DA/fertilizer_price\", \"fertilizer_purchase/Prdt Sales/fertilizer_price\", \"crop_market/GnC/market_location\", \"partner_info/GnC/market_location\", \"crop_market/Prdt Sales/market_location\", \"fertilizer_purchase/Soln/market_location\", \"fertilizer_purchase/GnC/payment_mode\", \"fertilizer_purchase/Prdt Sales/payment_mode\", \"farmer_finance/Soln/payment_mode\", \"lead_generation/DS Analyst/user_apps\", \"user_behaviour/DS Analyst/user_apps\", \"gnc_gtm_mktg/GnC/user_apps\", \"lead_generation/GnC/user_apps\", \"prdt_develop/Soln/user_apps\", \"gnc_gtm_mktg/DA/yara_customer\", \"fertilizer_purchase/DS Analyst/yara_customer\", \"user_behaviour/GnC/yara_customer\", \"fertilizer_purchase/Prdt Sales/yara_customer\", \"farmer_finance/DA\", \"fertilizer_appln/DA\", \"gnc_gtm_mktg/DA\", \"user_behaviour/DA\", \"fertilizer_purchase/DS Analyst\", \"gnc_gtm_mktg/DS Analyst\", \"lead_generation/DS Analyst\", \"user_behaviour/DS Analyst\", \"crop_market/GnC\", \"fertilizer_purchase/GnC\", \"gnc_gtm_mktg/GnC\", \"lead_generation/GnC\", \"partner_info/GnC\", \"user_behaviour/GnC\", \"crop_market/Prdt Sales\", \"fertilizer_purchase/Prdt Sales\", \"partner_info/Prdt Sales\", \"user_behaviour/Prdt Sales\", \"farmer_finance/Soln\", \"fertilizer_purchase/Soln\", \"prdt_develop/Soln\", \"crop_market\", \"farmer_finance\", \"fertilizer_appln\", \"fertilizer_purchase\", \"gnc_gtm_mktg\", \"lead_generation\", \"partner_info\", \"prdt_develop\", \"user_behaviour\"], \"labels\": [\"buyer_name\", \"buyer_name\", \"buyer_name\", \"contract_farmer\", \"contract_farmer\", \"contract_farmer\", \"farming_topic\", \"farming_topic\", \"farming_topic\", \"fertilizer_brand\", \"fertilizer_brand\", \"fertilizer_brand\", \"fertilizer_brand\", \"fertilizer_brand\", \"fertilizer_price\", \"fertilizer_price\", \"market_location\", \"market_location\", \"market_location\", \"market_location\", \"payment_mode\", \"payment_mode\", \"payment_mode\", \"user_apps\", \"user_apps\", \"user_apps\", \"user_apps\", \"user_apps\", \"yara_customer\", \"yara_customer\", \"yara_customer\", \"yara_customer\", \"DA\", \"DA\", \"DA\", \"DA\", \"DS Analyst\", \"DS Analyst\", \"DS Analyst\", \"DS Analyst\", \"GnC\", \"GnC\", \"GnC\", \"GnC\", \"GnC\", \"GnC\", \"Prdt Sales\", \"Prdt Sales\", \"Prdt Sales\", \"Prdt Sales\", \"Soln\", \"Soln\", \"Soln\", \"crop_market\", \"farmer_finance\", \"fertilizer_appln\", \"fertilizer_purchase\", \"gnc_gtm_mktg\", \"lead_generation\", \"partner_info\", \"prdt_develop\", \"user_behaviour\"], \"name\": \"\", \"parents\": [\"partner_info/GnC\", \"partner_info/Prdt Sales\", \"fertilizer_purchase/Soln\", \"user_behaviour/GnC\", \"crop_market/Prdt Sales\", \"fertilizer_purchase/Soln\", \"fertilizer_appln/DA\", \"gnc_gtm_mktg/DA\", \"gnc_gtm_mktg/GnC\", \"gnc_gtm_mktg/DA\", \"user_behaviour/DA\", \"gnc_gtm_mktg/DS Analyst\", \"fertilizer_purchase/Prdt Sales\", \"user_behaviour/Prdt Sales\", \"farmer_finance/DA\", \"fertilizer_purchase/Prdt Sales\", \"crop_market/GnC\", \"partner_info/GnC\", \"crop_market/Prdt Sales\", \"fertilizer_purchase/Soln\", \"fertilizer_purchase/GnC\", \"fertilizer_purchase/Prdt Sales\", \"farmer_finance/Soln\", \"lead_generation/DS Analyst\", \"user_behaviour/DS Analyst\", \"gnc_gtm_mktg/GnC\", \"lead_generation/GnC\", \"prdt_develop/Soln\", \"gnc_gtm_mktg/DA\", \"fertilizer_purchase/DS Analyst\", \"user_behaviour/GnC\", \"fertilizer_purchase/Prdt Sales\", \"farmer_finance\", \"fertilizer_appln\", \"gnc_gtm_mktg\", \"user_behaviour\", \"fertilizer_purchase\", \"gnc_gtm_mktg\", \"lead_generation\", \"user_behaviour\", \"crop_market\", \"fertilizer_purchase\", \"gnc_gtm_mktg\", \"lead_generation\", \"partner_info\", \"user_behaviour\", \"crop_market\", \"fertilizer_purchase\", \"partner_info\", \"user_behaviour\", \"farmer_finance\", \"fertilizer_purchase\", \"prdt_develop\", \"\", \"\", \"\", \"\", \"\", \"\", \"\", \"\", \"\"], \"type\": \"sunburst\", \"values\": [0, 1, 1, 1, 1, 1, 1, 0, 1, 1, 1, 1, 1, 1, 0, 1, 1, 1, 1, 1, 1, 1, 1, 1, 1, 0, 0, 0, 1, 1, 1, 1, 0, 1, 2, 1, 1, 1, 1, 1, 1, 1, 1, 0, 1, 2, 2, 4, 1, 1, 1, 3, 0, 3, 1, 1, 9, 4, 1, 2, 0, 5]}],\n",
       "                        {\"legend\": {\"tracegroupgap\": 0}, \"template\": {\"data\": {\"bar\": [{\"error_x\": {\"color\": \"#2a3f5f\"}, \"error_y\": {\"color\": \"#2a3f5f\"}, \"marker\": {\"line\": {\"color\": \"#E5ECF6\", \"width\": 0.5}}, \"type\": \"bar\"}], \"barpolar\": [{\"marker\": {\"line\": {\"color\": \"#E5ECF6\", \"width\": 0.5}}, \"type\": \"barpolar\"}], \"carpet\": [{\"aaxis\": {\"endlinecolor\": \"#2a3f5f\", \"gridcolor\": \"white\", \"linecolor\": \"white\", \"minorgridcolor\": \"white\", \"startlinecolor\": \"#2a3f5f\"}, \"baxis\": {\"endlinecolor\": \"#2a3f5f\", \"gridcolor\": \"white\", \"linecolor\": \"white\", \"minorgridcolor\": \"white\", \"startlinecolor\": \"#2a3f5f\"}, \"type\": \"carpet\"}], \"choropleth\": [{\"colorbar\": {\"outlinewidth\": 0, \"ticks\": \"\"}, \"type\": \"choropleth\"}], \"contour\": [{\"colorbar\": {\"outlinewidth\": 0, \"ticks\": \"\"}, \"colorscale\": [[0.0, \"#0d0887\"], [0.1111111111111111, \"#46039f\"], [0.2222222222222222, \"#7201a8\"], [0.3333333333333333, \"#9c179e\"], [0.4444444444444444, \"#bd3786\"], [0.5555555555555556, \"#d8576b\"], [0.6666666666666666, \"#ed7953\"], [0.7777777777777778, \"#fb9f3a\"], [0.8888888888888888, \"#fdca26\"], [1.0, \"#f0f921\"]], \"type\": \"contour\"}], \"contourcarpet\": [{\"colorbar\": {\"outlinewidth\": 0, \"ticks\": \"\"}, \"type\": \"contourcarpet\"}], \"heatmap\": [{\"colorbar\": {\"outlinewidth\": 0, \"ticks\": \"\"}, \"colorscale\": [[0.0, \"#0d0887\"], [0.1111111111111111, \"#46039f\"], [0.2222222222222222, \"#7201a8\"], [0.3333333333333333, \"#9c179e\"], [0.4444444444444444, \"#bd3786\"], [0.5555555555555556, \"#d8576b\"], [0.6666666666666666, \"#ed7953\"], [0.7777777777777778, \"#fb9f3a\"], [0.8888888888888888, \"#fdca26\"], [1.0, \"#f0f921\"]], \"type\": \"heatmap\"}], \"heatmapgl\": [{\"colorbar\": {\"outlinewidth\": 0, \"ticks\": \"\"}, \"colorscale\": [[0.0, \"#0d0887\"], [0.1111111111111111, \"#46039f\"], [0.2222222222222222, \"#7201a8\"], [0.3333333333333333, \"#9c179e\"], [0.4444444444444444, \"#bd3786\"], [0.5555555555555556, \"#d8576b\"], [0.6666666666666666, \"#ed7953\"], [0.7777777777777778, \"#fb9f3a\"], [0.8888888888888888, \"#fdca26\"], [1.0, \"#f0f921\"]], \"type\": \"heatmapgl\"}], \"histogram\": [{\"marker\": {\"colorbar\": {\"outlinewidth\": 0, \"ticks\": \"\"}}, \"type\": \"histogram\"}], \"histogram2d\": [{\"colorbar\": {\"outlinewidth\": 0, \"ticks\": \"\"}, \"colorscale\": [[0.0, \"#0d0887\"], [0.1111111111111111, \"#46039f\"], [0.2222222222222222, \"#7201a8\"], [0.3333333333333333, \"#9c179e\"], [0.4444444444444444, \"#bd3786\"], [0.5555555555555556, \"#d8576b\"], [0.6666666666666666, \"#ed7953\"], [0.7777777777777778, \"#fb9f3a\"], [0.8888888888888888, \"#fdca26\"], [1.0, \"#f0f921\"]], \"type\": \"histogram2d\"}], \"histogram2dcontour\": [{\"colorbar\": {\"outlinewidth\": 0, \"ticks\": \"\"}, \"colorscale\": [[0.0, \"#0d0887\"], [0.1111111111111111, \"#46039f\"], [0.2222222222222222, \"#7201a8\"], [0.3333333333333333, \"#9c179e\"], [0.4444444444444444, \"#bd3786\"], [0.5555555555555556, \"#d8576b\"], [0.6666666666666666, \"#ed7953\"], [0.7777777777777778, \"#fb9f3a\"], [0.8888888888888888, \"#fdca26\"], [1.0, \"#f0f921\"]], \"type\": \"histogram2dcontour\"}], \"mesh3d\": [{\"colorbar\": {\"outlinewidth\": 0, \"ticks\": \"\"}, \"type\": \"mesh3d\"}], \"parcoords\": [{\"line\": {\"colorbar\": {\"outlinewidth\": 0, \"ticks\": \"\"}}, \"type\": \"parcoords\"}], \"pie\": [{\"automargin\": true, \"type\": \"pie\"}], \"scatter\": [{\"marker\": {\"colorbar\": {\"outlinewidth\": 0, \"ticks\": \"\"}}, \"type\": \"scatter\"}], \"scatter3d\": [{\"line\": {\"colorbar\": {\"outlinewidth\": 0, \"ticks\": \"\"}}, \"marker\": {\"colorbar\": {\"outlinewidth\": 0, \"ticks\": \"\"}}, \"type\": \"scatter3d\"}], \"scattercarpet\": [{\"marker\": {\"colorbar\": {\"outlinewidth\": 0, \"ticks\": \"\"}}, \"type\": \"scattercarpet\"}], \"scattergeo\": [{\"marker\": {\"colorbar\": {\"outlinewidth\": 0, \"ticks\": \"\"}}, \"type\": \"scattergeo\"}], \"scattergl\": [{\"marker\": {\"colorbar\": {\"outlinewidth\": 0, \"ticks\": \"\"}}, \"type\": \"scattergl\"}], \"scattermapbox\": [{\"marker\": {\"colorbar\": {\"outlinewidth\": 0, \"ticks\": \"\"}}, \"type\": \"scattermapbox\"}], \"scatterpolar\": [{\"marker\": {\"colorbar\": {\"outlinewidth\": 0, \"ticks\": \"\"}}, \"type\": \"scatterpolar\"}], \"scatterpolargl\": [{\"marker\": {\"colorbar\": {\"outlinewidth\": 0, \"ticks\": \"\"}}, \"type\": \"scatterpolargl\"}], \"scatterternary\": [{\"marker\": {\"colorbar\": {\"outlinewidth\": 0, \"ticks\": \"\"}}, \"type\": \"scatterternary\"}], \"surface\": [{\"colorbar\": {\"outlinewidth\": 0, \"ticks\": \"\"}, \"colorscale\": [[0.0, \"#0d0887\"], [0.1111111111111111, \"#46039f\"], [0.2222222222222222, \"#7201a8\"], [0.3333333333333333, \"#9c179e\"], [0.4444444444444444, \"#bd3786\"], [0.5555555555555556, \"#d8576b\"], [0.6666666666666666, \"#ed7953\"], [0.7777777777777778, \"#fb9f3a\"], [0.8888888888888888, \"#fdca26\"], [1.0, \"#f0f921\"]], \"type\": \"surface\"}], \"table\": [{\"cells\": {\"fill\": {\"color\": \"#EBF0F8\"}, \"line\": {\"color\": \"white\"}}, \"header\": {\"fill\": {\"color\": \"#C8D4E3\"}, \"line\": {\"color\": \"white\"}}, \"type\": \"table\"}]}, \"layout\": {\"annotationdefaults\": {\"arrowcolor\": \"#2a3f5f\", \"arrowhead\": 0, \"arrowwidth\": 1}, \"coloraxis\": {\"colorbar\": {\"outlinewidth\": 0, \"ticks\": \"\"}}, \"colorscale\": {\"diverging\": [[0, \"#8e0152\"], [0.1, \"#c51b7d\"], [0.2, \"#de77ae\"], [0.3, \"#f1b6da\"], [0.4, \"#fde0ef\"], [0.5, \"#f7f7f7\"], [0.6, \"#e6f5d0\"], [0.7, \"#b8e186\"], [0.8, \"#7fbc41\"], [0.9, \"#4d9221\"], [1, \"#276419\"]], \"sequential\": [[0.0, \"#0d0887\"], [0.1111111111111111, \"#46039f\"], [0.2222222222222222, \"#7201a8\"], [0.3333333333333333, \"#9c179e\"], [0.4444444444444444, \"#bd3786\"], [0.5555555555555556, \"#d8576b\"], [0.6666666666666666, \"#ed7953\"], [0.7777777777777778, \"#fb9f3a\"], [0.8888888888888888, \"#fdca26\"], [1.0, \"#f0f921\"]], \"sequentialminus\": [[0.0, \"#0d0887\"], [0.1111111111111111, \"#46039f\"], [0.2222222222222222, \"#7201a8\"], [0.3333333333333333, \"#9c179e\"], [0.4444444444444444, \"#bd3786\"], [0.5555555555555556, \"#d8576b\"], [0.6666666666666666, \"#ed7953\"], [0.7777777777777778, \"#fb9f3a\"], [0.8888888888888888, \"#fdca26\"], [1.0, \"#f0f921\"]]}, \"colorway\": [\"#636efa\", \"#EF553B\", \"#00cc96\", \"#ab63fa\", \"#FFA15A\", \"#19d3f3\", \"#FF6692\", \"#B6E880\", \"#FF97FF\", \"#FECB52\"], \"font\": {\"color\": \"#2a3f5f\"}, \"geo\": {\"bgcolor\": \"white\", \"lakecolor\": \"white\", \"landcolor\": \"#E5ECF6\", \"showlakes\": true, \"showland\": true, \"subunitcolor\": \"white\"}, \"hoverlabel\": {\"align\": \"left\"}, \"hovermode\": \"closest\", \"mapbox\": {\"style\": \"light\"}, \"paper_bgcolor\": \"white\", \"plot_bgcolor\": \"#E5ECF6\", \"polar\": {\"angularaxis\": {\"gridcolor\": \"white\", \"linecolor\": \"white\", \"ticks\": \"\"}, \"bgcolor\": \"#E5ECF6\", \"radialaxis\": {\"gridcolor\": \"white\", \"linecolor\": \"white\", \"ticks\": \"\"}}, \"scene\": {\"xaxis\": {\"backgroundcolor\": \"#E5ECF6\", \"gridcolor\": \"white\", \"gridwidth\": 2, \"linecolor\": \"white\", \"showbackground\": true, \"ticks\": \"\", \"zerolinecolor\": \"white\"}, \"yaxis\": {\"backgroundcolor\": \"#E5ECF6\", \"gridcolor\": \"white\", \"gridwidth\": 2, \"linecolor\": \"white\", \"showbackground\": true, \"ticks\": \"\", \"zerolinecolor\": \"white\"}, \"zaxis\": {\"backgroundcolor\": \"#E5ECF6\", \"gridcolor\": \"white\", \"gridwidth\": 2, \"linecolor\": \"white\", \"showbackground\": true, \"ticks\": \"\", \"zerolinecolor\": \"white\"}}, \"shapedefaults\": {\"line\": {\"color\": \"#2a3f5f\"}}, \"ternary\": {\"aaxis\": {\"gridcolor\": \"white\", \"linecolor\": \"white\", \"ticks\": \"\"}, \"baxis\": {\"gridcolor\": \"white\", \"linecolor\": \"white\", \"ticks\": \"\"}, \"bgcolor\": \"#E5ECF6\", \"caxis\": {\"gridcolor\": \"white\", \"linecolor\": \"white\", \"ticks\": \"\"}}, \"title\": {\"x\": 0.05}, \"xaxis\": {\"automargin\": true, \"gridcolor\": \"white\", \"linecolor\": \"white\", \"ticks\": \"\", \"title\": {\"standoff\": 15}, \"zerolinecolor\": \"white\", \"zerolinewidth\": 2}, \"yaxis\": {\"automargin\": true, \"gridcolor\": \"white\", \"linecolor\": \"white\", \"ticks\": \"\", \"title\": {\"standoff\": 15}, \"zerolinecolor\": \"white\", \"zerolinewidth\": 2}}}, \"title\": {\"text\": \"Distribution of Value ID with UI_UX complexity = 1 and 2, and Priority=High\"}},\n",
       "                        {\"responsive\": true}\n",
       "                    ).then(function(){\n",
       "                            \n",
       "var gd = document.getElementById('14c6e77a-1b22-40e8-81fd-dc41d8b62af1');\n",
       "var x = new MutationObserver(function (mutations, observer) {{\n",
       "        var display = window.getComputedStyle(gd).display;\n",
       "        if (!display || display === 'none') {{\n",
       "            console.log([gd, 'removed!']);\n",
       "            Plotly.purge(gd);\n",
       "            observer.disconnect();\n",
       "        }}\n",
       "}});\n",
       "\n",
       "// Listen for the removal of the full notebook cells\n",
       "var notebookContainer = gd.closest('#notebook-container');\n",
       "if (notebookContainer) {{\n",
       "    x.observe(notebookContainer, {childList: true});\n",
       "}}\n",
       "\n",
       "// Listen for the clearing of the current output cell\n",
       "var outputEl = gd.closest('.output');\n",
       "if (outputEl) {{\n",
       "    x.observe(outputEl, {childList: true});\n",
       "}}\n",
       "\n",
       "                        })\n",
       "                };\n",
       "                });\n",
       "            </script>\n",
       "        </div>"
      ]
     },
     "metadata": {},
     "output_type": "display_data"
    }
   ],
   "source": [
    "#sunburst chart for Priority = high\n",
    "\n",
    "fig = px.sunburst(\n",
    "    data_frame = df_dv_dummies,\n",
    "    path = ['Value ID', 'Team', 'Farmer_profile_attribute'],\n",
    "    values = df_dv_dummies['Priority_3'], \n",
    "    title= 'Distribution of Value ID with UI_UX complexity = 1 and 2, and Priority=High'\n",
    "    )  \n",
    "\n",
    "fig.write_html(\"priority_high_w_user.html\")\n",
    "fig.show()"
   ]
  },
  {
   "cell_type": "code",
   "execution_count": 60,
   "metadata": {},
   "outputs": [
    {
     "data": {
      "application/vnd.plotly.v1+json": {
       "config": {
        "plotlyServerURL": "https://plot.ly"
       },
       "data": [
        {
         "branchvalues": "total",
         "domain": {
          "x": [
           0,
           1
          ],
          "y": [
           0,
           1
          ]
         },
         "hovertemplate": "labels=%{label}<br>Priority_2=%{value}<br>parent=%{parent}<br>id=%{id}<extra></extra>",
         "ids": [
          "partner_info/GnC/buyer_name",
          "partner_info/Prdt Sales/buyer_name",
          "fertilizer_purchase/Soln/buyer_name",
          "user_behaviour/GnC/contract_farmer",
          "crop_market/Prdt Sales/contract_farmer",
          "fertilizer_purchase/Soln/contract_farmer",
          "fertilizer_appln/DA/farming_topic",
          "gnc_gtm_mktg/DA/farming_topic",
          "gnc_gtm_mktg/GnC/farming_topic",
          "gnc_gtm_mktg/DA/fertilizer_brand",
          "user_behaviour/DA/fertilizer_brand",
          "gnc_gtm_mktg/DS Analyst/fertilizer_brand",
          "fertilizer_purchase/Prdt Sales/fertilizer_brand",
          "user_behaviour/Prdt Sales/fertilizer_brand",
          "farmer_finance/DA/fertilizer_price",
          "fertilizer_purchase/Prdt Sales/fertilizer_price",
          "crop_market/GnC/market_location",
          "partner_info/GnC/market_location",
          "crop_market/Prdt Sales/market_location",
          "fertilizer_purchase/Soln/market_location",
          "fertilizer_purchase/GnC/payment_mode",
          "fertilizer_purchase/Prdt Sales/payment_mode",
          "farmer_finance/Soln/payment_mode",
          "lead_generation/DS Analyst/user_apps",
          "user_behaviour/DS Analyst/user_apps",
          "gnc_gtm_mktg/GnC/user_apps",
          "lead_generation/GnC/user_apps",
          "prdt_develop/Soln/user_apps",
          "gnc_gtm_mktg/DA/yara_customer",
          "fertilizer_purchase/DS Analyst/yara_customer",
          "user_behaviour/GnC/yara_customer",
          "fertilizer_purchase/Prdt Sales/yara_customer",
          "farmer_finance/DA",
          "fertilizer_appln/DA",
          "gnc_gtm_mktg/DA",
          "user_behaviour/DA",
          "fertilizer_purchase/DS Analyst",
          "gnc_gtm_mktg/DS Analyst",
          "lead_generation/DS Analyst",
          "user_behaviour/DS Analyst",
          "crop_market/GnC",
          "fertilizer_purchase/GnC",
          "gnc_gtm_mktg/GnC",
          "lead_generation/GnC",
          "partner_info/GnC",
          "user_behaviour/GnC",
          "crop_market/Prdt Sales",
          "fertilizer_purchase/Prdt Sales",
          "partner_info/Prdt Sales",
          "user_behaviour/Prdt Sales",
          "farmer_finance/Soln",
          "fertilizer_purchase/Soln",
          "prdt_develop/Soln",
          "crop_market",
          "farmer_finance",
          "fertilizer_appln",
          "fertilizer_purchase",
          "gnc_gtm_mktg",
          "lead_generation",
          "partner_info",
          "prdt_develop",
          "user_behaviour"
         ],
         "labels": [
          "buyer_name",
          "buyer_name",
          "buyer_name",
          "contract_farmer",
          "contract_farmer",
          "contract_farmer",
          "farming_topic",
          "farming_topic",
          "farming_topic",
          "fertilizer_brand",
          "fertilizer_brand",
          "fertilizer_brand",
          "fertilizer_brand",
          "fertilizer_brand",
          "fertilizer_price",
          "fertilizer_price",
          "market_location",
          "market_location",
          "market_location",
          "market_location",
          "payment_mode",
          "payment_mode",
          "payment_mode",
          "user_apps",
          "user_apps",
          "user_apps",
          "user_apps",
          "user_apps",
          "yara_customer",
          "yara_customer",
          "yara_customer",
          "yara_customer",
          "DA",
          "DA",
          "DA",
          "DA",
          "DS Analyst",
          "DS Analyst",
          "DS Analyst",
          "DS Analyst",
          "GnC",
          "GnC",
          "GnC",
          "GnC",
          "GnC",
          "GnC",
          "Prdt Sales",
          "Prdt Sales",
          "Prdt Sales",
          "Prdt Sales",
          "Soln",
          "Soln",
          "Soln",
          "crop_market",
          "farmer_finance",
          "fertilizer_appln",
          "fertilizer_purchase",
          "gnc_gtm_mktg",
          "lead_generation",
          "partner_info",
          "prdt_develop",
          "user_behaviour"
         ],
         "name": "",
         "parents": [
          "partner_info/GnC",
          "partner_info/Prdt Sales",
          "fertilizer_purchase/Soln",
          "user_behaviour/GnC",
          "crop_market/Prdt Sales",
          "fertilizer_purchase/Soln",
          "fertilizer_appln/DA",
          "gnc_gtm_mktg/DA",
          "gnc_gtm_mktg/GnC",
          "gnc_gtm_mktg/DA",
          "user_behaviour/DA",
          "gnc_gtm_mktg/DS Analyst",
          "fertilizer_purchase/Prdt Sales",
          "user_behaviour/Prdt Sales",
          "farmer_finance/DA",
          "fertilizer_purchase/Prdt Sales",
          "crop_market/GnC",
          "partner_info/GnC",
          "crop_market/Prdt Sales",
          "fertilizer_purchase/Soln",
          "fertilizer_purchase/GnC",
          "fertilizer_purchase/Prdt Sales",
          "farmer_finance/Soln",
          "lead_generation/DS Analyst",
          "user_behaviour/DS Analyst",
          "gnc_gtm_mktg/GnC",
          "lead_generation/GnC",
          "prdt_develop/Soln",
          "gnc_gtm_mktg/DA",
          "fertilizer_purchase/DS Analyst",
          "user_behaviour/GnC",
          "fertilizer_purchase/Prdt Sales",
          "farmer_finance",
          "fertilizer_appln",
          "gnc_gtm_mktg",
          "user_behaviour",
          "fertilizer_purchase",
          "gnc_gtm_mktg",
          "lead_generation",
          "user_behaviour",
          "crop_market",
          "fertilizer_purchase",
          "gnc_gtm_mktg",
          "lead_generation",
          "partner_info",
          "user_behaviour",
          "crop_market",
          "fertilizer_purchase",
          "partner_info",
          "user_behaviour",
          "farmer_finance",
          "fertilizer_purchase",
          "prdt_develop",
          "",
          "",
          "",
          "",
          "",
          "",
          "",
          "",
          ""
         ],
         "type": "sunburst",
         "values": [
          1,
          0,
          0,
          0,
          0,
          0,
          0,
          1,
          0,
          0,
          1,
          0,
          0,
          0,
          1,
          0,
          0,
          0,
          0,
          0,
          0,
          0,
          0,
          0,
          0,
          1,
          1,
          1,
          0,
          0,
          0,
          0,
          1,
          0,
          1,
          1,
          0,
          0,
          0,
          0,
          0,
          0,
          1,
          1,
          1,
          0,
          0,
          0,
          0,
          0,
          0,
          0,
          1,
          0,
          1,
          0,
          0,
          2,
          1,
          1,
          1,
          1
         ]
        }
       ],
       "layout": {
        "legend": {
         "tracegroupgap": 0
        },
        "template": {
         "data": {
          "bar": [
           {
            "error_x": {
             "color": "#2a3f5f"
            },
            "error_y": {
             "color": "#2a3f5f"
            },
            "marker": {
             "line": {
              "color": "#E5ECF6",
              "width": 0.5
             }
            },
            "type": "bar"
           }
          ],
          "barpolar": [
           {
            "marker": {
             "line": {
              "color": "#E5ECF6",
              "width": 0.5
             }
            },
            "type": "barpolar"
           }
          ],
          "carpet": [
           {
            "aaxis": {
             "endlinecolor": "#2a3f5f",
             "gridcolor": "white",
             "linecolor": "white",
             "minorgridcolor": "white",
             "startlinecolor": "#2a3f5f"
            },
            "baxis": {
             "endlinecolor": "#2a3f5f",
             "gridcolor": "white",
             "linecolor": "white",
             "minorgridcolor": "white",
             "startlinecolor": "#2a3f5f"
            },
            "type": "carpet"
           }
          ],
          "choropleth": [
           {
            "colorbar": {
             "outlinewidth": 0,
             "ticks": ""
            },
            "type": "choropleth"
           }
          ],
          "contour": [
           {
            "colorbar": {
             "outlinewidth": 0,
             "ticks": ""
            },
            "colorscale": [
             [
              0,
              "#0d0887"
             ],
             [
              0.1111111111111111,
              "#46039f"
             ],
             [
              0.2222222222222222,
              "#7201a8"
             ],
             [
              0.3333333333333333,
              "#9c179e"
             ],
             [
              0.4444444444444444,
              "#bd3786"
             ],
             [
              0.5555555555555556,
              "#d8576b"
             ],
             [
              0.6666666666666666,
              "#ed7953"
             ],
             [
              0.7777777777777778,
              "#fb9f3a"
             ],
             [
              0.8888888888888888,
              "#fdca26"
             ],
             [
              1,
              "#f0f921"
             ]
            ],
            "type": "contour"
           }
          ],
          "contourcarpet": [
           {
            "colorbar": {
             "outlinewidth": 0,
             "ticks": ""
            },
            "type": "contourcarpet"
           }
          ],
          "heatmap": [
           {
            "colorbar": {
             "outlinewidth": 0,
             "ticks": ""
            },
            "colorscale": [
             [
              0,
              "#0d0887"
             ],
             [
              0.1111111111111111,
              "#46039f"
             ],
             [
              0.2222222222222222,
              "#7201a8"
             ],
             [
              0.3333333333333333,
              "#9c179e"
             ],
             [
              0.4444444444444444,
              "#bd3786"
             ],
             [
              0.5555555555555556,
              "#d8576b"
             ],
             [
              0.6666666666666666,
              "#ed7953"
             ],
             [
              0.7777777777777778,
              "#fb9f3a"
             ],
             [
              0.8888888888888888,
              "#fdca26"
             ],
             [
              1,
              "#f0f921"
             ]
            ],
            "type": "heatmap"
           }
          ],
          "heatmapgl": [
           {
            "colorbar": {
             "outlinewidth": 0,
             "ticks": ""
            },
            "colorscale": [
             [
              0,
              "#0d0887"
             ],
             [
              0.1111111111111111,
              "#46039f"
             ],
             [
              0.2222222222222222,
              "#7201a8"
             ],
             [
              0.3333333333333333,
              "#9c179e"
             ],
             [
              0.4444444444444444,
              "#bd3786"
             ],
             [
              0.5555555555555556,
              "#d8576b"
             ],
             [
              0.6666666666666666,
              "#ed7953"
             ],
             [
              0.7777777777777778,
              "#fb9f3a"
             ],
             [
              0.8888888888888888,
              "#fdca26"
             ],
             [
              1,
              "#f0f921"
             ]
            ],
            "type": "heatmapgl"
           }
          ],
          "histogram": [
           {
            "marker": {
             "colorbar": {
              "outlinewidth": 0,
              "ticks": ""
             }
            },
            "type": "histogram"
           }
          ],
          "histogram2d": [
           {
            "colorbar": {
             "outlinewidth": 0,
             "ticks": ""
            },
            "colorscale": [
             [
              0,
              "#0d0887"
             ],
             [
              0.1111111111111111,
              "#46039f"
             ],
             [
              0.2222222222222222,
              "#7201a8"
             ],
             [
              0.3333333333333333,
              "#9c179e"
             ],
             [
              0.4444444444444444,
              "#bd3786"
             ],
             [
              0.5555555555555556,
              "#d8576b"
             ],
             [
              0.6666666666666666,
              "#ed7953"
             ],
             [
              0.7777777777777778,
              "#fb9f3a"
             ],
             [
              0.8888888888888888,
              "#fdca26"
             ],
             [
              1,
              "#f0f921"
             ]
            ],
            "type": "histogram2d"
           }
          ],
          "histogram2dcontour": [
           {
            "colorbar": {
             "outlinewidth": 0,
             "ticks": ""
            },
            "colorscale": [
             [
              0,
              "#0d0887"
             ],
             [
              0.1111111111111111,
              "#46039f"
             ],
             [
              0.2222222222222222,
              "#7201a8"
             ],
             [
              0.3333333333333333,
              "#9c179e"
             ],
             [
              0.4444444444444444,
              "#bd3786"
             ],
             [
              0.5555555555555556,
              "#d8576b"
             ],
             [
              0.6666666666666666,
              "#ed7953"
             ],
             [
              0.7777777777777778,
              "#fb9f3a"
             ],
             [
              0.8888888888888888,
              "#fdca26"
             ],
             [
              1,
              "#f0f921"
             ]
            ],
            "type": "histogram2dcontour"
           }
          ],
          "mesh3d": [
           {
            "colorbar": {
             "outlinewidth": 0,
             "ticks": ""
            },
            "type": "mesh3d"
           }
          ],
          "parcoords": [
           {
            "line": {
             "colorbar": {
              "outlinewidth": 0,
              "ticks": ""
             }
            },
            "type": "parcoords"
           }
          ],
          "pie": [
           {
            "automargin": true,
            "type": "pie"
           }
          ],
          "scatter": [
           {
            "marker": {
             "colorbar": {
              "outlinewidth": 0,
              "ticks": ""
             }
            },
            "type": "scatter"
           }
          ],
          "scatter3d": [
           {
            "line": {
             "colorbar": {
              "outlinewidth": 0,
              "ticks": ""
             }
            },
            "marker": {
             "colorbar": {
              "outlinewidth": 0,
              "ticks": ""
             }
            },
            "type": "scatter3d"
           }
          ],
          "scattercarpet": [
           {
            "marker": {
             "colorbar": {
              "outlinewidth": 0,
              "ticks": ""
             }
            },
            "type": "scattercarpet"
           }
          ],
          "scattergeo": [
           {
            "marker": {
             "colorbar": {
              "outlinewidth": 0,
              "ticks": ""
             }
            },
            "type": "scattergeo"
           }
          ],
          "scattergl": [
           {
            "marker": {
             "colorbar": {
              "outlinewidth": 0,
              "ticks": ""
             }
            },
            "type": "scattergl"
           }
          ],
          "scattermapbox": [
           {
            "marker": {
             "colorbar": {
              "outlinewidth": 0,
              "ticks": ""
             }
            },
            "type": "scattermapbox"
           }
          ],
          "scatterpolar": [
           {
            "marker": {
             "colorbar": {
              "outlinewidth": 0,
              "ticks": ""
             }
            },
            "type": "scatterpolar"
           }
          ],
          "scatterpolargl": [
           {
            "marker": {
             "colorbar": {
              "outlinewidth": 0,
              "ticks": ""
             }
            },
            "type": "scatterpolargl"
           }
          ],
          "scatterternary": [
           {
            "marker": {
             "colorbar": {
              "outlinewidth": 0,
              "ticks": ""
             }
            },
            "type": "scatterternary"
           }
          ],
          "surface": [
           {
            "colorbar": {
             "outlinewidth": 0,
             "ticks": ""
            },
            "colorscale": [
             [
              0,
              "#0d0887"
             ],
             [
              0.1111111111111111,
              "#46039f"
             ],
             [
              0.2222222222222222,
              "#7201a8"
             ],
             [
              0.3333333333333333,
              "#9c179e"
             ],
             [
              0.4444444444444444,
              "#bd3786"
             ],
             [
              0.5555555555555556,
              "#d8576b"
             ],
             [
              0.6666666666666666,
              "#ed7953"
             ],
             [
              0.7777777777777778,
              "#fb9f3a"
             ],
             [
              0.8888888888888888,
              "#fdca26"
             ],
             [
              1,
              "#f0f921"
             ]
            ],
            "type": "surface"
           }
          ],
          "table": [
           {
            "cells": {
             "fill": {
              "color": "#EBF0F8"
             },
             "line": {
              "color": "white"
             }
            },
            "header": {
             "fill": {
              "color": "#C8D4E3"
             },
             "line": {
              "color": "white"
             }
            },
            "type": "table"
           }
          ]
         },
         "layout": {
          "annotationdefaults": {
           "arrowcolor": "#2a3f5f",
           "arrowhead": 0,
           "arrowwidth": 1
          },
          "coloraxis": {
           "colorbar": {
            "outlinewidth": 0,
            "ticks": ""
           }
          },
          "colorscale": {
           "diverging": [
            [
             0,
             "#8e0152"
            ],
            [
             0.1,
             "#c51b7d"
            ],
            [
             0.2,
             "#de77ae"
            ],
            [
             0.3,
             "#f1b6da"
            ],
            [
             0.4,
             "#fde0ef"
            ],
            [
             0.5,
             "#f7f7f7"
            ],
            [
             0.6,
             "#e6f5d0"
            ],
            [
             0.7,
             "#b8e186"
            ],
            [
             0.8,
             "#7fbc41"
            ],
            [
             0.9,
             "#4d9221"
            ],
            [
             1,
             "#276419"
            ]
           ],
           "sequential": [
            [
             0,
             "#0d0887"
            ],
            [
             0.1111111111111111,
             "#46039f"
            ],
            [
             0.2222222222222222,
             "#7201a8"
            ],
            [
             0.3333333333333333,
             "#9c179e"
            ],
            [
             0.4444444444444444,
             "#bd3786"
            ],
            [
             0.5555555555555556,
             "#d8576b"
            ],
            [
             0.6666666666666666,
             "#ed7953"
            ],
            [
             0.7777777777777778,
             "#fb9f3a"
            ],
            [
             0.8888888888888888,
             "#fdca26"
            ],
            [
             1,
             "#f0f921"
            ]
           ],
           "sequentialminus": [
            [
             0,
             "#0d0887"
            ],
            [
             0.1111111111111111,
             "#46039f"
            ],
            [
             0.2222222222222222,
             "#7201a8"
            ],
            [
             0.3333333333333333,
             "#9c179e"
            ],
            [
             0.4444444444444444,
             "#bd3786"
            ],
            [
             0.5555555555555556,
             "#d8576b"
            ],
            [
             0.6666666666666666,
             "#ed7953"
            ],
            [
             0.7777777777777778,
             "#fb9f3a"
            ],
            [
             0.8888888888888888,
             "#fdca26"
            ],
            [
             1,
             "#f0f921"
            ]
           ]
          },
          "colorway": [
           "#636efa",
           "#EF553B",
           "#00cc96",
           "#ab63fa",
           "#FFA15A",
           "#19d3f3",
           "#FF6692",
           "#B6E880",
           "#FF97FF",
           "#FECB52"
          ],
          "font": {
           "color": "#2a3f5f"
          },
          "geo": {
           "bgcolor": "white",
           "lakecolor": "white",
           "landcolor": "#E5ECF6",
           "showlakes": true,
           "showland": true,
           "subunitcolor": "white"
          },
          "hoverlabel": {
           "align": "left"
          },
          "hovermode": "closest",
          "mapbox": {
           "style": "light"
          },
          "paper_bgcolor": "white",
          "plot_bgcolor": "#E5ECF6",
          "polar": {
           "angularaxis": {
            "gridcolor": "white",
            "linecolor": "white",
            "ticks": ""
           },
           "bgcolor": "#E5ECF6",
           "radialaxis": {
            "gridcolor": "white",
            "linecolor": "white",
            "ticks": ""
           }
          },
          "scene": {
           "xaxis": {
            "backgroundcolor": "#E5ECF6",
            "gridcolor": "white",
            "gridwidth": 2,
            "linecolor": "white",
            "showbackground": true,
            "ticks": "",
            "zerolinecolor": "white"
           },
           "yaxis": {
            "backgroundcolor": "#E5ECF6",
            "gridcolor": "white",
            "gridwidth": 2,
            "linecolor": "white",
            "showbackground": true,
            "ticks": "",
            "zerolinecolor": "white"
           },
           "zaxis": {
            "backgroundcolor": "#E5ECF6",
            "gridcolor": "white",
            "gridwidth": 2,
            "linecolor": "white",
            "showbackground": true,
            "ticks": "",
            "zerolinecolor": "white"
           }
          },
          "shapedefaults": {
           "line": {
            "color": "#2a3f5f"
           }
          },
          "ternary": {
           "aaxis": {
            "gridcolor": "white",
            "linecolor": "white",
            "ticks": ""
           },
           "baxis": {
            "gridcolor": "white",
            "linecolor": "white",
            "ticks": ""
           },
           "bgcolor": "#E5ECF6",
           "caxis": {
            "gridcolor": "white",
            "linecolor": "white",
            "ticks": ""
           }
          },
          "title": {
           "x": 0.05
          },
          "xaxis": {
           "automargin": true,
           "gridcolor": "white",
           "linecolor": "white",
           "ticks": "",
           "title": {
            "standoff": 15
           },
           "zerolinecolor": "white",
           "zerolinewidth": 2
          },
          "yaxis": {
           "automargin": true,
           "gridcolor": "white",
           "linecolor": "white",
           "ticks": "",
           "title": {
            "standoff": 15
           },
           "zerolinecolor": "white",
           "zerolinewidth": 2
          }
         }
        },
        "title": {
         "text": "Distribution of Value ID with UI_UX complexity = 1 and 2, and Priority=Medium"
        }
       }
      },
      "text/html": [
       "<div>\n",
       "        \n",
       "        \n",
       "            <div id=\"53858404-244c-464d-a351-970638c179ba\" class=\"plotly-graph-div\" style=\"height:525px; width:100%;\"></div>\n",
       "            <script type=\"text/javascript\">\n",
       "                require([\"plotly\"], function(Plotly) {\n",
       "                    window.PLOTLYENV=window.PLOTLYENV || {};\n",
       "                    \n",
       "                if (document.getElementById(\"53858404-244c-464d-a351-970638c179ba\")) {\n",
       "                    Plotly.newPlot(\n",
       "                        '53858404-244c-464d-a351-970638c179ba',\n",
       "                        [{\"branchvalues\": \"total\", \"domain\": {\"x\": [0.0, 1.0], \"y\": [0.0, 1.0]}, \"hovertemplate\": \"labels=%{label}<br>Priority_2=%{value}<br>parent=%{parent}<br>id=%{id}<extra></extra>\", \"ids\": [\"partner_info/GnC/buyer_name\", \"partner_info/Prdt Sales/buyer_name\", \"fertilizer_purchase/Soln/buyer_name\", \"user_behaviour/GnC/contract_farmer\", \"crop_market/Prdt Sales/contract_farmer\", \"fertilizer_purchase/Soln/contract_farmer\", \"fertilizer_appln/DA/farming_topic\", \"gnc_gtm_mktg/DA/farming_topic\", \"gnc_gtm_mktg/GnC/farming_topic\", \"gnc_gtm_mktg/DA/fertilizer_brand\", \"user_behaviour/DA/fertilizer_brand\", \"gnc_gtm_mktg/DS Analyst/fertilizer_brand\", \"fertilizer_purchase/Prdt Sales/fertilizer_brand\", \"user_behaviour/Prdt Sales/fertilizer_brand\", \"farmer_finance/DA/fertilizer_price\", \"fertilizer_purchase/Prdt Sales/fertilizer_price\", \"crop_market/GnC/market_location\", \"partner_info/GnC/market_location\", \"crop_market/Prdt Sales/market_location\", \"fertilizer_purchase/Soln/market_location\", \"fertilizer_purchase/GnC/payment_mode\", \"fertilizer_purchase/Prdt Sales/payment_mode\", \"farmer_finance/Soln/payment_mode\", \"lead_generation/DS Analyst/user_apps\", \"user_behaviour/DS Analyst/user_apps\", \"gnc_gtm_mktg/GnC/user_apps\", \"lead_generation/GnC/user_apps\", \"prdt_develop/Soln/user_apps\", \"gnc_gtm_mktg/DA/yara_customer\", \"fertilizer_purchase/DS Analyst/yara_customer\", \"user_behaviour/GnC/yara_customer\", \"fertilizer_purchase/Prdt Sales/yara_customer\", \"farmer_finance/DA\", \"fertilizer_appln/DA\", \"gnc_gtm_mktg/DA\", \"user_behaviour/DA\", \"fertilizer_purchase/DS Analyst\", \"gnc_gtm_mktg/DS Analyst\", \"lead_generation/DS Analyst\", \"user_behaviour/DS Analyst\", \"crop_market/GnC\", \"fertilizer_purchase/GnC\", \"gnc_gtm_mktg/GnC\", \"lead_generation/GnC\", \"partner_info/GnC\", \"user_behaviour/GnC\", \"crop_market/Prdt Sales\", \"fertilizer_purchase/Prdt Sales\", \"partner_info/Prdt Sales\", \"user_behaviour/Prdt Sales\", \"farmer_finance/Soln\", \"fertilizer_purchase/Soln\", \"prdt_develop/Soln\", \"crop_market\", \"farmer_finance\", \"fertilizer_appln\", \"fertilizer_purchase\", \"gnc_gtm_mktg\", \"lead_generation\", \"partner_info\", \"prdt_develop\", \"user_behaviour\"], \"labels\": [\"buyer_name\", \"buyer_name\", \"buyer_name\", \"contract_farmer\", \"contract_farmer\", \"contract_farmer\", \"farming_topic\", \"farming_topic\", \"farming_topic\", \"fertilizer_brand\", \"fertilizer_brand\", \"fertilizer_brand\", \"fertilizer_brand\", \"fertilizer_brand\", \"fertilizer_price\", \"fertilizer_price\", \"market_location\", \"market_location\", \"market_location\", \"market_location\", \"payment_mode\", \"payment_mode\", \"payment_mode\", \"user_apps\", \"user_apps\", \"user_apps\", \"user_apps\", \"user_apps\", \"yara_customer\", \"yara_customer\", \"yara_customer\", \"yara_customer\", \"DA\", \"DA\", \"DA\", \"DA\", \"DS Analyst\", \"DS Analyst\", \"DS Analyst\", \"DS Analyst\", \"GnC\", \"GnC\", \"GnC\", \"GnC\", \"GnC\", \"GnC\", \"Prdt Sales\", \"Prdt Sales\", \"Prdt Sales\", \"Prdt Sales\", \"Soln\", \"Soln\", \"Soln\", \"crop_market\", \"farmer_finance\", \"fertilizer_appln\", \"fertilizer_purchase\", \"gnc_gtm_mktg\", \"lead_generation\", \"partner_info\", \"prdt_develop\", \"user_behaviour\"], \"name\": \"\", \"parents\": [\"partner_info/GnC\", \"partner_info/Prdt Sales\", \"fertilizer_purchase/Soln\", \"user_behaviour/GnC\", \"crop_market/Prdt Sales\", \"fertilizer_purchase/Soln\", \"fertilizer_appln/DA\", \"gnc_gtm_mktg/DA\", \"gnc_gtm_mktg/GnC\", \"gnc_gtm_mktg/DA\", \"user_behaviour/DA\", \"gnc_gtm_mktg/DS Analyst\", \"fertilizer_purchase/Prdt Sales\", \"user_behaviour/Prdt Sales\", \"farmer_finance/DA\", \"fertilizer_purchase/Prdt Sales\", \"crop_market/GnC\", \"partner_info/GnC\", \"crop_market/Prdt Sales\", \"fertilizer_purchase/Soln\", \"fertilizer_purchase/GnC\", \"fertilizer_purchase/Prdt Sales\", \"farmer_finance/Soln\", \"lead_generation/DS Analyst\", \"user_behaviour/DS Analyst\", \"gnc_gtm_mktg/GnC\", \"lead_generation/GnC\", \"prdt_develop/Soln\", \"gnc_gtm_mktg/DA\", \"fertilizer_purchase/DS Analyst\", \"user_behaviour/GnC\", \"fertilizer_purchase/Prdt Sales\", \"farmer_finance\", \"fertilizer_appln\", \"gnc_gtm_mktg\", \"user_behaviour\", \"fertilizer_purchase\", \"gnc_gtm_mktg\", \"lead_generation\", \"user_behaviour\", \"crop_market\", \"fertilizer_purchase\", \"gnc_gtm_mktg\", \"lead_generation\", \"partner_info\", \"user_behaviour\", \"crop_market\", \"fertilizer_purchase\", \"partner_info\", \"user_behaviour\", \"farmer_finance\", \"fertilizer_purchase\", \"prdt_develop\", \"\", \"\", \"\", \"\", \"\", \"\", \"\", \"\", \"\"], \"type\": \"sunburst\", \"values\": [1, 0, 0, 0, 0, 0, 0, 1, 0, 0, 1, 0, 0, 0, 1, 0, 0, 0, 0, 0, 0, 0, 0, 0, 0, 1, 1, 1, 0, 0, 0, 0, 1, 0, 1, 1, 0, 0, 0, 0, 0, 0, 1, 1, 1, 0, 0, 0, 0, 0, 0, 0, 1, 0, 1, 0, 0, 2, 1, 1, 1, 1]}],\n",
       "                        {\"legend\": {\"tracegroupgap\": 0}, \"template\": {\"data\": {\"bar\": [{\"error_x\": {\"color\": \"#2a3f5f\"}, \"error_y\": {\"color\": \"#2a3f5f\"}, \"marker\": {\"line\": {\"color\": \"#E5ECF6\", \"width\": 0.5}}, \"type\": \"bar\"}], \"barpolar\": [{\"marker\": {\"line\": {\"color\": \"#E5ECF6\", \"width\": 0.5}}, \"type\": \"barpolar\"}], \"carpet\": [{\"aaxis\": {\"endlinecolor\": \"#2a3f5f\", \"gridcolor\": \"white\", \"linecolor\": \"white\", \"minorgridcolor\": \"white\", \"startlinecolor\": \"#2a3f5f\"}, \"baxis\": {\"endlinecolor\": \"#2a3f5f\", \"gridcolor\": \"white\", \"linecolor\": \"white\", \"minorgridcolor\": \"white\", \"startlinecolor\": \"#2a3f5f\"}, \"type\": \"carpet\"}], \"choropleth\": [{\"colorbar\": {\"outlinewidth\": 0, \"ticks\": \"\"}, \"type\": \"choropleth\"}], \"contour\": [{\"colorbar\": {\"outlinewidth\": 0, \"ticks\": \"\"}, \"colorscale\": [[0.0, \"#0d0887\"], [0.1111111111111111, \"#46039f\"], [0.2222222222222222, \"#7201a8\"], [0.3333333333333333, \"#9c179e\"], [0.4444444444444444, \"#bd3786\"], [0.5555555555555556, \"#d8576b\"], [0.6666666666666666, \"#ed7953\"], [0.7777777777777778, \"#fb9f3a\"], [0.8888888888888888, \"#fdca26\"], [1.0, \"#f0f921\"]], \"type\": \"contour\"}], \"contourcarpet\": [{\"colorbar\": {\"outlinewidth\": 0, \"ticks\": \"\"}, \"type\": \"contourcarpet\"}], \"heatmap\": [{\"colorbar\": {\"outlinewidth\": 0, \"ticks\": \"\"}, \"colorscale\": [[0.0, \"#0d0887\"], [0.1111111111111111, \"#46039f\"], [0.2222222222222222, \"#7201a8\"], [0.3333333333333333, \"#9c179e\"], [0.4444444444444444, \"#bd3786\"], [0.5555555555555556, \"#d8576b\"], [0.6666666666666666, \"#ed7953\"], [0.7777777777777778, \"#fb9f3a\"], [0.8888888888888888, \"#fdca26\"], [1.0, \"#f0f921\"]], \"type\": \"heatmap\"}], \"heatmapgl\": [{\"colorbar\": {\"outlinewidth\": 0, \"ticks\": \"\"}, \"colorscale\": [[0.0, \"#0d0887\"], [0.1111111111111111, \"#46039f\"], [0.2222222222222222, \"#7201a8\"], [0.3333333333333333, \"#9c179e\"], [0.4444444444444444, \"#bd3786\"], [0.5555555555555556, \"#d8576b\"], [0.6666666666666666, \"#ed7953\"], [0.7777777777777778, \"#fb9f3a\"], [0.8888888888888888, \"#fdca26\"], [1.0, \"#f0f921\"]], \"type\": \"heatmapgl\"}], \"histogram\": [{\"marker\": {\"colorbar\": {\"outlinewidth\": 0, \"ticks\": \"\"}}, \"type\": \"histogram\"}], \"histogram2d\": [{\"colorbar\": {\"outlinewidth\": 0, \"ticks\": \"\"}, \"colorscale\": [[0.0, \"#0d0887\"], [0.1111111111111111, \"#46039f\"], [0.2222222222222222, \"#7201a8\"], [0.3333333333333333, \"#9c179e\"], [0.4444444444444444, \"#bd3786\"], [0.5555555555555556, \"#d8576b\"], [0.6666666666666666, \"#ed7953\"], [0.7777777777777778, \"#fb9f3a\"], [0.8888888888888888, \"#fdca26\"], [1.0, \"#f0f921\"]], \"type\": \"histogram2d\"}], \"histogram2dcontour\": [{\"colorbar\": {\"outlinewidth\": 0, \"ticks\": \"\"}, \"colorscale\": [[0.0, \"#0d0887\"], [0.1111111111111111, \"#46039f\"], [0.2222222222222222, \"#7201a8\"], [0.3333333333333333, \"#9c179e\"], [0.4444444444444444, \"#bd3786\"], [0.5555555555555556, \"#d8576b\"], [0.6666666666666666, \"#ed7953\"], [0.7777777777777778, \"#fb9f3a\"], [0.8888888888888888, \"#fdca26\"], [1.0, \"#f0f921\"]], \"type\": \"histogram2dcontour\"}], \"mesh3d\": [{\"colorbar\": {\"outlinewidth\": 0, \"ticks\": \"\"}, \"type\": \"mesh3d\"}], \"parcoords\": [{\"line\": {\"colorbar\": {\"outlinewidth\": 0, \"ticks\": \"\"}}, \"type\": \"parcoords\"}], \"pie\": [{\"automargin\": true, \"type\": \"pie\"}], \"scatter\": [{\"marker\": {\"colorbar\": {\"outlinewidth\": 0, \"ticks\": \"\"}}, \"type\": \"scatter\"}], \"scatter3d\": [{\"line\": {\"colorbar\": {\"outlinewidth\": 0, \"ticks\": \"\"}}, \"marker\": {\"colorbar\": {\"outlinewidth\": 0, \"ticks\": \"\"}}, \"type\": \"scatter3d\"}], \"scattercarpet\": [{\"marker\": {\"colorbar\": {\"outlinewidth\": 0, \"ticks\": \"\"}}, \"type\": \"scattercarpet\"}], \"scattergeo\": [{\"marker\": {\"colorbar\": {\"outlinewidth\": 0, \"ticks\": \"\"}}, \"type\": \"scattergeo\"}], \"scattergl\": [{\"marker\": {\"colorbar\": {\"outlinewidth\": 0, \"ticks\": \"\"}}, \"type\": \"scattergl\"}], \"scattermapbox\": [{\"marker\": {\"colorbar\": {\"outlinewidth\": 0, \"ticks\": \"\"}}, \"type\": \"scattermapbox\"}], \"scatterpolar\": [{\"marker\": {\"colorbar\": {\"outlinewidth\": 0, \"ticks\": \"\"}}, \"type\": \"scatterpolar\"}], \"scatterpolargl\": [{\"marker\": {\"colorbar\": {\"outlinewidth\": 0, \"ticks\": \"\"}}, \"type\": \"scatterpolargl\"}], \"scatterternary\": [{\"marker\": {\"colorbar\": {\"outlinewidth\": 0, \"ticks\": \"\"}}, \"type\": \"scatterternary\"}], \"surface\": [{\"colorbar\": {\"outlinewidth\": 0, \"ticks\": \"\"}, \"colorscale\": [[0.0, \"#0d0887\"], [0.1111111111111111, \"#46039f\"], [0.2222222222222222, \"#7201a8\"], [0.3333333333333333, \"#9c179e\"], [0.4444444444444444, \"#bd3786\"], [0.5555555555555556, \"#d8576b\"], [0.6666666666666666, \"#ed7953\"], [0.7777777777777778, \"#fb9f3a\"], [0.8888888888888888, \"#fdca26\"], [1.0, \"#f0f921\"]], \"type\": \"surface\"}], \"table\": [{\"cells\": {\"fill\": {\"color\": \"#EBF0F8\"}, \"line\": {\"color\": \"white\"}}, \"header\": {\"fill\": {\"color\": \"#C8D4E3\"}, \"line\": {\"color\": \"white\"}}, \"type\": \"table\"}]}, \"layout\": {\"annotationdefaults\": {\"arrowcolor\": \"#2a3f5f\", \"arrowhead\": 0, \"arrowwidth\": 1}, \"coloraxis\": {\"colorbar\": {\"outlinewidth\": 0, \"ticks\": \"\"}}, \"colorscale\": {\"diverging\": [[0, \"#8e0152\"], [0.1, \"#c51b7d\"], [0.2, \"#de77ae\"], [0.3, \"#f1b6da\"], [0.4, \"#fde0ef\"], [0.5, \"#f7f7f7\"], [0.6, \"#e6f5d0\"], [0.7, \"#b8e186\"], [0.8, \"#7fbc41\"], [0.9, \"#4d9221\"], [1, \"#276419\"]], \"sequential\": [[0.0, \"#0d0887\"], [0.1111111111111111, \"#46039f\"], [0.2222222222222222, \"#7201a8\"], [0.3333333333333333, \"#9c179e\"], [0.4444444444444444, \"#bd3786\"], [0.5555555555555556, \"#d8576b\"], [0.6666666666666666, \"#ed7953\"], [0.7777777777777778, \"#fb9f3a\"], [0.8888888888888888, \"#fdca26\"], [1.0, \"#f0f921\"]], \"sequentialminus\": [[0.0, \"#0d0887\"], [0.1111111111111111, \"#46039f\"], [0.2222222222222222, \"#7201a8\"], [0.3333333333333333, \"#9c179e\"], [0.4444444444444444, \"#bd3786\"], [0.5555555555555556, \"#d8576b\"], [0.6666666666666666, \"#ed7953\"], [0.7777777777777778, \"#fb9f3a\"], [0.8888888888888888, \"#fdca26\"], [1.0, \"#f0f921\"]]}, \"colorway\": [\"#636efa\", \"#EF553B\", \"#00cc96\", \"#ab63fa\", \"#FFA15A\", \"#19d3f3\", \"#FF6692\", \"#B6E880\", \"#FF97FF\", \"#FECB52\"], \"font\": {\"color\": \"#2a3f5f\"}, \"geo\": {\"bgcolor\": \"white\", \"lakecolor\": \"white\", \"landcolor\": \"#E5ECF6\", \"showlakes\": true, \"showland\": true, \"subunitcolor\": \"white\"}, \"hoverlabel\": {\"align\": \"left\"}, \"hovermode\": \"closest\", \"mapbox\": {\"style\": \"light\"}, \"paper_bgcolor\": \"white\", \"plot_bgcolor\": \"#E5ECF6\", \"polar\": {\"angularaxis\": {\"gridcolor\": \"white\", \"linecolor\": \"white\", \"ticks\": \"\"}, \"bgcolor\": \"#E5ECF6\", \"radialaxis\": {\"gridcolor\": \"white\", \"linecolor\": \"white\", \"ticks\": \"\"}}, \"scene\": {\"xaxis\": {\"backgroundcolor\": \"#E5ECF6\", \"gridcolor\": \"white\", \"gridwidth\": 2, \"linecolor\": \"white\", \"showbackground\": true, \"ticks\": \"\", \"zerolinecolor\": \"white\"}, \"yaxis\": {\"backgroundcolor\": \"#E5ECF6\", \"gridcolor\": \"white\", \"gridwidth\": 2, \"linecolor\": \"white\", \"showbackground\": true, \"ticks\": \"\", \"zerolinecolor\": \"white\"}, \"zaxis\": {\"backgroundcolor\": \"#E5ECF6\", \"gridcolor\": \"white\", \"gridwidth\": 2, \"linecolor\": \"white\", \"showbackground\": true, \"ticks\": \"\", \"zerolinecolor\": \"white\"}}, \"shapedefaults\": {\"line\": {\"color\": \"#2a3f5f\"}}, \"ternary\": {\"aaxis\": {\"gridcolor\": \"white\", \"linecolor\": \"white\", \"ticks\": \"\"}, \"baxis\": {\"gridcolor\": \"white\", \"linecolor\": \"white\", \"ticks\": \"\"}, \"bgcolor\": \"#E5ECF6\", \"caxis\": {\"gridcolor\": \"white\", \"linecolor\": \"white\", \"ticks\": \"\"}}, \"title\": {\"x\": 0.05}, \"xaxis\": {\"automargin\": true, \"gridcolor\": \"white\", \"linecolor\": \"white\", \"ticks\": \"\", \"title\": {\"standoff\": 15}, \"zerolinecolor\": \"white\", \"zerolinewidth\": 2}, \"yaxis\": {\"automargin\": true, \"gridcolor\": \"white\", \"linecolor\": \"white\", \"ticks\": \"\", \"title\": {\"standoff\": 15}, \"zerolinecolor\": \"white\", \"zerolinewidth\": 2}}}, \"title\": {\"text\": \"Distribution of Value ID with UI_UX complexity = 1 and 2, and Priority=Medium\"}},\n",
       "                        {\"responsive\": true}\n",
       "                    ).then(function(){\n",
       "                            \n",
       "var gd = document.getElementById('53858404-244c-464d-a351-970638c179ba');\n",
       "var x = new MutationObserver(function (mutations, observer) {{\n",
       "        var display = window.getComputedStyle(gd).display;\n",
       "        if (!display || display === 'none') {{\n",
       "            console.log([gd, 'removed!']);\n",
       "            Plotly.purge(gd);\n",
       "            observer.disconnect();\n",
       "        }}\n",
       "}});\n",
       "\n",
       "// Listen for the removal of the full notebook cells\n",
       "var notebookContainer = gd.closest('#notebook-container');\n",
       "if (notebookContainer) {{\n",
       "    x.observe(notebookContainer, {childList: true});\n",
       "}}\n",
       "\n",
       "// Listen for the clearing of the current output cell\n",
       "var outputEl = gd.closest('.output');\n",
       "if (outputEl) {{\n",
       "    x.observe(outputEl, {childList: true});\n",
       "}}\n",
       "\n",
       "                        })\n",
       "                };\n",
       "                });\n",
       "            </script>\n",
       "        </div>"
      ]
     },
     "metadata": {},
     "output_type": "display_data"
    }
   ],
   "source": [
    "#sunburst chart for Priority = Medium\n",
    "\n",
    "fig = px.sunburst(\n",
    "    data_frame = df_dv_dummies,\n",
    "    path = ['Value ID', 'Team', 'Farmer_profile_attribute'],\n",
    "    values = df_dv_dummies['Priority_2'],\n",
    "    title = 'Distribution of Value ID with UI_UX complexity = 1 and 2, and Priority=Medium'\n",
    "    )  \n",
    "\n",
    "fig.write_html(\"priority_med_w_user.html\")\n",
    "fig.show()"
   ]
  },
  {
   "cell_type": "markdown",
   "metadata": {},
   "source": [
    "### ii. Bar polar chart"
   ]
  },
  {
   "cell_type": "code",
   "execution_count": 61,
   "metadata": {},
   "outputs": [
    {
     "data": {
      "text/html": [
       "<div>\n",
       "<style scoped>\n",
       "    .dataframe tbody tr th:only-of-type {\n",
       "        vertical-align: middle;\n",
       "    }\n",
       "\n",
       "    .dataframe tbody tr th {\n",
       "        vertical-align: top;\n",
       "    }\n",
       "\n",
       "    .dataframe thead th {\n",
       "        text-align: right;\n",
       "    }\n",
       "</style>\n",
       "<table border=\"1\" class=\"dataframe\">\n",
       "  <thead>\n",
       "    <tr style=\"text-align: right;\">\n",
       "      <th></th>\n",
       "      <th>Value ID</th>\n",
       "      <th>Value</th>\n",
       "      <th>Priority</th>\n",
       "      <th>Team</th>\n",
       "      <th>Primary_data</th>\n",
       "      <th>Farmer_profile_attribute</th>\n",
       "      <th>UI_UX complexity</th>\n",
       "    </tr>\n",
       "  </thead>\n",
       "  <tbody>\n",
       "    <tr>\n",
       "      <th>58</th>\n",
       "      <td>gnc_gtm_mktg</td>\n",
       "      <td>Best Yara Product portfolio - useful for Yarac...</td>\n",
       "      <td>3</td>\n",
       "      <td>DA</td>\n",
       "      <td>Has he bought Yara prdt in last season</td>\n",
       "      <td>yara_customer</td>\n",
       "      <td>1</td>\n",
       "    </tr>\n",
       "    <tr>\n",
       "      <th>59</th>\n",
       "      <td>fertilizer_purchase</td>\n",
       "      <td>can be an indication of customer loyalty, use ...</td>\n",
       "      <td>3</td>\n",
       "      <td>DS Analyst</td>\n",
       "      <td>Has he bought Yara prdt in last season</td>\n",
       "      <td>yara_customer</td>\n",
       "      <td>1</td>\n",
       "    </tr>\n",
       "    <tr>\n",
       "      <th>61</th>\n",
       "      <td>fertilizer_purchase</td>\n",
       "      <td>what farmers are getting and price destruction</td>\n",
       "      <td>3</td>\n",
       "      <td>Prdt Sales</td>\n",
       "      <td>Has he bought Yara prdt in last season</td>\n",
       "      <td>yara_customer</td>\n",
       "      <td>1</td>\n",
       "    </tr>\n",
       "    <tr>\n",
       "      <th>62</th>\n",
       "      <td>user_behaviour</td>\n",
       "      <td>Understand user persona/profile so that we hav...</td>\n",
       "      <td>3</td>\n",
       "      <td>GnC</td>\n",
       "      <td>Has he bought Yara prdt in last season</td>\n",
       "      <td>yara_customer</td>\n",
       "      <td>1</td>\n",
       "    </tr>\n",
       "  </tbody>\n",
       "</table>\n",
       "</div>"
      ],
      "text/plain": [
       "               Value ID                                              Value  \\\n",
       "58         gnc_gtm_mktg  Best Yara Product portfolio - useful for Yarac...   \n",
       "59  fertilizer_purchase  can be an indication of customer loyalty, use ...   \n",
       "61  fertilizer_purchase     what farmers are getting and price destruction   \n",
       "62       user_behaviour  Understand user persona/profile so that we hav...   \n",
       "\n",
       "    Priority        Team                            Primary_data  \\\n",
       "58         3          DA  Has he bought Yara prdt in last season   \n",
       "59         3  DS Analyst  Has he bought Yara prdt in last season   \n",
       "61         3  Prdt Sales  Has he bought Yara prdt in last season   \n",
       "62         3         GnC  Has he bought Yara prdt in last season   \n",
       "\n",
       "   Farmer_profile_attribute  UI_UX complexity  \n",
       "58            yara_customer                 1  \n",
       "59            yara_customer                 1  \n",
       "61            yara_customer                 1  \n",
       "62            yara_customer                 1  "
      ]
     },
     "execution_count": 61,
     "metadata": {},
     "output_type": "execute_result"
    }
   ],
   "source": [
    "#checking on size of UI_UX complexity = 1\n",
    "\n",
    "df_shortlist_user1 = df_dv_shortlist[(df_dv_shortlist['UI_UX complexity']==1)]\n",
    "df_shortlist_user1"
   ]
  },
  {
   "cell_type": "code",
   "execution_count": 62,
   "metadata": {},
   "outputs": [
    {
     "data": {
      "application/vnd.plotly.v1+json": {
       "config": {
        "plotlyServerURL": "https://plot.ly"
       },
       "data": [
        {
         "hovertemplate": "Team=DA<br>Priority=%{r}<br>Value ID=%{theta}<extra></extra>",
         "legendgroup": "DA",
         "marker": {
          "color": "#636efa"
         },
         "name": "DA",
         "r": [
          3,
          3,
          3,
          3,
          2,
          2,
          2
         ],
         "showlegend": true,
         "subplot": "polar",
         "theta": [
          "fertilizer_appln",
          "gnc_gtm_mktg",
          "user_behaviour",
          "gnc_gtm_mktg",
          "gnc_gtm_mktg",
          "user_behaviour",
          "farmer_finance"
         ],
         "type": "barpolar"
        },
        {
         "hovertemplate": "Team=Prdt Sales<br>Priority=%{r}<br>Value ID=%{theta}<extra></extra>",
         "legendgroup": "Prdt Sales",
         "marker": {
          "color": "#EF553B"
         },
         "name": "Prdt Sales",
         "r": [
          3,
          3,
          3,
          3,
          3,
          3,
          3,
          3
         ],
         "showlegend": true,
         "subplot": "polar",
         "theta": [
          "fertilizer_purchase",
          "crop_market",
          "partner_info",
          "crop_market",
          "fertilizer_purchase",
          "fertilizer_purchase",
          "user_behaviour",
          "fertilizer_purchase"
         ],
         "type": "barpolar"
        },
        {
         "hovertemplate": "Team=GnC<br>Priority=%{r}<br>Value ID=%{theta}<extra></extra>",
         "legendgroup": "GnC",
         "marker": {
          "color": "#00cc96"
         },
         "name": "GnC",
         "r": [
          3,
          3,
          3,
          3,
          3,
          3,
          2,
          2,
          2
         ],
         "showlegend": true,
         "subplot": "polar",
         "theta": [
          "crop_market",
          "user_behaviour",
          "fertilizer_purchase",
          "gnc_gtm_mktg",
          "partner_info",
          "user_behaviour",
          "lead_generation",
          "gnc_gtm_mktg",
          "partner_info"
         ],
         "type": "barpolar"
        },
        {
         "hovertemplate": "Team=Soln<br>Priority=%{r}<br>Value ID=%{theta}<extra></extra>",
         "legendgroup": "Soln",
         "marker": {
          "color": "#ab63fa"
         },
         "name": "Soln",
         "r": [
          3,
          3,
          3,
          3,
          2
         ],
         "showlegend": true,
         "subplot": "polar",
         "theta": [
          "fertilizer_purchase",
          "fertilizer_purchase",
          "fertilizer_purchase",
          "farmer_finance",
          "prdt_develop"
         ],
         "type": "barpolar"
        },
        {
         "hovertemplate": "Team=DS Analyst<br>Priority=%{r}<br>Value ID=%{theta}<extra></extra>",
         "legendgroup": "DS Analyst",
         "marker": {
          "color": "#FFA15A"
         },
         "name": "DS Analyst",
         "r": [
          3,
          3,
          3,
          3
         ],
         "showlegend": true,
         "subplot": "polar",
         "theta": [
          "lead_generation",
          "user_behaviour",
          "gnc_gtm_mktg",
          "fertilizer_purchase"
         ],
         "type": "barpolar"
        }
       ],
       "layout": {
        "barmode": "relative",
        "legend": {
         "title": {
          "text": "Team"
         },
         "tracegroupgap": 0
        },
        "polar": {
         "angularaxis": {
          "direction": "clockwise",
          "rotation": 90
         },
         "domain": {
          "x": [
           0,
           1
          ],
          "y": [
           0,
           1
          ]
         }
        },
        "template": {
         "data": {
          "bar": [
           {
            "error_x": {
             "color": "#2a3f5f"
            },
            "error_y": {
             "color": "#2a3f5f"
            },
            "marker": {
             "line": {
              "color": "#E5ECF6",
              "width": 0.5
             }
            },
            "type": "bar"
           }
          ],
          "barpolar": [
           {
            "marker": {
             "line": {
              "color": "#E5ECF6",
              "width": 0.5
             }
            },
            "type": "barpolar"
           }
          ],
          "carpet": [
           {
            "aaxis": {
             "endlinecolor": "#2a3f5f",
             "gridcolor": "white",
             "linecolor": "white",
             "minorgridcolor": "white",
             "startlinecolor": "#2a3f5f"
            },
            "baxis": {
             "endlinecolor": "#2a3f5f",
             "gridcolor": "white",
             "linecolor": "white",
             "minorgridcolor": "white",
             "startlinecolor": "#2a3f5f"
            },
            "type": "carpet"
           }
          ],
          "choropleth": [
           {
            "colorbar": {
             "outlinewidth": 0,
             "ticks": ""
            },
            "type": "choropleth"
           }
          ],
          "contour": [
           {
            "colorbar": {
             "outlinewidth": 0,
             "ticks": ""
            },
            "colorscale": [
             [
              0,
              "#0d0887"
             ],
             [
              0.1111111111111111,
              "#46039f"
             ],
             [
              0.2222222222222222,
              "#7201a8"
             ],
             [
              0.3333333333333333,
              "#9c179e"
             ],
             [
              0.4444444444444444,
              "#bd3786"
             ],
             [
              0.5555555555555556,
              "#d8576b"
             ],
             [
              0.6666666666666666,
              "#ed7953"
             ],
             [
              0.7777777777777778,
              "#fb9f3a"
             ],
             [
              0.8888888888888888,
              "#fdca26"
             ],
             [
              1,
              "#f0f921"
             ]
            ],
            "type": "contour"
           }
          ],
          "contourcarpet": [
           {
            "colorbar": {
             "outlinewidth": 0,
             "ticks": ""
            },
            "type": "contourcarpet"
           }
          ],
          "heatmap": [
           {
            "colorbar": {
             "outlinewidth": 0,
             "ticks": ""
            },
            "colorscale": [
             [
              0,
              "#0d0887"
             ],
             [
              0.1111111111111111,
              "#46039f"
             ],
             [
              0.2222222222222222,
              "#7201a8"
             ],
             [
              0.3333333333333333,
              "#9c179e"
             ],
             [
              0.4444444444444444,
              "#bd3786"
             ],
             [
              0.5555555555555556,
              "#d8576b"
             ],
             [
              0.6666666666666666,
              "#ed7953"
             ],
             [
              0.7777777777777778,
              "#fb9f3a"
             ],
             [
              0.8888888888888888,
              "#fdca26"
             ],
             [
              1,
              "#f0f921"
             ]
            ],
            "type": "heatmap"
           }
          ],
          "heatmapgl": [
           {
            "colorbar": {
             "outlinewidth": 0,
             "ticks": ""
            },
            "colorscale": [
             [
              0,
              "#0d0887"
             ],
             [
              0.1111111111111111,
              "#46039f"
             ],
             [
              0.2222222222222222,
              "#7201a8"
             ],
             [
              0.3333333333333333,
              "#9c179e"
             ],
             [
              0.4444444444444444,
              "#bd3786"
             ],
             [
              0.5555555555555556,
              "#d8576b"
             ],
             [
              0.6666666666666666,
              "#ed7953"
             ],
             [
              0.7777777777777778,
              "#fb9f3a"
             ],
             [
              0.8888888888888888,
              "#fdca26"
             ],
             [
              1,
              "#f0f921"
             ]
            ],
            "type": "heatmapgl"
           }
          ],
          "histogram": [
           {
            "marker": {
             "colorbar": {
              "outlinewidth": 0,
              "ticks": ""
             }
            },
            "type": "histogram"
           }
          ],
          "histogram2d": [
           {
            "colorbar": {
             "outlinewidth": 0,
             "ticks": ""
            },
            "colorscale": [
             [
              0,
              "#0d0887"
             ],
             [
              0.1111111111111111,
              "#46039f"
             ],
             [
              0.2222222222222222,
              "#7201a8"
             ],
             [
              0.3333333333333333,
              "#9c179e"
             ],
             [
              0.4444444444444444,
              "#bd3786"
             ],
             [
              0.5555555555555556,
              "#d8576b"
             ],
             [
              0.6666666666666666,
              "#ed7953"
             ],
             [
              0.7777777777777778,
              "#fb9f3a"
             ],
             [
              0.8888888888888888,
              "#fdca26"
             ],
             [
              1,
              "#f0f921"
             ]
            ],
            "type": "histogram2d"
           }
          ],
          "histogram2dcontour": [
           {
            "colorbar": {
             "outlinewidth": 0,
             "ticks": ""
            },
            "colorscale": [
             [
              0,
              "#0d0887"
             ],
             [
              0.1111111111111111,
              "#46039f"
             ],
             [
              0.2222222222222222,
              "#7201a8"
             ],
             [
              0.3333333333333333,
              "#9c179e"
             ],
             [
              0.4444444444444444,
              "#bd3786"
             ],
             [
              0.5555555555555556,
              "#d8576b"
             ],
             [
              0.6666666666666666,
              "#ed7953"
             ],
             [
              0.7777777777777778,
              "#fb9f3a"
             ],
             [
              0.8888888888888888,
              "#fdca26"
             ],
             [
              1,
              "#f0f921"
             ]
            ],
            "type": "histogram2dcontour"
           }
          ],
          "mesh3d": [
           {
            "colorbar": {
             "outlinewidth": 0,
             "ticks": ""
            },
            "type": "mesh3d"
           }
          ],
          "parcoords": [
           {
            "line": {
             "colorbar": {
              "outlinewidth": 0,
              "ticks": ""
             }
            },
            "type": "parcoords"
           }
          ],
          "pie": [
           {
            "automargin": true,
            "type": "pie"
           }
          ],
          "scatter": [
           {
            "marker": {
             "colorbar": {
              "outlinewidth": 0,
              "ticks": ""
             }
            },
            "type": "scatter"
           }
          ],
          "scatter3d": [
           {
            "line": {
             "colorbar": {
              "outlinewidth": 0,
              "ticks": ""
             }
            },
            "marker": {
             "colorbar": {
              "outlinewidth": 0,
              "ticks": ""
             }
            },
            "type": "scatter3d"
           }
          ],
          "scattercarpet": [
           {
            "marker": {
             "colorbar": {
              "outlinewidth": 0,
              "ticks": ""
             }
            },
            "type": "scattercarpet"
           }
          ],
          "scattergeo": [
           {
            "marker": {
             "colorbar": {
              "outlinewidth": 0,
              "ticks": ""
             }
            },
            "type": "scattergeo"
           }
          ],
          "scattergl": [
           {
            "marker": {
             "colorbar": {
              "outlinewidth": 0,
              "ticks": ""
             }
            },
            "type": "scattergl"
           }
          ],
          "scattermapbox": [
           {
            "marker": {
             "colorbar": {
              "outlinewidth": 0,
              "ticks": ""
             }
            },
            "type": "scattermapbox"
           }
          ],
          "scatterpolar": [
           {
            "marker": {
             "colorbar": {
              "outlinewidth": 0,
              "ticks": ""
             }
            },
            "type": "scatterpolar"
           }
          ],
          "scatterpolargl": [
           {
            "marker": {
             "colorbar": {
              "outlinewidth": 0,
              "ticks": ""
             }
            },
            "type": "scatterpolargl"
           }
          ],
          "scatterternary": [
           {
            "marker": {
             "colorbar": {
              "outlinewidth": 0,
              "ticks": ""
             }
            },
            "type": "scatterternary"
           }
          ],
          "surface": [
           {
            "colorbar": {
             "outlinewidth": 0,
             "ticks": ""
            },
            "colorscale": [
             [
              0,
              "#0d0887"
             ],
             [
              0.1111111111111111,
              "#46039f"
             ],
             [
              0.2222222222222222,
              "#7201a8"
             ],
             [
              0.3333333333333333,
              "#9c179e"
             ],
             [
              0.4444444444444444,
              "#bd3786"
             ],
             [
              0.5555555555555556,
              "#d8576b"
             ],
             [
              0.6666666666666666,
              "#ed7953"
             ],
             [
              0.7777777777777778,
              "#fb9f3a"
             ],
             [
              0.8888888888888888,
              "#fdca26"
             ],
             [
              1,
              "#f0f921"
             ]
            ],
            "type": "surface"
           }
          ],
          "table": [
           {
            "cells": {
             "fill": {
              "color": "#EBF0F8"
             },
             "line": {
              "color": "white"
             }
            },
            "header": {
             "fill": {
              "color": "#C8D4E3"
             },
             "line": {
              "color": "white"
             }
            },
            "type": "table"
           }
          ]
         },
         "layout": {
          "annotationdefaults": {
           "arrowcolor": "#2a3f5f",
           "arrowhead": 0,
           "arrowwidth": 1
          },
          "coloraxis": {
           "colorbar": {
            "outlinewidth": 0,
            "ticks": ""
           }
          },
          "colorscale": {
           "diverging": [
            [
             0,
             "#8e0152"
            ],
            [
             0.1,
             "#c51b7d"
            ],
            [
             0.2,
             "#de77ae"
            ],
            [
             0.3,
             "#f1b6da"
            ],
            [
             0.4,
             "#fde0ef"
            ],
            [
             0.5,
             "#f7f7f7"
            ],
            [
             0.6,
             "#e6f5d0"
            ],
            [
             0.7,
             "#b8e186"
            ],
            [
             0.8,
             "#7fbc41"
            ],
            [
             0.9,
             "#4d9221"
            ],
            [
             1,
             "#276419"
            ]
           ],
           "sequential": [
            [
             0,
             "#0d0887"
            ],
            [
             0.1111111111111111,
             "#46039f"
            ],
            [
             0.2222222222222222,
             "#7201a8"
            ],
            [
             0.3333333333333333,
             "#9c179e"
            ],
            [
             0.4444444444444444,
             "#bd3786"
            ],
            [
             0.5555555555555556,
             "#d8576b"
            ],
            [
             0.6666666666666666,
             "#ed7953"
            ],
            [
             0.7777777777777778,
             "#fb9f3a"
            ],
            [
             0.8888888888888888,
             "#fdca26"
            ],
            [
             1,
             "#f0f921"
            ]
           ],
           "sequentialminus": [
            [
             0,
             "#0d0887"
            ],
            [
             0.1111111111111111,
             "#46039f"
            ],
            [
             0.2222222222222222,
             "#7201a8"
            ],
            [
             0.3333333333333333,
             "#9c179e"
            ],
            [
             0.4444444444444444,
             "#bd3786"
            ],
            [
             0.5555555555555556,
             "#d8576b"
            ],
            [
             0.6666666666666666,
             "#ed7953"
            ],
            [
             0.7777777777777778,
             "#fb9f3a"
            ],
            [
             0.8888888888888888,
             "#fdca26"
            ],
            [
             1,
             "#f0f921"
            ]
           ]
          },
          "colorway": [
           "#636efa",
           "#EF553B",
           "#00cc96",
           "#ab63fa",
           "#FFA15A",
           "#19d3f3",
           "#FF6692",
           "#B6E880",
           "#FF97FF",
           "#FECB52"
          ],
          "font": {
           "color": "#2a3f5f"
          },
          "geo": {
           "bgcolor": "white",
           "lakecolor": "white",
           "landcolor": "#E5ECF6",
           "showlakes": true,
           "showland": true,
           "subunitcolor": "white"
          },
          "hoverlabel": {
           "align": "left"
          },
          "hovermode": "closest",
          "mapbox": {
           "style": "light"
          },
          "paper_bgcolor": "white",
          "plot_bgcolor": "#E5ECF6",
          "polar": {
           "angularaxis": {
            "gridcolor": "white",
            "linecolor": "white",
            "ticks": ""
           },
           "bgcolor": "#E5ECF6",
           "radialaxis": {
            "gridcolor": "white",
            "linecolor": "white",
            "ticks": ""
           }
          },
          "scene": {
           "xaxis": {
            "backgroundcolor": "#E5ECF6",
            "gridcolor": "white",
            "gridwidth": 2,
            "linecolor": "white",
            "showbackground": true,
            "ticks": "",
            "zerolinecolor": "white"
           },
           "yaxis": {
            "backgroundcolor": "#E5ECF6",
            "gridcolor": "white",
            "gridwidth": 2,
            "linecolor": "white",
            "showbackground": true,
            "ticks": "",
            "zerolinecolor": "white"
           },
           "zaxis": {
            "backgroundcolor": "#E5ECF6",
            "gridcolor": "white",
            "gridwidth": 2,
            "linecolor": "white",
            "showbackground": true,
            "ticks": "",
            "zerolinecolor": "white"
           }
          },
          "shapedefaults": {
           "line": {
            "color": "#2a3f5f"
           }
          },
          "ternary": {
           "aaxis": {
            "gridcolor": "white",
            "linecolor": "white",
            "ticks": ""
           },
           "baxis": {
            "gridcolor": "white",
            "linecolor": "white",
            "ticks": ""
           },
           "bgcolor": "#E5ECF6",
           "caxis": {
            "gridcolor": "white",
            "linecolor": "white",
            "ticks": ""
           }
          },
          "title": {
           "x": 0.05
          },
          "xaxis": {
           "automargin": true,
           "gridcolor": "white",
           "linecolor": "white",
           "ticks": "",
           "title": {
            "standoff": 15
           },
           "zerolinecolor": "white",
           "zerolinewidth": 2
          },
          "yaxis": {
           "automargin": true,
           "gridcolor": "white",
           "linecolor": "white",
           "ticks": "",
           "title": {
            "standoff": 15
           },
           "zerolinecolor": "white",
           "zerolinewidth": 2
          }
         }
        },
        "title": {
         "text": "Distribution of Value ID with UI_UX complexity = 1 and 2 and Priority=High and Medium"
        }
       }
      },
      "text/html": [
       "<div>\n",
       "        \n",
       "        \n",
       "            <div id=\"3eeaed47-3203-4e07-b65f-28704f75df42\" class=\"plotly-graph-div\" style=\"height:525px; width:100%;\"></div>\n",
       "            <script type=\"text/javascript\">\n",
       "                require([\"plotly\"], function(Plotly) {\n",
       "                    window.PLOTLYENV=window.PLOTLYENV || {};\n",
       "                    \n",
       "                if (document.getElementById(\"3eeaed47-3203-4e07-b65f-28704f75df42\")) {\n",
       "                    Plotly.newPlot(\n",
       "                        '3eeaed47-3203-4e07-b65f-28704f75df42',\n",
       "                        [{\"hovertemplate\": \"Team=DA<br>Priority=%{r}<br>Value ID=%{theta}<extra></extra>\", \"legendgroup\": \"DA\", \"marker\": {\"color\": \"#636efa\"}, \"name\": \"DA\", \"r\": [3, 3, 3, 3, 2, 2, 2], \"showlegend\": true, \"subplot\": \"polar\", \"theta\": [\"fertilizer_appln\", \"gnc_gtm_mktg\", \"user_behaviour\", \"gnc_gtm_mktg\", \"gnc_gtm_mktg\", \"user_behaviour\", \"farmer_finance\"], \"type\": \"barpolar\"}, {\"hovertemplate\": \"Team=Prdt Sales<br>Priority=%{r}<br>Value ID=%{theta}<extra></extra>\", \"legendgroup\": \"Prdt Sales\", \"marker\": {\"color\": \"#EF553B\"}, \"name\": \"Prdt Sales\", \"r\": [3, 3, 3, 3, 3, 3, 3, 3], \"showlegend\": true, \"subplot\": \"polar\", \"theta\": [\"fertilizer_purchase\", \"crop_market\", \"partner_info\", \"crop_market\", \"fertilizer_purchase\", \"fertilizer_purchase\", \"user_behaviour\", \"fertilizer_purchase\"], \"type\": \"barpolar\"}, {\"hovertemplate\": \"Team=GnC<br>Priority=%{r}<br>Value ID=%{theta}<extra></extra>\", \"legendgroup\": \"GnC\", \"marker\": {\"color\": \"#00cc96\"}, \"name\": \"GnC\", \"r\": [3, 3, 3, 3, 3, 3, 2, 2, 2], \"showlegend\": true, \"subplot\": \"polar\", \"theta\": [\"crop_market\", \"user_behaviour\", \"fertilizer_purchase\", \"gnc_gtm_mktg\", \"partner_info\", \"user_behaviour\", \"lead_generation\", \"gnc_gtm_mktg\", \"partner_info\"], \"type\": \"barpolar\"}, {\"hovertemplate\": \"Team=Soln<br>Priority=%{r}<br>Value ID=%{theta}<extra></extra>\", \"legendgroup\": \"Soln\", \"marker\": {\"color\": \"#ab63fa\"}, \"name\": \"Soln\", \"r\": [3, 3, 3, 3, 2], \"showlegend\": true, \"subplot\": \"polar\", \"theta\": [\"fertilizer_purchase\", \"fertilizer_purchase\", \"fertilizer_purchase\", \"farmer_finance\", \"prdt_develop\"], \"type\": \"barpolar\"}, {\"hovertemplate\": \"Team=DS Analyst<br>Priority=%{r}<br>Value ID=%{theta}<extra></extra>\", \"legendgroup\": \"DS Analyst\", \"marker\": {\"color\": \"#FFA15A\"}, \"name\": \"DS Analyst\", \"r\": [3, 3, 3, 3], \"showlegend\": true, \"subplot\": \"polar\", \"theta\": [\"lead_generation\", \"user_behaviour\", \"gnc_gtm_mktg\", \"fertilizer_purchase\"], \"type\": \"barpolar\"}],\n",
       "                        {\"barmode\": \"relative\", \"legend\": {\"title\": {\"text\": \"Team\"}, \"tracegroupgap\": 0}, \"polar\": {\"angularaxis\": {\"direction\": \"clockwise\", \"rotation\": 90}, \"domain\": {\"x\": [0.0, 1.0], \"y\": [0.0, 1.0]}}, \"template\": {\"data\": {\"bar\": [{\"error_x\": {\"color\": \"#2a3f5f\"}, \"error_y\": {\"color\": \"#2a3f5f\"}, \"marker\": {\"line\": {\"color\": \"#E5ECF6\", \"width\": 0.5}}, \"type\": \"bar\"}], \"barpolar\": [{\"marker\": {\"line\": {\"color\": \"#E5ECF6\", \"width\": 0.5}}, \"type\": \"barpolar\"}], \"carpet\": [{\"aaxis\": {\"endlinecolor\": \"#2a3f5f\", \"gridcolor\": \"white\", \"linecolor\": \"white\", \"minorgridcolor\": \"white\", \"startlinecolor\": \"#2a3f5f\"}, \"baxis\": {\"endlinecolor\": \"#2a3f5f\", \"gridcolor\": \"white\", \"linecolor\": \"white\", \"minorgridcolor\": \"white\", \"startlinecolor\": \"#2a3f5f\"}, \"type\": \"carpet\"}], \"choropleth\": [{\"colorbar\": {\"outlinewidth\": 0, \"ticks\": \"\"}, \"type\": \"choropleth\"}], \"contour\": [{\"colorbar\": {\"outlinewidth\": 0, \"ticks\": \"\"}, \"colorscale\": [[0.0, \"#0d0887\"], [0.1111111111111111, \"#46039f\"], [0.2222222222222222, \"#7201a8\"], [0.3333333333333333, \"#9c179e\"], [0.4444444444444444, \"#bd3786\"], [0.5555555555555556, \"#d8576b\"], [0.6666666666666666, \"#ed7953\"], [0.7777777777777778, \"#fb9f3a\"], [0.8888888888888888, \"#fdca26\"], [1.0, \"#f0f921\"]], \"type\": \"contour\"}], \"contourcarpet\": [{\"colorbar\": {\"outlinewidth\": 0, \"ticks\": \"\"}, \"type\": \"contourcarpet\"}], \"heatmap\": [{\"colorbar\": {\"outlinewidth\": 0, \"ticks\": \"\"}, \"colorscale\": [[0.0, \"#0d0887\"], [0.1111111111111111, \"#46039f\"], [0.2222222222222222, \"#7201a8\"], [0.3333333333333333, \"#9c179e\"], [0.4444444444444444, \"#bd3786\"], [0.5555555555555556, \"#d8576b\"], [0.6666666666666666, \"#ed7953\"], [0.7777777777777778, \"#fb9f3a\"], [0.8888888888888888, \"#fdca26\"], [1.0, \"#f0f921\"]], \"type\": \"heatmap\"}], \"heatmapgl\": [{\"colorbar\": {\"outlinewidth\": 0, \"ticks\": \"\"}, \"colorscale\": [[0.0, \"#0d0887\"], [0.1111111111111111, \"#46039f\"], [0.2222222222222222, \"#7201a8\"], [0.3333333333333333, \"#9c179e\"], [0.4444444444444444, \"#bd3786\"], [0.5555555555555556, \"#d8576b\"], [0.6666666666666666, \"#ed7953\"], [0.7777777777777778, \"#fb9f3a\"], [0.8888888888888888, \"#fdca26\"], [1.0, \"#f0f921\"]], \"type\": \"heatmapgl\"}], \"histogram\": [{\"marker\": {\"colorbar\": {\"outlinewidth\": 0, \"ticks\": \"\"}}, \"type\": \"histogram\"}], \"histogram2d\": [{\"colorbar\": {\"outlinewidth\": 0, \"ticks\": \"\"}, \"colorscale\": [[0.0, \"#0d0887\"], [0.1111111111111111, \"#46039f\"], [0.2222222222222222, \"#7201a8\"], [0.3333333333333333, \"#9c179e\"], [0.4444444444444444, \"#bd3786\"], [0.5555555555555556, \"#d8576b\"], [0.6666666666666666, \"#ed7953\"], [0.7777777777777778, \"#fb9f3a\"], [0.8888888888888888, \"#fdca26\"], [1.0, \"#f0f921\"]], \"type\": \"histogram2d\"}], \"histogram2dcontour\": [{\"colorbar\": {\"outlinewidth\": 0, \"ticks\": \"\"}, \"colorscale\": [[0.0, \"#0d0887\"], [0.1111111111111111, \"#46039f\"], [0.2222222222222222, \"#7201a8\"], [0.3333333333333333, \"#9c179e\"], [0.4444444444444444, \"#bd3786\"], [0.5555555555555556, \"#d8576b\"], [0.6666666666666666, \"#ed7953\"], [0.7777777777777778, \"#fb9f3a\"], [0.8888888888888888, \"#fdca26\"], [1.0, \"#f0f921\"]], \"type\": \"histogram2dcontour\"}], \"mesh3d\": [{\"colorbar\": {\"outlinewidth\": 0, \"ticks\": \"\"}, \"type\": \"mesh3d\"}], \"parcoords\": [{\"line\": {\"colorbar\": {\"outlinewidth\": 0, \"ticks\": \"\"}}, \"type\": \"parcoords\"}], \"pie\": [{\"automargin\": true, \"type\": \"pie\"}], \"scatter\": [{\"marker\": {\"colorbar\": {\"outlinewidth\": 0, \"ticks\": \"\"}}, \"type\": \"scatter\"}], \"scatter3d\": [{\"line\": {\"colorbar\": {\"outlinewidth\": 0, \"ticks\": \"\"}}, \"marker\": {\"colorbar\": {\"outlinewidth\": 0, \"ticks\": \"\"}}, \"type\": \"scatter3d\"}], \"scattercarpet\": [{\"marker\": {\"colorbar\": {\"outlinewidth\": 0, \"ticks\": \"\"}}, \"type\": \"scattercarpet\"}], \"scattergeo\": [{\"marker\": {\"colorbar\": {\"outlinewidth\": 0, \"ticks\": \"\"}}, \"type\": \"scattergeo\"}], \"scattergl\": [{\"marker\": {\"colorbar\": {\"outlinewidth\": 0, \"ticks\": \"\"}}, \"type\": \"scattergl\"}], \"scattermapbox\": [{\"marker\": {\"colorbar\": {\"outlinewidth\": 0, \"ticks\": \"\"}}, \"type\": \"scattermapbox\"}], \"scatterpolar\": [{\"marker\": {\"colorbar\": {\"outlinewidth\": 0, \"ticks\": \"\"}}, \"type\": \"scatterpolar\"}], \"scatterpolargl\": [{\"marker\": {\"colorbar\": {\"outlinewidth\": 0, \"ticks\": \"\"}}, \"type\": \"scatterpolargl\"}], \"scatterternary\": [{\"marker\": {\"colorbar\": {\"outlinewidth\": 0, \"ticks\": \"\"}}, \"type\": \"scatterternary\"}], \"surface\": [{\"colorbar\": {\"outlinewidth\": 0, \"ticks\": \"\"}, \"colorscale\": [[0.0, \"#0d0887\"], [0.1111111111111111, \"#46039f\"], [0.2222222222222222, \"#7201a8\"], [0.3333333333333333, \"#9c179e\"], [0.4444444444444444, \"#bd3786\"], [0.5555555555555556, \"#d8576b\"], [0.6666666666666666, \"#ed7953\"], [0.7777777777777778, \"#fb9f3a\"], [0.8888888888888888, \"#fdca26\"], [1.0, \"#f0f921\"]], \"type\": \"surface\"}], \"table\": [{\"cells\": {\"fill\": {\"color\": \"#EBF0F8\"}, \"line\": {\"color\": \"white\"}}, \"header\": {\"fill\": {\"color\": \"#C8D4E3\"}, \"line\": {\"color\": \"white\"}}, \"type\": \"table\"}]}, \"layout\": {\"annotationdefaults\": {\"arrowcolor\": \"#2a3f5f\", \"arrowhead\": 0, \"arrowwidth\": 1}, \"coloraxis\": {\"colorbar\": {\"outlinewidth\": 0, \"ticks\": \"\"}}, \"colorscale\": {\"diverging\": [[0, \"#8e0152\"], [0.1, \"#c51b7d\"], [0.2, \"#de77ae\"], [0.3, \"#f1b6da\"], [0.4, \"#fde0ef\"], [0.5, \"#f7f7f7\"], [0.6, \"#e6f5d0\"], [0.7, \"#b8e186\"], [0.8, \"#7fbc41\"], [0.9, \"#4d9221\"], [1, \"#276419\"]], \"sequential\": [[0.0, \"#0d0887\"], [0.1111111111111111, \"#46039f\"], [0.2222222222222222, \"#7201a8\"], [0.3333333333333333, \"#9c179e\"], [0.4444444444444444, \"#bd3786\"], [0.5555555555555556, \"#d8576b\"], [0.6666666666666666, \"#ed7953\"], [0.7777777777777778, \"#fb9f3a\"], [0.8888888888888888, \"#fdca26\"], [1.0, \"#f0f921\"]], \"sequentialminus\": [[0.0, \"#0d0887\"], [0.1111111111111111, \"#46039f\"], [0.2222222222222222, \"#7201a8\"], [0.3333333333333333, \"#9c179e\"], [0.4444444444444444, \"#bd3786\"], [0.5555555555555556, \"#d8576b\"], [0.6666666666666666, \"#ed7953\"], [0.7777777777777778, \"#fb9f3a\"], [0.8888888888888888, \"#fdca26\"], [1.0, \"#f0f921\"]]}, \"colorway\": [\"#636efa\", \"#EF553B\", \"#00cc96\", \"#ab63fa\", \"#FFA15A\", \"#19d3f3\", \"#FF6692\", \"#B6E880\", \"#FF97FF\", \"#FECB52\"], \"font\": {\"color\": \"#2a3f5f\"}, \"geo\": {\"bgcolor\": \"white\", \"lakecolor\": \"white\", \"landcolor\": \"#E5ECF6\", \"showlakes\": true, \"showland\": true, \"subunitcolor\": \"white\"}, \"hoverlabel\": {\"align\": \"left\"}, \"hovermode\": \"closest\", \"mapbox\": {\"style\": \"light\"}, \"paper_bgcolor\": \"white\", \"plot_bgcolor\": \"#E5ECF6\", \"polar\": {\"angularaxis\": {\"gridcolor\": \"white\", \"linecolor\": \"white\", \"ticks\": \"\"}, \"bgcolor\": \"#E5ECF6\", \"radialaxis\": {\"gridcolor\": \"white\", \"linecolor\": \"white\", \"ticks\": \"\"}}, \"scene\": {\"xaxis\": {\"backgroundcolor\": \"#E5ECF6\", \"gridcolor\": \"white\", \"gridwidth\": 2, \"linecolor\": \"white\", \"showbackground\": true, \"ticks\": \"\", \"zerolinecolor\": \"white\"}, \"yaxis\": {\"backgroundcolor\": \"#E5ECF6\", \"gridcolor\": \"white\", \"gridwidth\": 2, \"linecolor\": \"white\", \"showbackground\": true, \"ticks\": \"\", \"zerolinecolor\": \"white\"}, \"zaxis\": {\"backgroundcolor\": \"#E5ECF6\", \"gridcolor\": \"white\", \"gridwidth\": 2, \"linecolor\": \"white\", \"showbackground\": true, \"ticks\": \"\", \"zerolinecolor\": \"white\"}}, \"shapedefaults\": {\"line\": {\"color\": \"#2a3f5f\"}}, \"ternary\": {\"aaxis\": {\"gridcolor\": \"white\", \"linecolor\": \"white\", \"ticks\": \"\"}, \"baxis\": {\"gridcolor\": \"white\", \"linecolor\": \"white\", \"ticks\": \"\"}, \"bgcolor\": \"#E5ECF6\", \"caxis\": {\"gridcolor\": \"white\", \"linecolor\": \"white\", \"ticks\": \"\"}}, \"title\": {\"x\": 0.05}, \"xaxis\": {\"automargin\": true, \"gridcolor\": \"white\", \"linecolor\": \"white\", \"ticks\": \"\", \"title\": {\"standoff\": 15}, \"zerolinecolor\": \"white\", \"zerolinewidth\": 2}, \"yaxis\": {\"automargin\": true, \"gridcolor\": \"white\", \"linecolor\": \"white\", \"ticks\": \"\", \"title\": {\"standoff\": 15}, \"zerolinecolor\": \"white\", \"zerolinewidth\": 2}}}, \"title\": {\"text\": \"Distribution of Value ID with UI_UX complexity = 1 and 2 and Priority=High and Medium\"}},\n",
       "                        {\"responsive\": true}\n",
       "                    ).then(function(){\n",
       "                            \n",
       "var gd = document.getElementById('3eeaed47-3203-4e07-b65f-28704f75df42');\n",
       "var x = new MutationObserver(function (mutations, observer) {{\n",
       "        var display = window.getComputedStyle(gd).display;\n",
       "        if (!display || display === 'none') {{\n",
       "            console.log([gd, 'removed!']);\n",
       "            Plotly.purge(gd);\n",
       "            observer.disconnect();\n",
       "        }}\n",
       "}});\n",
       "\n",
       "// Listen for the removal of the full notebook cells\n",
       "var notebookContainer = gd.closest('#notebook-container');\n",
       "if (notebookContainer) {{\n",
       "    x.observe(notebookContainer, {childList: true});\n",
       "}}\n",
       "\n",
       "// Listen for the clearing of the current output cell\n",
       "var outputEl = gd.closest('.output');\n",
       "if (outputEl) {{\n",
       "    x.observe(outputEl, {childList: true});\n",
       "}}\n",
       "\n",
       "                        })\n",
       "                };\n",
       "                });\n",
       "            </script>\n",
       "        </div>"
      ]
     },
     "metadata": {},
     "output_type": "display_data"
    }
   ],
   "source": [
    "#combining UI_UX complexity of 1 and 2, since there are only 4 entries with complexity = 1\n",
    "\n",
    "fig = px.bar_polar(df_dv_shortlist, r=\"Priority\", theta=\"Value ID\", color=\"Team\", \n",
    "            color_continuous_scale=px.colors.sequential.Viridis, \n",
    "            title= 'Distribution of Value ID with UI_UX complexity = 1 and 2 and Priority=High and Medium')\n",
    "fig.show()"
   ]
  },
  {
   "cell_type": "markdown",
   "metadata": {},
   "source": [
    "### iii. Sankey diagram"
   ]
  },
  {
   "cell_type": "code",
   "execution_count": 69,
   "metadata": {},
   "outputs": [
    {
     "data": {
      "text/plain": [
       "array(['fertilizer_appln', 'fertilizer_purchase', 'crop_market',\n",
       "       'partner_info', 'user_behaviour', 'lead_generation',\n",
       "       'farmer_finance', 'gnc_gtm_mktg', 'prdt_develop'], dtype=object)"
      ]
     },
     "execution_count": 69,
     "metadata": {},
     "output_type": "execute_result"
    }
   ],
   "source": [
    "df_dv_dummies['Value ID'].unique()"
   ]
  },
  {
   "cell_type": "code",
   "execution_count": 70,
   "metadata": {
    "scrolled": true
   },
   "outputs": [
    {
     "data": {
      "text/html": [
       "<div>\n",
       "<style scoped>\n",
       "    .dataframe tbody tr th:only-of-type {\n",
       "        vertical-align: middle;\n",
       "    }\n",
       "\n",
       "    .dataframe tbody tr th {\n",
       "        vertical-align: top;\n",
       "    }\n",
       "\n",
       "    .dataframe thead th {\n",
       "        text-align: right;\n",
       "    }\n",
       "</style>\n",
       "<table border=\"1\" class=\"dataframe\">\n",
       "  <thead>\n",
       "    <tr style=\"text-align: right;\">\n",
       "      <th></th>\n",
       "      <th>Value ID</th>\n",
       "      <th>Value</th>\n",
       "      <th>Team</th>\n",
       "      <th>Primary_data</th>\n",
       "      <th>Farmer_profile_attribute</th>\n",
       "      <th>Priority_2</th>\n",
       "      <th>Priority_3</th>\n",
       "      <th>UI_UX complexity_1</th>\n",
       "      <th>UI_UX complexity_2</th>\n",
       "    </tr>\n",
       "  </thead>\n",
       "  <tbody>\n",
       "    <tr>\n",
       "      <th>32</th>\n",
       "      <td>3</td>\n",
       "      <td>Size/area of farm determines the volume of fer...</td>\n",
       "      <td>13</td>\n",
       "      <td>what info would help user most? top 3 choices</td>\n",
       "      <td>22</td>\n",
       "      <td>0</td>\n",
       "      <td>1</td>\n",
       "      <td>0</td>\n",
       "      <td>1</td>\n",
       "    </tr>\n",
       "    <tr>\n",
       "      <th>65</th>\n",
       "      <td>4</td>\n",
       "      <td>what farmers are getting and price destruction</td>\n",
       "      <td>10</td>\n",
       "      <td>actual price farmer paid for Yara or non-Yara ...</td>\n",
       "      <td>16</td>\n",
       "      <td>0</td>\n",
       "      <td>1</td>\n",
       "      <td>0</td>\n",
       "      <td>1</td>\n",
       "    </tr>\n",
       "    <tr>\n",
       "      <th>104</th>\n",
       "      <td>1</td>\n",
       "      <td>Starting to map out the ecosystem and suggesti...</td>\n",
       "      <td>12</td>\n",
       "      <td>name of town/market he normally sells at</td>\n",
       "      <td>21</td>\n",
       "      <td>0</td>\n",
       "      <td>1</td>\n",
       "      <td>0</td>\n",
       "      <td>1</td>\n",
       "    </tr>\n",
       "    <tr>\n",
       "      <th>103</th>\n",
       "      <td>1</td>\n",
       "      <td>Marketplace knowledge for local marketing and ...</td>\n",
       "      <td>10</td>\n",
       "      <td>name of town/market he normally sells at</td>\n",
       "      <td>21</td>\n",
       "      <td>0</td>\n",
       "      <td>1</td>\n",
       "      <td>0</td>\n",
       "      <td>1</td>\n",
       "    </tr>\n",
       "    <tr>\n",
       "      <th>102</th>\n",
       "      <td>4</td>\n",
       "      <td>This whole section is very useful from a produ...</td>\n",
       "      <td>11</td>\n",
       "      <td>name of town/market he normally sells at</td>\n",
       "      <td>21</td>\n",
       "      <td>0</td>\n",
       "      <td>1</td>\n",
       "      <td>0</td>\n",
       "      <td>1</td>\n",
       "    </tr>\n",
       "    <tr>\n",
       "      <th>100</th>\n",
       "      <td>7</td>\n",
       "      <td>Key companies to work with for local team and DF</td>\n",
       "      <td>10</td>\n",
       "      <td>Name of contract buyer</td>\n",
       "      <td>19</td>\n",
       "      <td>0</td>\n",
       "      <td>1</td>\n",
       "      <td>0</td>\n",
       "      <td>1</td>\n",
       "    </tr>\n",
       "    <tr>\n",
       "      <th>99</th>\n",
       "      <td>4</td>\n",
       "      <td>This whole section is very useful from a produ...</td>\n",
       "      <td>11</td>\n",
       "      <td>Name of contract buyer</td>\n",
       "      <td>19</td>\n",
       "      <td>0</td>\n",
       "      <td>1</td>\n",
       "      <td>0</td>\n",
       "      <td>1</td>\n",
       "    </tr>\n",
       "    <tr>\n",
       "      <th>98</th>\n",
       "      <td>9</td>\n",
       "      <td>Understand user persona/profile so that we hav...</td>\n",
       "      <td>12</td>\n",
       "      <td>Is he a contract farmer?</td>\n",
       "      <td>20</td>\n",
       "      <td>0</td>\n",
       "      <td>1</td>\n",
       "      <td>0</td>\n",
       "      <td>1</td>\n",
       "    </tr>\n",
       "    <tr>\n",
       "      <th>97</th>\n",
       "      <td>1</td>\n",
       "      <td>Marketplace linked or not</td>\n",
       "      <td>10</td>\n",
       "      <td>Is he a contract farmer?</td>\n",
       "      <td>20</td>\n",
       "      <td>0</td>\n",
       "      <td>1</td>\n",
       "      <td>0</td>\n",
       "      <td>1</td>\n",
       "    </tr>\n",
       "    <tr>\n",
       "      <th>96</th>\n",
       "      <td>4</td>\n",
       "      <td>This whole section is very useful from a produ...</td>\n",
       "      <td>11</td>\n",
       "      <td>Is he a contract farmer?</td>\n",
       "      <td>20</td>\n",
       "      <td>0</td>\n",
       "      <td>1</td>\n",
       "      <td>0</td>\n",
       "      <td>1</td>\n",
       "    </tr>\n",
       "    <tr>\n",
       "      <th>87</th>\n",
       "      <td>6</td>\n",
       "      <td>good for cross-selling and lead generation</td>\n",
       "      <td>14</td>\n",
       "      <td>other Yara apps he has heard about</td>\n",
       "      <td>23</td>\n",
       "      <td>0</td>\n",
       "      <td>1</td>\n",
       "      <td>0</td>\n",
       "      <td>1</td>\n",
       "    </tr>\n",
       "    <tr>\n",
       "      <th>70</th>\n",
       "      <td>9</td>\n",
       "      <td>what is it about the app that engages the farm...</td>\n",
       "      <td>14</td>\n",
       "      <td>popular apps he uses</td>\n",
       "      <td>23</td>\n",
       "      <td>0</td>\n",
       "      <td>1</td>\n",
       "      <td>0</td>\n",
       "      <td>1</td>\n",
       "    </tr>\n",
       "    <tr>\n",
       "      <th>69</th>\n",
       "      <td>4</td>\n",
       "      <td>This will help product team to plan for future...</td>\n",
       "      <td>12</td>\n",
       "      <td>how he makes payments (paytm, cash, bank accou...</td>\n",
       "      <td>17</td>\n",
       "      <td>0</td>\n",
       "      <td>1</td>\n",
       "      <td>0</td>\n",
       "      <td>1</td>\n",
       "    </tr>\n",
       "    <tr>\n",
       "      <th>67</th>\n",
       "      <td>2</td>\n",
       "      <td>Extremely high value if expanded to cover more...</td>\n",
       "      <td>11</td>\n",
       "      <td>how he makes payments (paytm, cash, bank accou...</td>\n",
       "      <td>17</td>\n",
       "      <td>0</td>\n",
       "      <td>1</td>\n",
       "      <td>0</td>\n",
       "      <td>1</td>\n",
       "    </tr>\n",
       "    <tr>\n",
       "      <th>68</th>\n",
       "      <td>4</td>\n",
       "      <td>what farmers are getting and price destruction</td>\n",
       "      <td>10</td>\n",
       "      <td>how he makes payments (paytm, cash, bank accou...</td>\n",
       "      <td>17</td>\n",
       "      <td>0</td>\n",
       "      <td>1</td>\n",
       "      <td>0</td>\n",
       "      <td>1</td>\n",
       "    </tr>\n",
       "    <tr>\n",
       "      <th>56</th>\n",
       "      <td>4</td>\n",
       "      <td>what farmers are getting and price destruction</td>\n",
       "      <td>10</td>\n",
       "      <td>brands he generally buys</td>\n",
       "      <td>15</td>\n",
       "      <td>0</td>\n",
       "      <td>1</td>\n",
       "      <td>0</td>\n",
       "      <td>1</td>\n",
       "    </tr>\n",
       "    <tr>\n",
       "      <th>58</th>\n",
       "      <td>5</td>\n",
       "      <td>Best Yara Product portfolio - useful for Yarac...</td>\n",
       "      <td>13</td>\n",
       "      <td>Has he bought Yara prdt in last season</td>\n",
       "      <td>18</td>\n",
       "      <td>0</td>\n",
       "      <td>1</td>\n",
       "      <td>1</td>\n",
       "      <td>0</td>\n",
       "    </tr>\n",
       "    <tr>\n",
       "      <th>35</th>\n",
       "      <td>5</td>\n",
       "      <td>Campaigns can be focused on what us the most h...</td>\n",
       "      <td>12</td>\n",
       "      <td>what info would help user most? top 3 choices</td>\n",
       "      <td>22</td>\n",
       "      <td>0</td>\n",
       "      <td>1</td>\n",
       "      <td>0</td>\n",
       "      <td>1</td>\n",
       "    </tr>\n",
       "    <tr>\n",
       "      <th>50</th>\n",
       "      <td>9</td>\n",
       "      <td>Brands used</td>\n",
       "      <td>10</td>\n",
       "      <td>does he buy generic / branded</td>\n",
       "      <td>15</td>\n",
       "      <td>0</td>\n",
       "      <td>1</td>\n",
       "      <td>0</td>\n",
       "      <td>1</td>\n",
       "    </tr>\n",
       "    <tr>\n",
       "      <th>52</th>\n",
       "      <td>9</td>\n",
       "      <td>Whether Yara user or not</td>\n",
       "      <td>13</td>\n",
       "      <td>brands he generally buys</td>\n",
       "      <td>15</td>\n",
       "      <td>0</td>\n",
       "      <td>1</td>\n",
       "      <td>0</td>\n",
       "      <td>1</td>\n",
       "    </tr>\n",
       "    <tr>\n",
       "      <th>53</th>\n",
       "      <td>5</td>\n",
       "      <td>Common brands</td>\n",
       "      <td>13</td>\n",
       "      <td>brands he generally buys</td>\n",
       "      <td>15</td>\n",
       "      <td>0</td>\n",
       "      <td>1</td>\n",
       "      <td>0</td>\n",
       "      <td>1</td>\n",
       "    </tr>\n",
       "    <tr>\n",
       "      <th>54</th>\n",
       "      <td>5</td>\n",
       "      <td>this would be good for value generation, can w...</td>\n",
       "      <td>14</td>\n",
       "      <td>brands he generally buys</td>\n",
       "      <td>15</td>\n",
       "      <td>0</td>\n",
       "      <td>1</td>\n",
       "      <td>0</td>\n",
       "      <td>1</td>\n",
       "    </tr>\n",
       "    <tr>\n",
       "      <th>105</th>\n",
       "      <td>7</td>\n",
       "      <td>Starting to map out the ecosystem and suggesti...</td>\n",
       "      <td>12</td>\n",
       "      <td>name of town/market he normally sells at</td>\n",
       "      <td>21</td>\n",
       "      <td>0</td>\n",
       "      <td>1</td>\n",
       "      <td>0</td>\n",
       "      <td>1</td>\n",
       "    </tr>\n",
       "    <tr>\n",
       "      <th>59</th>\n",
       "      <td>4</td>\n",
       "      <td>can be an indication of customer loyalty, use ...</td>\n",
       "      <td>14</td>\n",
       "      <td>Has he bought Yara prdt in last season</td>\n",
       "      <td>18</td>\n",
       "      <td>0</td>\n",
       "      <td>1</td>\n",
       "      <td>1</td>\n",
       "      <td>0</td>\n",
       "    </tr>\n",
       "    <tr>\n",
       "      <th>61</th>\n",
       "      <td>4</td>\n",
       "      <td>what farmers are getting and price destruction</td>\n",
       "      <td>10</td>\n",
       "      <td>Has he bought Yara prdt in last season</td>\n",
       "      <td>18</td>\n",
       "      <td>0</td>\n",
       "      <td>1</td>\n",
       "      <td>1</td>\n",
       "      <td>0</td>\n",
       "    </tr>\n",
       "    <tr>\n",
       "      <th>62</th>\n",
       "      <td>9</td>\n",
       "      <td>Understand user persona/profile so that we hav...</td>\n",
       "      <td>12</td>\n",
       "      <td>Has he bought Yara prdt in last season</td>\n",
       "      <td>18</td>\n",
       "      <td>0</td>\n",
       "      <td>1</td>\n",
       "      <td>1</td>\n",
       "      <td>0</td>\n",
       "    </tr>\n",
       "    <tr>\n",
       "      <th>89</th>\n",
       "      <td>6</td>\n",
       "      <td>Understand portfolio awareness and whats worki...</td>\n",
       "      <td>12</td>\n",
       "      <td>other Yara apps he has heard about</td>\n",
       "      <td>23</td>\n",
       "      <td>1</td>\n",
       "      <td>0</td>\n",
       "      <td>0</td>\n",
       "      <td>1</td>\n",
       "    </tr>\n",
       "    <tr>\n",
       "      <th>33</th>\n",
       "      <td>5</td>\n",
       "      <td>Purchasing power of farmer</td>\n",
       "      <td>13</td>\n",
       "      <td>what info would help user most? top 3 choices</td>\n",
       "      <td>22</td>\n",
       "      <td>1</td>\n",
       "      <td>0</td>\n",
       "      <td>0</td>\n",
       "      <td>1</td>\n",
       "    </tr>\n",
       "    <tr>\n",
       "      <th>72</th>\n",
       "      <td>5</td>\n",
       "      <td>We can analyse the GTM strategy those apps use...</td>\n",
       "      <td>12</td>\n",
       "      <td>popular apps he uses</td>\n",
       "      <td>23</td>\n",
       "      <td>1</td>\n",
       "      <td>0</td>\n",
       "      <td>0</td>\n",
       "      <td>1</td>\n",
       "    </tr>\n",
       "    <tr>\n",
       "      <th>71</th>\n",
       "      <td>8</td>\n",
       "      <td>medium value as helps inform design requiremen...</td>\n",
       "      <td>11</td>\n",
       "      <td>popular apps he uses</td>\n",
       "      <td>23</td>\n",
       "      <td>1</td>\n",
       "      <td>0</td>\n",
       "      <td>0</td>\n",
       "      <td>1</td>\n",
       "    </tr>\n",
       "    <tr>\n",
       "      <th>101</th>\n",
       "      <td>7</td>\n",
       "      <td>Potential partnerships</td>\n",
       "      <td>12</td>\n",
       "      <td>Name of contract buyer</td>\n",
       "      <td>19</td>\n",
       "      <td>1</td>\n",
       "      <td>0</td>\n",
       "      <td>0</td>\n",
       "      <td>1</td>\n",
       "    </tr>\n",
       "    <tr>\n",
       "      <th>49</th>\n",
       "      <td>9</td>\n",
       "      <td>Consumer preference</td>\n",
       "      <td>13</td>\n",
       "      <td>does he buy generic / branded</td>\n",
       "      <td>15</td>\n",
       "      <td>1</td>\n",
       "      <td>0</td>\n",
       "      <td>0</td>\n",
       "      <td>1</td>\n",
       "    </tr>\n",
       "    <tr>\n",
       "      <th>63</th>\n",
       "      <td>2</td>\n",
       "      <td>Cost-benefit analysis and profitability (can b...</td>\n",
       "      <td>13</td>\n",
       "      <td>actual price farmer paid for Yara or non-Yara ...</td>\n",
       "      <td>16</td>\n",
       "      <td>1</td>\n",
       "      <td>0</td>\n",
       "      <td>0</td>\n",
       "      <td>1</td>\n",
       "    </tr>\n",
       "  </tbody>\n",
       "</table>\n",
       "</div>"
      ],
      "text/plain": [
       "     Value ID                                              Value  Team  \\\n",
       "32          3  Size/area of farm determines the volume of fer...    13   \n",
       "65          4     what farmers are getting and price destruction    10   \n",
       "104         1  Starting to map out the ecosystem and suggesti...    12   \n",
       "103         1  Marketplace knowledge for local marketing and ...    10   \n",
       "102         4  This whole section is very useful from a produ...    11   \n",
       "100         7   Key companies to work with for local team and DF    10   \n",
       "99          4  This whole section is very useful from a produ...    11   \n",
       "98          9  Understand user persona/profile so that we hav...    12   \n",
       "97          1                          Marketplace linked or not    10   \n",
       "96          4  This whole section is very useful from a produ...    11   \n",
       "87          6         good for cross-selling and lead generation    14   \n",
       "70          9  what is it about the app that engages the farm...    14   \n",
       "69          4  This will help product team to plan for future...    12   \n",
       "67          2  Extremely high value if expanded to cover more...    11   \n",
       "68          4     what farmers are getting and price destruction    10   \n",
       "56          4     what farmers are getting and price destruction    10   \n",
       "58          5  Best Yara Product portfolio - useful for Yarac...    13   \n",
       "35          5  Campaigns can be focused on what us the most h...    12   \n",
       "50          9                                        Brands used    10   \n",
       "52          9                           Whether Yara user or not    13   \n",
       "53          5                                      Common brands    13   \n",
       "54          5  this would be good for value generation, can w...    14   \n",
       "105         7  Starting to map out the ecosystem and suggesti...    12   \n",
       "59          4  can be an indication of customer loyalty, use ...    14   \n",
       "61          4     what farmers are getting and price destruction    10   \n",
       "62          9  Understand user persona/profile so that we hav...    12   \n",
       "89          6  Understand portfolio awareness and whats worki...    12   \n",
       "33          5                         Purchasing power of farmer    13   \n",
       "72          5  We can analyse the GTM strategy those apps use...    12   \n",
       "71          8  medium value as helps inform design requiremen...    11   \n",
       "101         7                             Potential partnerships    12   \n",
       "49          9                                Consumer preference    13   \n",
       "63          2  Cost-benefit analysis and profitability (can b...    13   \n",
       "\n",
       "                                          Primary_data  \\\n",
       "32       what info would help user most? top 3 choices   \n",
       "65   actual price farmer paid for Yara or non-Yara ...   \n",
       "104           name of town/market he normally sells at   \n",
       "103           name of town/market he normally sells at   \n",
       "102           name of town/market he normally sells at   \n",
       "100                             Name of contract buyer   \n",
       "99                              Name of contract buyer   \n",
       "98                            Is he a contract farmer?   \n",
       "97                            Is he a contract farmer?   \n",
       "96                            Is he a contract farmer?   \n",
       "87                  other Yara apps he has heard about   \n",
       "70                                popular apps he uses   \n",
       "69   how he makes payments (paytm, cash, bank accou...   \n",
       "67   how he makes payments (paytm, cash, bank accou...   \n",
       "68   how he makes payments (paytm, cash, bank accou...   \n",
       "56                            brands he generally buys   \n",
       "58              Has he bought Yara prdt in last season   \n",
       "35       what info would help user most? top 3 choices   \n",
       "50                       does he buy generic / branded   \n",
       "52                            brands he generally buys   \n",
       "53                            brands he generally buys   \n",
       "54                            brands he generally buys   \n",
       "105           name of town/market he normally sells at   \n",
       "59              Has he bought Yara prdt in last season   \n",
       "61              Has he bought Yara prdt in last season   \n",
       "62              Has he bought Yara prdt in last season   \n",
       "89                  other Yara apps he has heard about   \n",
       "33       what info would help user most? top 3 choices   \n",
       "72                                popular apps he uses   \n",
       "71                                popular apps he uses   \n",
       "101                             Name of contract buyer   \n",
       "49                       does he buy generic / branded   \n",
       "63   actual price farmer paid for Yara or non-Yara ...   \n",
       "\n",
       "     Farmer_profile_attribute  Priority_2  Priority_3  UI_UX complexity_1  \\\n",
       "32                         22           0           1                   0   \n",
       "65                         16           0           1                   0   \n",
       "104                        21           0           1                   0   \n",
       "103                        21           0           1                   0   \n",
       "102                        21           0           1                   0   \n",
       "100                        19           0           1                   0   \n",
       "99                         19           0           1                   0   \n",
       "98                         20           0           1                   0   \n",
       "97                         20           0           1                   0   \n",
       "96                         20           0           1                   0   \n",
       "87                         23           0           1                   0   \n",
       "70                         23           0           1                   0   \n",
       "69                         17           0           1                   0   \n",
       "67                         17           0           1                   0   \n",
       "68                         17           0           1                   0   \n",
       "56                         15           0           1                   0   \n",
       "58                         18           0           1                   1   \n",
       "35                         22           0           1                   0   \n",
       "50                         15           0           1                   0   \n",
       "52                         15           0           1                   0   \n",
       "53                         15           0           1                   0   \n",
       "54                         15           0           1                   0   \n",
       "105                        21           0           1                   0   \n",
       "59                         18           0           1                   1   \n",
       "61                         18           0           1                   1   \n",
       "62                         18           0           1                   1   \n",
       "89                         23           1           0                   0   \n",
       "33                         22           1           0                   0   \n",
       "72                         23           1           0                   0   \n",
       "71                         23           1           0                   0   \n",
       "101                        19           1           0                   0   \n",
       "49                         15           1           0                   0   \n",
       "63                         16           1           0                   0   \n",
       "\n",
       "     UI_UX complexity_2  \n",
       "32                    1  \n",
       "65                    1  \n",
       "104                   1  \n",
       "103                   1  \n",
       "102                   1  \n",
       "100                   1  \n",
       "99                    1  \n",
       "98                    1  \n",
       "97                    1  \n",
       "96                    1  \n",
       "87                    1  \n",
       "70                    1  \n",
       "69                    1  \n",
       "67                    1  \n",
       "68                    1  \n",
       "56                    1  \n",
       "58                    0  \n",
       "35                    1  \n",
       "50                    1  \n",
       "52                    1  \n",
       "53                    1  \n",
       "54                    1  \n",
       "105                   1  \n",
       "59                    0  \n",
       "61                    0  \n",
       "62                    0  \n",
       "89                    1  \n",
       "33                    1  \n",
       "72                    1  \n",
       "71                    1  \n",
       "101                   1  \n",
       "49                    1  \n",
       "63                    1  "
      ]
     },
     "execution_count": 70,
     "metadata": {},
     "output_type": "execute_result"
    }
   ],
   "source": [
    "# drawing sankey diagram\n",
    "# replacing Value ID, Team and Farmer_profile_attribute with numbers\n",
    "\n",
    "df_sankey = df_dv_dummies.copy()\n",
    "label =[]\n",
    "mapping = { 'blank':0,'crop_market':1,'farmer_finance':2,'fertilizer_appln':3,'fertilizer_purchase':4,\\\n",
    "           'gnc_gtm_mktg':5,'lead_generation':6,'partner_info':7,'prdt_develop':8,'user_behaviour':9}\n",
    "df_sankey['Value ID'] = df_sankey['Value ID'].apply(lambda x: mapping[x])\n",
    "label.extend(list(mapping.keys()))\n",
    "\n",
    "mapping = {'Prdt Sales':10,'Soln':11,'GnC':12,'DA':13,'DS Analyst':14}\n",
    "df_sankey['Team'] = df_sankey['Team'].apply(lambda x: mapping[x])\n",
    "label.extend(list(mapping.keys()))\n",
    "\n",
    "mapping = {'fertilizer_brand':15,'fertilizer_price':16,'payment_mode':17,'yara_customer':18,'buyer_name':19,\\\n",
    "           'contract_farmer':20,'market_location':21,'farming_topic':22,'user_apps':23}\n",
    "df_sankey['Farmer_profile_attribute'] = df_sankey['Farmer_profile_attribute'].apply(lambda x: mapping[x])\n",
    "label.extend(list(mapping.keys()))\n",
    "df_sankey"
   ]
  },
  {
   "cell_type": "code",
   "execution_count": 71,
   "metadata": {},
   "outputs": [
    {
     "data": {
      "text/plain": [
       "(33, 9)"
      ]
     },
     "execution_count": 71,
     "metadata": {},
     "output_type": "execute_result"
    }
   ],
   "source": [
    "df_sankey.shape"
   ]
  },
  {
   "cell_type": "code",
   "execution_count": 74,
   "metadata": {},
   "outputs": [
    {
     "data": {
      "application/vnd.plotly.v1+json": {
       "config": {
        "plotlyServerURL": "https://plot.ly"
       },
       "data": [
        {
         "link": {
          "source": [
           3,
           4,
           1,
           1,
           4,
           7,
           4,
           9,
           1,
           4,
           6,
           9,
           4,
           2,
           4,
           4,
           5,
           5,
           9,
           9,
           5,
           5,
           7,
           4,
           4,
           9,
           6,
           5,
           5,
           8,
           7,
           9,
           2,
           13,
           10,
           12,
           10,
           11,
           10,
           11,
           12,
           10,
           11,
           14,
           14,
           12,
           11,
           10,
           10,
           13,
           12,
           10,
           13,
           13,
           14,
           12,
           14,
           10,
           12,
           12,
           13,
           12,
           11,
           12,
           13,
           13
          ],
          "target": [
           13,
           10,
           12,
           10,
           11,
           10,
           11,
           12,
           10,
           11,
           14,
           14,
           12,
           11,
           10,
           10,
           13,
           12,
           10,
           13,
           13,
           14,
           12,
           14,
           10,
           12,
           12,
           13,
           12,
           11,
           12,
           13,
           13,
           22,
           16,
           21,
           21,
           21,
           19,
           19,
           20,
           20,
           20,
           23,
           23,
           17,
           17,
           17,
           15,
           18,
           22,
           15,
           15,
           15,
           15,
           21,
           18,
           18,
           18,
           23,
           22,
           23,
           23,
           19,
           15,
           16
          ],
          "value": [
           1,
           1,
           1,
           1,
           1,
           1,
           1,
           1,
           1,
           1,
           1,
           1,
           1,
           1,
           1,
           1,
           1,
           1,
           1,
           1,
           1,
           1,
           1,
           1,
           1,
           1,
           1,
           1,
           1,
           1,
           1,
           1,
           1,
           1,
           1,
           1,
           1,
           1,
           1,
           1,
           1,
           1,
           1,
           1,
           1,
           1,
           1,
           1,
           1,
           1,
           1,
           1,
           1,
           1,
           1,
           1,
           1,
           1,
           1,
           1,
           1,
           1,
           1,
           1,
           1,
           1
          ]
         },
         "node": {
          "label": [
           "blank",
           "crop_market",
           "farmer_finance",
           "fertilizer_appln",
           "fertilizer_purchase",
           "gnc_gtm_mktg",
           "lead_generation",
           "partner_info",
           "prdt_develop",
           "user_behaviour",
           "Prdt Sales",
           "Soln",
           "GnC",
           "DA",
           "DS Analyst",
           "fertilizer_brand",
           "fertilizer_price",
           "payment_mode",
           "yara_customer",
           "buyer_name",
           "contract_farmer",
           "market_location",
           "farming_topic",
           "user_apps"
          ],
          "pad": 15,
          "thickness": 5
         },
         "type": "sankey"
        }
       ],
       "layout": {
        "template": {
         "data": {
          "bar": [
           {
            "error_x": {
             "color": "#2a3f5f"
            },
            "error_y": {
             "color": "#2a3f5f"
            },
            "marker": {
             "line": {
              "color": "#E5ECF6",
              "width": 0.5
             }
            },
            "type": "bar"
           }
          ],
          "barpolar": [
           {
            "marker": {
             "line": {
              "color": "#E5ECF6",
              "width": 0.5
             }
            },
            "type": "barpolar"
           }
          ],
          "carpet": [
           {
            "aaxis": {
             "endlinecolor": "#2a3f5f",
             "gridcolor": "white",
             "linecolor": "white",
             "minorgridcolor": "white",
             "startlinecolor": "#2a3f5f"
            },
            "baxis": {
             "endlinecolor": "#2a3f5f",
             "gridcolor": "white",
             "linecolor": "white",
             "minorgridcolor": "white",
             "startlinecolor": "#2a3f5f"
            },
            "type": "carpet"
           }
          ],
          "choropleth": [
           {
            "colorbar": {
             "outlinewidth": 0,
             "ticks": ""
            },
            "type": "choropleth"
           }
          ],
          "contour": [
           {
            "colorbar": {
             "outlinewidth": 0,
             "ticks": ""
            },
            "colorscale": [
             [
              0,
              "#0d0887"
             ],
             [
              0.1111111111111111,
              "#46039f"
             ],
             [
              0.2222222222222222,
              "#7201a8"
             ],
             [
              0.3333333333333333,
              "#9c179e"
             ],
             [
              0.4444444444444444,
              "#bd3786"
             ],
             [
              0.5555555555555556,
              "#d8576b"
             ],
             [
              0.6666666666666666,
              "#ed7953"
             ],
             [
              0.7777777777777778,
              "#fb9f3a"
             ],
             [
              0.8888888888888888,
              "#fdca26"
             ],
             [
              1,
              "#f0f921"
             ]
            ],
            "type": "contour"
           }
          ],
          "contourcarpet": [
           {
            "colorbar": {
             "outlinewidth": 0,
             "ticks": ""
            },
            "type": "contourcarpet"
           }
          ],
          "heatmap": [
           {
            "colorbar": {
             "outlinewidth": 0,
             "ticks": ""
            },
            "colorscale": [
             [
              0,
              "#0d0887"
             ],
             [
              0.1111111111111111,
              "#46039f"
             ],
             [
              0.2222222222222222,
              "#7201a8"
             ],
             [
              0.3333333333333333,
              "#9c179e"
             ],
             [
              0.4444444444444444,
              "#bd3786"
             ],
             [
              0.5555555555555556,
              "#d8576b"
             ],
             [
              0.6666666666666666,
              "#ed7953"
             ],
             [
              0.7777777777777778,
              "#fb9f3a"
             ],
             [
              0.8888888888888888,
              "#fdca26"
             ],
             [
              1,
              "#f0f921"
             ]
            ],
            "type": "heatmap"
           }
          ],
          "heatmapgl": [
           {
            "colorbar": {
             "outlinewidth": 0,
             "ticks": ""
            },
            "colorscale": [
             [
              0,
              "#0d0887"
             ],
             [
              0.1111111111111111,
              "#46039f"
             ],
             [
              0.2222222222222222,
              "#7201a8"
             ],
             [
              0.3333333333333333,
              "#9c179e"
             ],
             [
              0.4444444444444444,
              "#bd3786"
             ],
             [
              0.5555555555555556,
              "#d8576b"
             ],
             [
              0.6666666666666666,
              "#ed7953"
             ],
             [
              0.7777777777777778,
              "#fb9f3a"
             ],
             [
              0.8888888888888888,
              "#fdca26"
             ],
             [
              1,
              "#f0f921"
             ]
            ],
            "type": "heatmapgl"
           }
          ],
          "histogram": [
           {
            "marker": {
             "colorbar": {
              "outlinewidth": 0,
              "ticks": ""
             }
            },
            "type": "histogram"
           }
          ],
          "histogram2d": [
           {
            "colorbar": {
             "outlinewidth": 0,
             "ticks": ""
            },
            "colorscale": [
             [
              0,
              "#0d0887"
             ],
             [
              0.1111111111111111,
              "#46039f"
             ],
             [
              0.2222222222222222,
              "#7201a8"
             ],
             [
              0.3333333333333333,
              "#9c179e"
             ],
             [
              0.4444444444444444,
              "#bd3786"
             ],
             [
              0.5555555555555556,
              "#d8576b"
             ],
             [
              0.6666666666666666,
              "#ed7953"
             ],
             [
              0.7777777777777778,
              "#fb9f3a"
             ],
             [
              0.8888888888888888,
              "#fdca26"
             ],
             [
              1,
              "#f0f921"
             ]
            ],
            "type": "histogram2d"
           }
          ],
          "histogram2dcontour": [
           {
            "colorbar": {
             "outlinewidth": 0,
             "ticks": ""
            },
            "colorscale": [
             [
              0,
              "#0d0887"
             ],
             [
              0.1111111111111111,
              "#46039f"
             ],
             [
              0.2222222222222222,
              "#7201a8"
             ],
             [
              0.3333333333333333,
              "#9c179e"
             ],
             [
              0.4444444444444444,
              "#bd3786"
             ],
             [
              0.5555555555555556,
              "#d8576b"
             ],
             [
              0.6666666666666666,
              "#ed7953"
             ],
             [
              0.7777777777777778,
              "#fb9f3a"
             ],
             [
              0.8888888888888888,
              "#fdca26"
             ],
             [
              1,
              "#f0f921"
             ]
            ],
            "type": "histogram2dcontour"
           }
          ],
          "mesh3d": [
           {
            "colorbar": {
             "outlinewidth": 0,
             "ticks": ""
            },
            "type": "mesh3d"
           }
          ],
          "parcoords": [
           {
            "line": {
             "colorbar": {
              "outlinewidth": 0,
              "ticks": ""
             }
            },
            "type": "parcoords"
           }
          ],
          "pie": [
           {
            "automargin": true,
            "type": "pie"
           }
          ],
          "scatter": [
           {
            "marker": {
             "colorbar": {
              "outlinewidth": 0,
              "ticks": ""
             }
            },
            "type": "scatter"
           }
          ],
          "scatter3d": [
           {
            "line": {
             "colorbar": {
              "outlinewidth": 0,
              "ticks": ""
             }
            },
            "marker": {
             "colorbar": {
              "outlinewidth": 0,
              "ticks": ""
             }
            },
            "type": "scatter3d"
           }
          ],
          "scattercarpet": [
           {
            "marker": {
             "colorbar": {
              "outlinewidth": 0,
              "ticks": ""
             }
            },
            "type": "scattercarpet"
           }
          ],
          "scattergeo": [
           {
            "marker": {
             "colorbar": {
              "outlinewidth": 0,
              "ticks": ""
             }
            },
            "type": "scattergeo"
           }
          ],
          "scattergl": [
           {
            "marker": {
             "colorbar": {
              "outlinewidth": 0,
              "ticks": ""
             }
            },
            "type": "scattergl"
           }
          ],
          "scattermapbox": [
           {
            "marker": {
             "colorbar": {
              "outlinewidth": 0,
              "ticks": ""
             }
            },
            "type": "scattermapbox"
           }
          ],
          "scatterpolar": [
           {
            "marker": {
             "colorbar": {
              "outlinewidth": 0,
              "ticks": ""
             }
            },
            "type": "scatterpolar"
           }
          ],
          "scatterpolargl": [
           {
            "marker": {
             "colorbar": {
              "outlinewidth": 0,
              "ticks": ""
             }
            },
            "type": "scatterpolargl"
           }
          ],
          "scatterternary": [
           {
            "marker": {
             "colorbar": {
              "outlinewidth": 0,
              "ticks": ""
             }
            },
            "type": "scatterternary"
           }
          ],
          "surface": [
           {
            "colorbar": {
             "outlinewidth": 0,
             "ticks": ""
            },
            "colorscale": [
             [
              0,
              "#0d0887"
             ],
             [
              0.1111111111111111,
              "#46039f"
             ],
             [
              0.2222222222222222,
              "#7201a8"
             ],
             [
              0.3333333333333333,
              "#9c179e"
             ],
             [
              0.4444444444444444,
              "#bd3786"
             ],
             [
              0.5555555555555556,
              "#d8576b"
             ],
             [
              0.6666666666666666,
              "#ed7953"
             ],
             [
              0.7777777777777778,
              "#fb9f3a"
             ],
             [
              0.8888888888888888,
              "#fdca26"
             ],
             [
              1,
              "#f0f921"
             ]
            ],
            "type": "surface"
           }
          ],
          "table": [
           {
            "cells": {
             "fill": {
              "color": "#EBF0F8"
             },
             "line": {
              "color": "white"
             }
            },
            "header": {
             "fill": {
              "color": "#C8D4E3"
             },
             "line": {
              "color": "white"
             }
            },
            "type": "table"
           }
          ]
         },
         "layout": {
          "annotationdefaults": {
           "arrowcolor": "#2a3f5f",
           "arrowhead": 0,
           "arrowwidth": 1
          },
          "coloraxis": {
           "colorbar": {
            "outlinewidth": 0,
            "ticks": ""
           }
          },
          "colorscale": {
           "diverging": [
            [
             0,
             "#8e0152"
            ],
            [
             0.1,
             "#c51b7d"
            ],
            [
             0.2,
             "#de77ae"
            ],
            [
             0.3,
             "#f1b6da"
            ],
            [
             0.4,
             "#fde0ef"
            ],
            [
             0.5,
             "#f7f7f7"
            ],
            [
             0.6,
             "#e6f5d0"
            ],
            [
             0.7,
             "#b8e186"
            ],
            [
             0.8,
             "#7fbc41"
            ],
            [
             0.9,
             "#4d9221"
            ],
            [
             1,
             "#276419"
            ]
           ],
           "sequential": [
            [
             0,
             "#0d0887"
            ],
            [
             0.1111111111111111,
             "#46039f"
            ],
            [
             0.2222222222222222,
             "#7201a8"
            ],
            [
             0.3333333333333333,
             "#9c179e"
            ],
            [
             0.4444444444444444,
             "#bd3786"
            ],
            [
             0.5555555555555556,
             "#d8576b"
            ],
            [
             0.6666666666666666,
             "#ed7953"
            ],
            [
             0.7777777777777778,
             "#fb9f3a"
            ],
            [
             0.8888888888888888,
             "#fdca26"
            ],
            [
             1,
             "#f0f921"
            ]
           ],
           "sequentialminus": [
            [
             0,
             "#0d0887"
            ],
            [
             0.1111111111111111,
             "#46039f"
            ],
            [
             0.2222222222222222,
             "#7201a8"
            ],
            [
             0.3333333333333333,
             "#9c179e"
            ],
            [
             0.4444444444444444,
             "#bd3786"
            ],
            [
             0.5555555555555556,
             "#d8576b"
            ],
            [
             0.6666666666666666,
             "#ed7953"
            ],
            [
             0.7777777777777778,
             "#fb9f3a"
            ],
            [
             0.8888888888888888,
             "#fdca26"
            ],
            [
             1,
             "#f0f921"
            ]
           ]
          },
          "colorway": [
           "#636efa",
           "#EF553B",
           "#00cc96",
           "#ab63fa",
           "#FFA15A",
           "#19d3f3",
           "#FF6692",
           "#B6E880",
           "#FF97FF",
           "#FECB52"
          ],
          "font": {
           "color": "#2a3f5f"
          },
          "geo": {
           "bgcolor": "white",
           "lakecolor": "white",
           "landcolor": "#E5ECF6",
           "showlakes": true,
           "showland": true,
           "subunitcolor": "white"
          },
          "hoverlabel": {
           "align": "left"
          },
          "hovermode": "closest",
          "mapbox": {
           "style": "light"
          },
          "paper_bgcolor": "white",
          "plot_bgcolor": "#E5ECF6",
          "polar": {
           "angularaxis": {
            "gridcolor": "white",
            "linecolor": "white",
            "ticks": ""
           },
           "bgcolor": "#E5ECF6",
           "radialaxis": {
            "gridcolor": "white",
            "linecolor": "white",
            "ticks": ""
           }
          },
          "scene": {
           "xaxis": {
            "backgroundcolor": "#E5ECF6",
            "gridcolor": "white",
            "gridwidth": 2,
            "linecolor": "white",
            "showbackground": true,
            "ticks": "",
            "zerolinecolor": "white"
           },
           "yaxis": {
            "backgroundcolor": "#E5ECF6",
            "gridcolor": "white",
            "gridwidth": 2,
            "linecolor": "white",
            "showbackground": true,
            "ticks": "",
            "zerolinecolor": "white"
           },
           "zaxis": {
            "backgroundcolor": "#E5ECF6",
            "gridcolor": "white",
            "gridwidth": 2,
            "linecolor": "white",
            "showbackground": true,
            "ticks": "",
            "zerolinecolor": "white"
           }
          },
          "shapedefaults": {
           "line": {
            "color": "#2a3f5f"
           }
          },
          "ternary": {
           "aaxis": {
            "gridcolor": "white",
            "linecolor": "white",
            "ticks": ""
           },
           "baxis": {
            "gridcolor": "white",
            "linecolor": "white",
            "ticks": ""
           },
           "bgcolor": "#E5ECF6",
           "caxis": {
            "gridcolor": "white",
            "linecolor": "white",
            "ticks": ""
           }
          },
          "title": {
           "x": 0.05
          },
          "xaxis": {
           "automargin": true,
           "gridcolor": "white",
           "linecolor": "white",
           "ticks": "",
           "title": {
            "standoff": 15
           },
           "zerolinecolor": "white",
           "zerolinewidth": 2
          },
          "yaxis": {
           "automargin": true,
           "gridcolor": "white",
           "linecolor": "white",
           "ticks": "",
           "title": {
            "standoff": 15
           },
           "zerolinecolor": "white",
           "zerolinewidth": 2
          }
         }
        },
        "title": {
         "text": "Distribution of Value ID with UI_UX complexity = 1 and 2 and Priority=High and Medium"
        }
       }
      },
      "text/html": [
       "<div>\n",
       "        \n",
       "        \n",
       "            <div id=\"bd86934e-6e0b-49b4-aa7e-1c40c06078a6\" class=\"plotly-graph-div\" style=\"height:525px; width:100%;\"></div>\n",
       "            <script type=\"text/javascript\">\n",
       "                require([\"plotly\"], function(Plotly) {\n",
       "                    window.PLOTLYENV=window.PLOTLYENV || {};\n",
       "                    \n",
       "                if (document.getElementById(\"bd86934e-6e0b-49b4-aa7e-1c40c06078a6\")) {\n",
       "                    Plotly.newPlot(\n",
       "                        'bd86934e-6e0b-49b4-aa7e-1c40c06078a6',\n",
       "                        [{\"link\": {\"source\": [3, 4, 1, 1, 4, 7, 4, 9, 1, 4, 6, 9, 4, 2, 4, 4, 5, 5, 9, 9, 5, 5, 7, 4, 4, 9, 6, 5, 5, 8, 7, 9, 2, 13, 10, 12, 10, 11, 10, 11, 12, 10, 11, 14, 14, 12, 11, 10, 10, 13, 12, 10, 13, 13, 14, 12, 14, 10, 12, 12, 13, 12, 11, 12, 13, 13], \"target\": [13, 10, 12, 10, 11, 10, 11, 12, 10, 11, 14, 14, 12, 11, 10, 10, 13, 12, 10, 13, 13, 14, 12, 14, 10, 12, 12, 13, 12, 11, 12, 13, 13, 22, 16, 21, 21, 21, 19, 19, 20, 20, 20, 23, 23, 17, 17, 17, 15, 18, 22, 15, 15, 15, 15, 21, 18, 18, 18, 23, 22, 23, 23, 19, 15, 16], \"value\": [1, 1, 1, 1, 1, 1, 1, 1, 1, 1, 1, 1, 1, 1, 1, 1, 1, 1, 1, 1, 1, 1, 1, 1, 1, 1, 1, 1, 1, 1, 1, 1, 1, 1, 1, 1, 1, 1, 1, 1, 1, 1, 1, 1, 1, 1, 1, 1, 1, 1, 1, 1, 1, 1, 1, 1, 1, 1, 1, 1, 1, 1, 1, 1, 1, 1]}, \"node\": {\"label\": [\"blank\", \"crop_market\", \"farmer_finance\", \"fertilizer_appln\", \"fertilizer_purchase\", \"gnc_gtm_mktg\", \"lead_generation\", \"partner_info\", \"prdt_develop\", \"user_behaviour\", \"Prdt Sales\", \"Soln\", \"GnC\", \"DA\", \"DS Analyst\", \"fertilizer_brand\", \"fertilizer_price\", \"payment_mode\", \"yara_customer\", \"buyer_name\", \"contract_farmer\", \"market_location\", \"farming_topic\", \"user_apps\"], \"pad\": 15, \"thickness\": 5}, \"type\": \"sankey\"}],\n",
       "                        {\"template\": {\"data\": {\"bar\": [{\"error_x\": {\"color\": \"#2a3f5f\"}, \"error_y\": {\"color\": \"#2a3f5f\"}, \"marker\": {\"line\": {\"color\": \"#E5ECF6\", \"width\": 0.5}}, \"type\": \"bar\"}], \"barpolar\": [{\"marker\": {\"line\": {\"color\": \"#E5ECF6\", \"width\": 0.5}}, \"type\": \"barpolar\"}], \"carpet\": [{\"aaxis\": {\"endlinecolor\": \"#2a3f5f\", \"gridcolor\": \"white\", \"linecolor\": \"white\", \"minorgridcolor\": \"white\", \"startlinecolor\": \"#2a3f5f\"}, \"baxis\": {\"endlinecolor\": \"#2a3f5f\", \"gridcolor\": \"white\", \"linecolor\": \"white\", \"minorgridcolor\": \"white\", \"startlinecolor\": \"#2a3f5f\"}, \"type\": \"carpet\"}], \"choropleth\": [{\"colorbar\": {\"outlinewidth\": 0, \"ticks\": \"\"}, \"type\": \"choropleth\"}], \"contour\": [{\"colorbar\": {\"outlinewidth\": 0, \"ticks\": \"\"}, \"colorscale\": [[0.0, \"#0d0887\"], [0.1111111111111111, \"#46039f\"], [0.2222222222222222, \"#7201a8\"], [0.3333333333333333, \"#9c179e\"], [0.4444444444444444, \"#bd3786\"], [0.5555555555555556, \"#d8576b\"], [0.6666666666666666, \"#ed7953\"], [0.7777777777777778, \"#fb9f3a\"], [0.8888888888888888, \"#fdca26\"], [1.0, \"#f0f921\"]], \"type\": \"contour\"}], \"contourcarpet\": [{\"colorbar\": {\"outlinewidth\": 0, \"ticks\": \"\"}, \"type\": \"contourcarpet\"}], \"heatmap\": [{\"colorbar\": {\"outlinewidth\": 0, \"ticks\": \"\"}, \"colorscale\": [[0.0, \"#0d0887\"], [0.1111111111111111, \"#46039f\"], [0.2222222222222222, \"#7201a8\"], [0.3333333333333333, \"#9c179e\"], [0.4444444444444444, \"#bd3786\"], [0.5555555555555556, \"#d8576b\"], [0.6666666666666666, \"#ed7953\"], [0.7777777777777778, \"#fb9f3a\"], [0.8888888888888888, \"#fdca26\"], [1.0, \"#f0f921\"]], \"type\": \"heatmap\"}], \"heatmapgl\": [{\"colorbar\": {\"outlinewidth\": 0, \"ticks\": \"\"}, \"colorscale\": [[0.0, \"#0d0887\"], [0.1111111111111111, \"#46039f\"], [0.2222222222222222, \"#7201a8\"], [0.3333333333333333, \"#9c179e\"], [0.4444444444444444, \"#bd3786\"], [0.5555555555555556, \"#d8576b\"], [0.6666666666666666, \"#ed7953\"], [0.7777777777777778, \"#fb9f3a\"], [0.8888888888888888, \"#fdca26\"], [1.0, \"#f0f921\"]], \"type\": \"heatmapgl\"}], \"histogram\": [{\"marker\": {\"colorbar\": {\"outlinewidth\": 0, \"ticks\": \"\"}}, \"type\": \"histogram\"}], \"histogram2d\": [{\"colorbar\": {\"outlinewidth\": 0, \"ticks\": \"\"}, \"colorscale\": [[0.0, \"#0d0887\"], [0.1111111111111111, \"#46039f\"], [0.2222222222222222, \"#7201a8\"], [0.3333333333333333, \"#9c179e\"], [0.4444444444444444, \"#bd3786\"], [0.5555555555555556, \"#d8576b\"], [0.6666666666666666, \"#ed7953\"], [0.7777777777777778, \"#fb9f3a\"], [0.8888888888888888, \"#fdca26\"], [1.0, \"#f0f921\"]], \"type\": \"histogram2d\"}], \"histogram2dcontour\": [{\"colorbar\": {\"outlinewidth\": 0, \"ticks\": \"\"}, \"colorscale\": [[0.0, \"#0d0887\"], [0.1111111111111111, \"#46039f\"], [0.2222222222222222, \"#7201a8\"], [0.3333333333333333, \"#9c179e\"], [0.4444444444444444, \"#bd3786\"], [0.5555555555555556, \"#d8576b\"], [0.6666666666666666, \"#ed7953\"], [0.7777777777777778, \"#fb9f3a\"], [0.8888888888888888, \"#fdca26\"], [1.0, \"#f0f921\"]], \"type\": \"histogram2dcontour\"}], \"mesh3d\": [{\"colorbar\": {\"outlinewidth\": 0, \"ticks\": \"\"}, \"type\": \"mesh3d\"}], \"parcoords\": [{\"line\": {\"colorbar\": {\"outlinewidth\": 0, \"ticks\": \"\"}}, \"type\": \"parcoords\"}], \"pie\": [{\"automargin\": true, \"type\": \"pie\"}], \"scatter\": [{\"marker\": {\"colorbar\": {\"outlinewidth\": 0, \"ticks\": \"\"}}, \"type\": \"scatter\"}], \"scatter3d\": [{\"line\": {\"colorbar\": {\"outlinewidth\": 0, \"ticks\": \"\"}}, \"marker\": {\"colorbar\": {\"outlinewidth\": 0, \"ticks\": \"\"}}, \"type\": \"scatter3d\"}], \"scattercarpet\": [{\"marker\": {\"colorbar\": {\"outlinewidth\": 0, \"ticks\": \"\"}}, \"type\": \"scattercarpet\"}], \"scattergeo\": [{\"marker\": {\"colorbar\": {\"outlinewidth\": 0, \"ticks\": \"\"}}, \"type\": \"scattergeo\"}], \"scattergl\": [{\"marker\": {\"colorbar\": {\"outlinewidth\": 0, \"ticks\": \"\"}}, \"type\": \"scattergl\"}], \"scattermapbox\": [{\"marker\": {\"colorbar\": {\"outlinewidth\": 0, \"ticks\": \"\"}}, \"type\": \"scattermapbox\"}], \"scatterpolar\": [{\"marker\": {\"colorbar\": {\"outlinewidth\": 0, \"ticks\": \"\"}}, \"type\": \"scatterpolar\"}], \"scatterpolargl\": [{\"marker\": {\"colorbar\": {\"outlinewidth\": 0, \"ticks\": \"\"}}, \"type\": \"scatterpolargl\"}], \"scatterternary\": [{\"marker\": {\"colorbar\": {\"outlinewidth\": 0, \"ticks\": \"\"}}, \"type\": \"scatterternary\"}], \"surface\": [{\"colorbar\": {\"outlinewidth\": 0, \"ticks\": \"\"}, \"colorscale\": [[0.0, \"#0d0887\"], [0.1111111111111111, \"#46039f\"], [0.2222222222222222, \"#7201a8\"], [0.3333333333333333, \"#9c179e\"], [0.4444444444444444, \"#bd3786\"], [0.5555555555555556, \"#d8576b\"], [0.6666666666666666, \"#ed7953\"], [0.7777777777777778, \"#fb9f3a\"], [0.8888888888888888, \"#fdca26\"], [1.0, \"#f0f921\"]], \"type\": \"surface\"}], \"table\": [{\"cells\": {\"fill\": {\"color\": \"#EBF0F8\"}, \"line\": {\"color\": \"white\"}}, \"header\": {\"fill\": {\"color\": \"#C8D4E3\"}, \"line\": {\"color\": \"white\"}}, \"type\": \"table\"}]}, \"layout\": {\"annotationdefaults\": {\"arrowcolor\": \"#2a3f5f\", \"arrowhead\": 0, \"arrowwidth\": 1}, \"coloraxis\": {\"colorbar\": {\"outlinewidth\": 0, \"ticks\": \"\"}}, \"colorscale\": {\"diverging\": [[0, \"#8e0152\"], [0.1, \"#c51b7d\"], [0.2, \"#de77ae\"], [0.3, \"#f1b6da\"], [0.4, \"#fde0ef\"], [0.5, \"#f7f7f7\"], [0.6, \"#e6f5d0\"], [0.7, \"#b8e186\"], [0.8, \"#7fbc41\"], [0.9, \"#4d9221\"], [1, \"#276419\"]], \"sequential\": [[0.0, \"#0d0887\"], [0.1111111111111111, \"#46039f\"], [0.2222222222222222, \"#7201a8\"], [0.3333333333333333, \"#9c179e\"], [0.4444444444444444, \"#bd3786\"], [0.5555555555555556, \"#d8576b\"], [0.6666666666666666, \"#ed7953\"], [0.7777777777777778, \"#fb9f3a\"], [0.8888888888888888, \"#fdca26\"], [1.0, \"#f0f921\"]], \"sequentialminus\": [[0.0, \"#0d0887\"], [0.1111111111111111, \"#46039f\"], [0.2222222222222222, \"#7201a8\"], [0.3333333333333333, \"#9c179e\"], [0.4444444444444444, \"#bd3786\"], [0.5555555555555556, \"#d8576b\"], [0.6666666666666666, \"#ed7953\"], [0.7777777777777778, \"#fb9f3a\"], [0.8888888888888888, \"#fdca26\"], [1.0, \"#f0f921\"]]}, \"colorway\": [\"#636efa\", \"#EF553B\", \"#00cc96\", \"#ab63fa\", \"#FFA15A\", \"#19d3f3\", \"#FF6692\", \"#B6E880\", \"#FF97FF\", \"#FECB52\"], \"font\": {\"color\": \"#2a3f5f\"}, \"geo\": {\"bgcolor\": \"white\", \"lakecolor\": \"white\", \"landcolor\": \"#E5ECF6\", \"showlakes\": true, \"showland\": true, \"subunitcolor\": \"white\"}, \"hoverlabel\": {\"align\": \"left\"}, \"hovermode\": \"closest\", \"mapbox\": {\"style\": \"light\"}, \"paper_bgcolor\": \"white\", \"plot_bgcolor\": \"#E5ECF6\", \"polar\": {\"angularaxis\": {\"gridcolor\": \"white\", \"linecolor\": \"white\", \"ticks\": \"\"}, \"bgcolor\": \"#E5ECF6\", \"radialaxis\": {\"gridcolor\": \"white\", \"linecolor\": \"white\", \"ticks\": \"\"}}, \"scene\": {\"xaxis\": {\"backgroundcolor\": \"#E5ECF6\", \"gridcolor\": \"white\", \"gridwidth\": 2, \"linecolor\": \"white\", \"showbackground\": true, \"ticks\": \"\", \"zerolinecolor\": \"white\"}, \"yaxis\": {\"backgroundcolor\": \"#E5ECF6\", \"gridcolor\": \"white\", \"gridwidth\": 2, \"linecolor\": \"white\", \"showbackground\": true, \"ticks\": \"\", \"zerolinecolor\": \"white\"}, \"zaxis\": {\"backgroundcolor\": \"#E5ECF6\", \"gridcolor\": \"white\", \"gridwidth\": 2, \"linecolor\": \"white\", \"showbackground\": true, \"ticks\": \"\", \"zerolinecolor\": \"white\"}}, \"shapedefaults\": {\"line\": {\"color\": \"#2a3f5f\"}}, \"ternary\": {\"aaxis\": {\"gridcolor\": \"white\", \"linecolor\": \"white\", \"ticks\": \"\"}, \"baxis\": {\"gridcolor\": \"white\", \"linecolor\": \"white\", \"ticks\": \"\"}, \"bgcolor\": \"#E5ECF6\", \"caxis\": {\"gridcolor\": \"white\", \"linecolor\": \"white\", \"ticks\": \"\"}}, \"title\": {\"x\": 0.05}, \"xaxis\": {\"automargin\": true, \"gridcolor\": \"white\", \"linecolor\": \"white\", \"ticks\": \"\", \"title\": {\"standoff\": 15}, \"zerolinecolor\": \"white\", \"zerolinewidth\": 2}, \"yaxis\": {\"automargin\": true, \"gridcolor\": \"white\", \"linecolor\": \"white\", \"ticks\": \"\", \"title\": {\"standoff\": 15}, \"zerolinecolor\": \"white\", \"zerolinewidth\": 2}}}, \"title\": {\"text\": \"Distribution of Value ID with UI_UX complexity = 1 and 2 and Priority=High and Medium\"}},\n",
       "                        {\"responsive\": true}\n",
       "                    ).then(function(){\n",
       "                            \n",
       "var gd = document.getElementById('bd86934e-6e0b-49b4-aa7e-1c40c06078a6');\n",
       "var x = new MutationObserver(function (mutations, observer) {{\n",
       "        var display = window.getComputedStyle(gd).display;\n",
       "        if (!display || display === 'none') {{\n",
       "            console.log([gd, 'removed!']);\n",
       "            Plotly.purge(gd);\n",
       "            observer.disconnect();\n",
       "        }}\n",
       "}});\n",
       "\n",
       "// Listen for the removal of the full notebook cells\n",
       "var notebookContainer = gd.closest('#notebook-container');\n",
       "if (notebookContainer) {{\n",
       "    x.observe(notebookContainer, {childList: true});\n",
       "}}\n",
       "\n",
       "// Listen for the clearing of the current output cell\n",
       "var outputEl = gd.closest('.output');\n",
       "if (outputEl) {{\n",
       "    x.observe(outputEl, {childList: true});\n",
       "}}\n",
       "\n",
       "                        })\n",
       "                };\n",
       "                });\n",
       "            </script>\n",
       "        </div>"
      ]
     },
     "metadata": {},
     "output_type": "display_data"
    }
   ],
   "source": [
    "# drawing sankey diagram\n",
    "source = list(df_sankey['Value ID'])+list(df_sankey['Team'])\n",
    "target = list(df_sankey['Team'])+list(df_sankey['Farmer_profile_attribute'])\n",
    "value = [1]*len(source)\n",
    "\n",
    "link = dict(source = source, target=target, value=value)\n",
    "node = dict(label=label, pad=15, thickness=5)\n",
    "data = go.Sankey(link = link, node = node)\n",
    "#plot\n",
    "fig = go.Figure(data)\n",
    "fig.update_layout(title='Distribution of Value ID with UI_UX complexity = 1 and 2 and Priority=High and Medium')\n",
    "fig.show()"
   ]
  },
  {
   "cell_type": "markdown",
   "metadata": {},
   "source": [
    "### Taking top 3 Value ID highlighted in bar polar chart, namely fertilizer_mktg, blank and user_behaviour"
   ]
  },
  {
   "cell_type": "code",
   "execution_count": null,
   "metadata": {
    "scrolled": true
   },
   "outputs": [],
   "source": [
    "# taking the top 3 Value ID that have been highlighted above namely, fertilizer_mktg, blank and user_behaviour\n",
    "\n",
    "df_shortlist_top3 = df_dv_shortlist[((df_dv_shortlist['Value ID']=='blank')\\\n",
    "                                |(df_dv_shortlist['Value ID']=='fertilizer_mktg')\\\n",
    "                                 |(df_dv_shortlist['Value ID']=='user_behaviour'))].sort_index()\n",
    "df_shortlist_top3"
   ]
  },
  {
   "cell_type": "code",
   "execution_count": null,
   "metadata": {},
   "outputs": [],
   "source": [
    "df_shortlist_top3.to_excel('shortlist_top3.xlsx')"
   ]
  },
  {
   "cell_type": "code",
   "execution_count": null,
   "metadata": {},
   "outputs": [],
   "source": [
    "df_shortlist_top3['Primary_data'].unique()"
   ]
  },
  {
   "cell_type": "code",
   "execution_count": null,
   "metadata": {},
   "outputs": [],
   "source": []
  },
  {
   "cell_type": "code",
   "execution_count": null,
   "metadata": {},
   "outputs": [],
   "source": []
  },
  {
   "cell_type": "code",
   "execution_count": null,
   "metadata": {},
   "outputs": [],
   "source": []
  },
  {
   "cell_type": "code",
   "execution_count": null,
   "metadata": {},
   "outputs": [],
   "source": [
    "#scatter plot\n",
    "\n",
    "fig = px.scatter(df_dv_shortlist, \n",
    "                 x=df_dv_shortlist['Value ID'],\n",
    "                 y=df_dv_shortlist['Farmer_profile_attribute'],\n",
    "                 color=df_dv_shortlist['Team'], \n",
    "                 size=df_dv_shortlist['Priority'])\n",
    "# px.layout.yaxis.ticklabels = 2\n",
    "fig.show()"
   ]
  },
  {
   "cell_type": "code",
   "execution_count": null,
   "metadata": {},
   "outputs": [],
   "source": []
  },
  {
   "cell_type": "code",
   "execution_count": null,
   "metadata": {},
   "outputs": [],
   "source": []
  },
  {
   "cell_type": "code",
   "execution_count": null,
   "metadata": {},
   "outputs": [],
   "source": []
  },
  {
   "cell_type": "code",
   "execution_count": null,
   "metadata": {},
   "outputs": [],
   "source": []
  },
  {
   "cell_type": "code",
   "execution_count": null,
   "metadata": {},
   "outputs": [],
   "source": [
    "#scatter diagram \n",
    "\n",
    "px.scatter(df_dv_shortlist, x='Value ID', y='UI_UX complexity', color=\"Team\", size=\"Priority\", \n",
    "           facet_col='Team',size_max=60)"
   ]
  },
  {
   "cell_type": "code",
   "execution_count": null,
   "metadata": {},
   "outputs": [],
   "source": []
  },
  {
   "cell_type": "code",
   "execution_count": null,
   "metadata": {},
   "outputs": [],
   "source": []
  },
  {
   "cell_type": "code",
   "execution_count": null,
   "metadata": {},
   "outputs": [],
   "source": []
  },
  {
   "cell_type": "code",
   "execution_count": null,
   "metadata": {},
   "outputs": [],
   "source": []
  },
  {
   "cell_type": "code",
   "execution_count": null,
   "metadata": {},
   "outputs": [],
   "source": []
  },
  {
   "cell_type": "code",
   "execution_count": null,
   "metadata": {},
   "outputs": [],
   "source": []
  },
  {
   "cell_type": "code",
   "execution_count": null,
   "metadata": {},
   "outputs": [],
   "source": []
  },
  {
   "cell_type": "code",
   "execution_count": null,
   "metadata": {},
   "outputs": [],
   "source": [
    "cmap = sns.cubehelix_palette(dark=.3, light=.8, as_cmap=True)\n",
    "\n",
    "ax = sns.scatterplot(x=\"Value ID\", y=\"UI_UX complexity\",\n",
    "\n",
    "                     hue=\"Priority\", size=\"Team\",\n",
    "\n",
    "                     sizes=(20, 200), hue_norm=(0, 7),\n",
    "\n",
    "                     legend=\"full\", data=df_dv)"
   ]
  },
  {
   "cell_type": "code",
   "execution_count": null,
   "metadata": {},
   "outputs": [],
   "source": []
  },
  {
   "cell_type": "code",
   "execution_count": null,
   "metadata": {},
   "outputs": [],
   "source": []
  },
  {
   "cell_type": "code",
   "execution_count": null,
   "metadata": {},
   "outputs": [],
   "source": []
  },
  {
   "cell_type": "code",
   "execution_count": null,
   "metadata": {},
   "outputs": [],
   "source": []
  },
  {
   "cell_type": "code",
   "execution_count": null,
   "metadata": {},
   "outputs": [],
   "source": []
  },
  {
   "cell_type": "code",
   "execution_count": null,
   "metadata": {},
   "outputs": [],
   "source": []
  },
  {
   "cell_type": "code",
   "execution_count": null,
   "metadata": {},
   "outputs": [],
   "source": []
  },
  {
   "cell_type": "code",
   "execution_count": null,
   "metadata": {},
   "outputs": [],
   "source": []
  },
  {
   "cell_type": "code",
   "execution_count": null,
   "metadata": {},
   "outputs": [],
   "source": []
  },
  {
   "cell_type": "code",
   "execution_count": null,
   "metadata": {},
   "outputs": [],
   "source": []
  },
  {
   "cell_type": "code",
   "execution_count": null,
   "metadata": {},
   "outputs": [],
   "source": []
  },
  {
   "cell_type": "code",
   "execution_count": null,
   "metadata": {},
   "outputs": [],
   "source": []
  },
  {
   "cell_type": "code",
   "execution_count": null,
   "metadata": {},
   "outputs": [],
   "source": []
  },
  {
   "cell_type": "code",
   "execution_count": null,
   "metadata": {},
   "outputs": [],
   "source": []
  },
  {
   "cell_type": "code",
   "execution_count": null,
   "metadata": {},
   "outputs": [],
   "source": []
  },
  {
   "cell_type": "code",
   "execution_count": null,
   "metadata": {},
   "outputs": [],
   "source": []
  },
  {
   "cell_type": "code",
   "execution_count": null,
   "metadata": {},
   "outputs": [],
   "source": []
  },
  {
   "cell_type": "code",
   "execution_count": null,
   "metadata": {},
   "outputs": [],
   "source": []
  },
  {
   "cell_type": "code",
   "execution_count": null,
   "metadata": {},
   "outputs": [],
   "source": []
  },
  {
   "cell_type": "code",
   "execution_count": null,
   "metadata": {},
   "outputs": [],
   "source": []
  },
  {
   "cell_type": "code",
   "execution_count": null,
   "metadata": {},
   "outputs": [],
   "source": []
  },
  {
   "cell_type": "code",
   "execution_count": null,
   "metadata": {},
   "outputs": [],
   "source": []
  },
  {
   "cell_type": "code",
   "execution_count": null,
   "metadata": {},
   "outputs": [],
   "source": []
  },
  {
   "cell_type": "code",
   "execution_count": null,
   "metadata": {},
   "outputs": [],
   "source": []
  },
  {
   "cell_type": "code",
   "execution_count": null,
   "metadata": {},
   "outputs": [],
   "source": []
  }
 ],
 "metadata": {
  "kernelspec": {
   "display_name": "Python 3",
   "language": "python",
   "name": "python3"
  },
  "language_info": {
   "codemirror_mode": {
    "name": "ipython",
    "version": 3
   },
   "file_extension": ".py",
   "mimetype": "text/x-python",
   "name": "python",
   "nbconvert_exporter": "python",
   "pygments_lexer": "ipython3",
   "version": "3.7.6"
  }
 },
 "nbformat": 4,
 "nbformat_minor": 4
}
